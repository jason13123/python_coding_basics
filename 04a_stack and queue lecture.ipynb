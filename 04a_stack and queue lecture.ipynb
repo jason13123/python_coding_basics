{
 "cells": [
  {
   "cell_type": "markdown",
   "id": "4b622d23",
   "metadata": {},
   "source": [
    "## Stack and Queue"
   ]
  },
  {
   "cell_type": "markdown",
   "id": "c5805ab8",
   "metadata": {},
   "source": [
    "### Stack"
   ]
  },
  {
   "cell_type": "markdown",
   "id": "da3b3d47",
   "metadata": {},
   "source": [
    "**Stack: first in last out or last in first out**\n",
    "\n",
    "![alt_text](images/Stack_v01_unit_04_img_001.74a3f460.png)\n",
    "\n",
    "![alt_text](images/Stack_v01_unit_04_img_002.d15b8231.png)"
   ]
  },
  {
   "cell_type": "markdown",
   "id": "a70a055b",
   "metadata": {},
   "source": [
    "### Class & Object Oriented Programming\n",
    "\n",
    "**[Brief intro to class/OOP](https://docs.python.org/3/tutorial/classes.html)**"
   ]
  },
  {
   "cell_type": "code",
   "execution_count": 1,
   "id": "04726c9b",
   "metadata": {},
   "outputs": [],
   "source": [
    "class myStack:\n",
    "    def __init__(self):\n",
    "         self.items = []\n",
    "         # Alist/nums\n",
    "    def push(self, item):\n",
    "         self.items.append(item)\n",
    "\n",
    "    def pop(self):\n",
    "         return self.items.pop()\n",
    "\n",
    "    def peek(self):\n",
    "         return self.items[len(self.items)-1]\n",
    "\n",
    "    def size(self):\n",
    "         return len(self.items)\n",
    "    def fun(self):\n",
    "        return"
   ]
  },
  {
   "cell_type": "markdown",
   "id": "df0bd37c",
   "metadata": {},
   "source": [
    "we have created a new Class, which is a myStack.\n",
    "\n",
    "I can create an instance/instances of this Class with some attributes/features.\n",
    "\n",
    "The class has some methods/functions that can be called by the instances."
   ]
  },
  {
   "cell_type": "code",
   "execution_count": 3,
   "id": "fee7e9ff",
   "metadata": {},
   "outputs": [
    {
     "name": "stdout",
     "output_type": "stream",
     "text": [
      "<class '__main__.myStack'>\n"
     ]
    }
   ],
   "source": [
    "print (myStack) #now stack is a class saved in memory"
   ]
  },
  {
   "cell_type": "code",
   "execution_count": 4,
   "id": "a0cf09aa",
   "metadata": {},
   "outputs": [
    {
     "ename": "NameError",
     "evalue": "name 'push' is not defined",
     "output_type": "error",
     "traceback": [
      "\u001b[0;31m---------------------------------------------------------------------------\u001b[0m",
      "\u001b[0;31mNameError\u001b[0m                                 Traceback (most recent call last)",
      "Input \u001b[0;32mIn [4]\u001b[0m, in \u001b[0;36m<cell line: 1>\u001b[0;34m()\u001b[0m\n\u001b[0;32m----> 1\u001b[0m \u001b[43mpush\u001b[49m()\n",
      "\u001b[0;31mNameError\u001b[0m: name 'push' is not defined"
     ]
    }
   ],
   "source": [
    "push() #the method is not defined outside a Class"
   ]
  },
  {
   "cell_type": "code",
   "execution_count": 5,
   "id": "38dd9042",
   "metadata": {},
   "outputs": [
    {
     "name": "stdout",
     "output_type": "stream",
     "text": [
      "stack_1 is  <__main__.myStack object at 0x7f84987e9520>\n",
      "myStack is  <class '__main__.myStack'>\n"
     ]
    }
   ],
   "source": [
    "stack_1 = myStack() #stack1 in one instance of myStack() class  alist = []\n",
    "print (\"stack_1 is \", stack_1) #stack_1 is now saved as a instance.\n",
    "print (\"myStack is \", myStack)"
   ]
  },
  {
   "cell_type": "markdown",
   "id": "e0d84458",
   "metadata": {},
   "source": [
    "stack_1 has some methods\n",
    "\n",
    "init( ) is the default function for initializations\n",
    "\n",
    "push( ), pop( ), peek( ) and size( ) are functions we created and named. We can create more if needed"
   ]
  },
  {
   "cell_type": "code",
   "execution_count": 6,
   "id": "db2f014a",
   "metadata": {},
   "outputs": [],
   "source": [
    "stack_1 = myStack()\n",
    "stack_1.push('a')\n",
    "stack_1.push('b')\n",
    "stack_1.push('c')"
   ]
  },
  {
   "cell_type": "code",
   "execution_count": 7,
   "id": "7a53c3d8",
   "metadata": {},
   "outputs": [
    {
     "name": "stdout",
     "output_type": "stream",
     "text": [
      "<__main__.myStack object at 0x7f84986dfbe0>\n"
     ]
    }
   ],
   "source": [
    "print (stack_1)"
   ]
  },
  {
   "cell_type": "code",
   "execution_count": 8,
   "id": "7cb85bf0",
   "metadata": {},
   "outputs": [
    {
     "data": {
      "text/plain": [
       "'c'"
      ]
     },
     "execution_count": 8,
     "metadata": {},
     "output_type": "execute_result"
    }
   ],
   "source": [
    "stack_1.peek()"
   ]
  },
  {
   "cell_type": "code",
   "execution_count": 10,
   "id": "5a5c419e",
   "metadata": {},
   "outputs": [
    {
     "data": {
      "text/plain": [
       "['a', 'b', 'c']"
      ]
     },
     "execution_count": 10,
     "metadata": {},
     "output_type": "execute_result"
    }
   ],
   "source": [
    "stack_1.items"
   ]
  },
  {
   "cell_type": "code",
   "execution_count": 11,
   "id": "85c11d7b",
   "metadata": {},
   "outputs": [
    {
     "data": {
      "text/plain": [
       "'c'"
      ]
     },
     "execution_count": 11,
     "metadata": {},
     "output_type": "execute_result"
    }
   ],
   "source": [
    "stack_1.pop()"
   ]
  },
  {
   "cell_type": "code",
   "execution_count": 12,
   "id": "f99452ea",
   "metadata": {},
   "outputs": [
    {
     "data": {
      "text/plain": [
       "['a', 'b']"
      ]
     },
     "execution_count": 12,
     "metadata": {},
     "output_type": "execute_result"
    }
   ],
   "source": [
    "stack_1.items"
   ]
  },
  {
   "cell_type": "code",
   "execution_count": 13,
   "id": "39e6c40f",
   "metadata": {},
   "outputs": [
    {
     "data": {
      "text/plain": [
       "2"
      ]
     },
     "execution_count": 13,
     "metadata": {},
     "output_type": "execute_result"
    }
   ],
   "source": [
    "stack_1.size()"
   ]
  },
  {
   "cell_type": "code",
   "execution_count": 14,
   "id": "721318f9",
   "metadata": {},
   "outputs": [],
   "source": [
    "stack_2 = myStack()\n",
    "stack_2.push('a')\n",
    "stack_2.push('b')\n",
    "stack_2.push('c')\n",
    "stack_2.push('d')\n",
    "stack_2.push('e')"
   ]
  },
  {
   "cell_type": "code",
   "execution_count": 15,
   "id": "8269a2f7",
   "metadata": {},
   "outputs": [
    {
     "data": {
      "text/plain": [
       "'e'"
      ]
     },
     "execution_count": 15,
     "metadata": {},
     "output_type": "execute_result"
    }
   ],
   "source": [
    "stack_2.peek()"
   ]
  },
  {
   "cell_type": "code",
   "execution_count": 16,
   "id": "26c9e0e2",
   "metadata": {},
   "outputs": [
    {
     "data": {
      "text/plain": [
       "'e'"
      ]
     },
     "execution_count": 16,
     "metadata": {},
     "output_type": "execute_result"
    }
   ],
   "source": [
    "stack_2.pop()"
   ]
  },
  {
   "cell_type": "code",
   "execution_count": 17,
   "id": "d966e689",
   "metadata": {},
   "outputs": [
    {
     "data": {
      "text/plain": [
       "['a', 'b', 'c', 'd']"
      ]
     },
     "execution_count": 17,
     "metadata": {},
     "output_type": "execute_result"
    }
   ],
   "source": [
    "stack_2.items"
   ]
  },
  {
   "cell_type": "markdown",
   "id": "977a49dc",
   "metadata": {},
   "source": [
    "### Example: Design a Stack With Increment Operation\n",
    "[1381. Design a Stack With Increment Operation](https://leetcode.com/problems/design-a-stack-with-increment-operation/)\n",
    "\n",
    "**Description:**\n",
    "\n",
    "Design a stack which supports the following operations.\n",
    "\n",
    "Implement the CustomStack class:\n",
    "\n",
    "- CustomStack(int maxSize) Initializes the object with maxSize which is the maximum number of elements in the stack or do nothing if the stack reached the maxSize.\n",
    "- void push(int x) Adds x to the top of the stack if the stack hasn't reached the maxSize.\n",
    "- int pop() Pops and returns the top of stack or -1 if the stack is empty.\n",
    "- void inc(int k, int val) Increments the bottom k elements of the stack by val. If there are less than k elements in the stack, just increment all the elements in the stack.\n",
    "\n",
    "\n",
    "**Note:**\n",
    "\n",
    "\n",
    "**Example 1:**\n",
    "\n",
    "**Input**\n",
    "\n",
    "[\"CustomStack\",\"push\",\"push\",\"pop\",\"push\",\"push\",\"push\",\"increment\",\"increment\",\"pop\",\"pop\",\"pop\",\"pop\"]\n",
    "[[3],[1],[2],[],[2],[3],[4],[5,100],[2,100],[],[],[],[]]\n",
    "\n",
    "**Output**\n",
    "\n",
    "[null,null,null,2,null,null,null,null,null,103,202,201,-1]\n",
    "\n",
    "**Explanation**\n",
    "\n",
    "CustomStack customStack = new CustomStack(3); // Stack is Empty []\n",
    "\n",
    "customStack.push(1);                          // stack becomes [1]\n",
    "\n",
    "customStack.push(2);                          // stack becomes [1, 2]\n",
    "\n",
    "customStack.pop();                            // return 2 --> Return top of the stack 2, stack becomes [1]\n",
    "\n",
    "customStack.push(2);                          // stack becomes [1, 2]\n",
    "\n",
    "customStack.push(3);                          // stack becomes [1, 2, 3]\n",
    "\n",
    "customStack.push(4);                          // stack still [1, 2, 3], Don't add another elements as size is 4\n",
    "\n",
    "customStack.increment(5, 100);                // stack becomes [101, 102, 103]\n",
    "\n",
    "customStack.increment(2, 100);                // stack becomes [201, 202, 103]\n",
    "\n",
    "customStack.pop();                            // return 103 --> Return top of the stack 103, stack becomes [201, 202]\n",
    "customStack.pop();                            // return 202 --> Return top of the stack 102, stack becomes [201]\n",
    "\n",
    "customStack.pop();                            // return 201 --> Return top of the stack 101, stack becomes []\n",
    "\n",
    "customStack.pop();                            // return -1 --> Stack is empty return -1.\n",
    "\n",
    "\n",
    "**Constraints:**\n",
    "\n",
    "- 1 <= maxSize <= 1000\n",
    "- 1 <= x <= 1000\n",
    "- 1 <= k <= 1000\n",
    "- 0 <= val <= 100\n",
    "- At most 1000 calls will be made to each method of increment, push and pop each separately."
   ]
  },
  {
   "cell_type": "code",
   "execution_count": 36,
   "id": "2ffa4013",
   "metadata": {},
   "outputs": [],
   "source": [
    "class CustomStack:\n",
    "\n",
    "    def __init__(self, maxSize: int):\n",
    "        self.stack = []\n",
    "        self.max = maxSize\n",
    "        \n",
    "\n",
    "    def push(self, x: int) -> None:\n",
    "        if len(self.stack) < self.max:\n",
    "            self.stack.append(x)\n",
    "        \n",
    "\n",
    "    def pop(self) -> int:\n",
    "        if len(self.stack) > 0:\n",
    "            return self.stack.pop()\n",
    "        else:\n",
    "            return -1\n",
    "        \n",
    "\n",
    "    def increment(self, k: int, val: int) -> None:\n",
    "        if len(self.stack) <= k:\n",
    "            self.stack = [num + val for num in self.stack][:]\n",
    "        else:\n",
    "            for index in range(k):\n",
    "                self.stack[index] += val\n",
    "                \n",
    "\n",
    "                \n",
    "            \n",
    "        \n",
    "\n",
    "\n",
    "# Your CustomStack object will be instantiated and called as such:\n",
    "# obj = CustomStack(maxSize)\n",
    "# obj.push(x)\n",
    "# param_2 = obj.pop()\n",
    "# obj.increment(k,val)"
   ]
  },
  {
   "cell_type": "code",
   "execution_count": 41,
   "id": "0b511f07",
   "metadata": {},
   "outputs": [
    {
     "name": "stdout",
     "output_type": "stream",
     "text": [
      "[1, 2]\n",
      "[1, 2, 3]\n",
      "[101, 102, 103]\n",
      "103\n",
      "202\n",
      "201\n",
      "-1\n"
     ]
    }
   ],
   "source": [
    "customStack = CustomStack(3)\n",
    "customStack.push(1)\n",
    "customStack.push(2)\n",
    "print(customStack.stack)\n",
    "customStack.pop()\n",
    "customStack.push(2)\n",
    "customStack.push(3)\n",
    "customStack.push(4)\n",
    "print(customStack.stack)\n",
    "customStack.increment(5, 100)\n",
    "print(customStack.stack)\n",
    "customStack.increment(2, 100)\n",
    "print(customStack.pop())\n",
    "print(customStack.pop())\n",
    "print(customStack.pop())\n",
    "print(customStack.pop())\n"
   ]
  },
  {
   "cell_type": "markdown",
   "id": "c43abd0b",
   "metadata": {},
   "source": [
    "**Lecture Solution**"
   ]
  },
  {
   "cell_type": "code",
   "execution_count": 42,
   "id": "53cc4a81",
   "metadata": {},
   "outputs": [],
   "source": [
    "class CustomStack(object):\n",
    "\n",
    "    def __init__(self, maxSize):\n",
    "        \"\"\"\n",
    "        :type maxSize: int\n",
    "        \"\"\"\n",
    "        # some features of this class\n",
    "        # we initialize this CustomStack as a list.\n",
    "        self.stack = []\n",
    "        self.size = maxSize\n",
    "\n",
    "    def push(self, x):\n",
    "        \"\"\"\n",
    "        :type x: int\n",
    "        :rtype: None\n",
    "        \"\"\"\n",
    "        if len(self.stack) < self.size:\n",
    "            self.stack.append(x)\n",
    "        \n",
    "    def pop(self):\n",
    "        \"\"\"\n",
    "        :rtype: int\n",
    "        \"\"\"\n",
    "        if len(self.stack) > 0: #if self.stack:\n",
    "            return self.stack.pop()\n",
    "        else:\n",
    "            return -1\n",
    "\n",
    "    def increment(self, k, val):\n",
    "        \"\"\"\n",
    "        :type k: int\n",
    "        :type val: int\n",
    "        :rtype: None\n",
    "        \"\"\"\n",
    "        count = min(k, len(self.stack))\n",
    "        \n",
    "        for i in range(count):\n",
    "            self.stack[i] += val"
   ]
  },
  {
   "cell_type": "markdown",
   "id": "babc64eb",
   "metadata": {},
   "source": [
    "### Queue"
   ]
  },
  {
   "cell_type": "markdown",
   "id": "fa1c51ba",
   "metadata": {},
   "source": [
    "**Queue: First in first out or last in last out**\n",
    "\n",
    "![alt_text](images/Queue_v01_unit_04_img_001.86fb3a5f.png)"
   ]
  },
  {
   "cell_type": "markdown",
   "id": "3645cbba",
   "metadata": {},
   "source": [
    "**insert(0,x) with pop()**"
   ]
  },
  {
   "cell_type": "code",
   "execution_count": 43,
   "id": "983eddb5",
   "metadata": {},
   "outputs": [
    {
     "data": {
      "text/plain": [
       "[2, 1]"
      ]
     },
     "execution_count": 43,
     "metadata": {},
     "output_type": "execute_result"
    }
   ],
   "source": [
    "alist = []\n",
    "alist.insert(0,1)\n",
    "alist.insert(0,2)\n",
    "alist"
   ]
  },
  {
   "cell_type": "code",
   "execution_count": 44,
   "id": "78b5199a",
   "metadata": {},
   "outputs": [
    {
     "data": {
      "text/plain": [
       "1"
      ]
     },
     "execution_count": 44,
     "metadata": {},
     "output_type": "execute_result"
    }
   ],
   "source": [
    "alist.pop()"
   ]
  },
  {
   "cell_type": "markdown",
   "id": "245bb673",
   "metadata": {},
   "source": [
    "**append() with pop(0) // Note, stack is using append() and pop()**"
   ]
  },
  {
   "cell_type": "code",
   "execution_count": 45,
   "id": "46d5a45e",
   "metadata": {},
   "outputs": [
    {
     "data": {
      "text/plain": [
       "[1, 2]"
      ]
     },
     "execution_count": 45,
     "metadata": {},
     "output_type": "execute_result"
    }
   ],
   "source": [
    "alist = []\n",
    "alist.append(1)\n",
    "alist.append(2)\n",
    "alist"
   ]
  },
  {
   "cell_type": "markdown",
   "id": "2e053be3",
   "metadata": {},
   "source": [
    "**#The argument 0 is a MUST!**"
   ]
  },
  {
   "cell_type": "code",
   "execution_count": 46,
   "id": "ee9b7320",
   "metadata": {},
   "outputs": [
    {
     "data": {
      "text/plain": [
       "1"
      ]
     },
     "execution_count": 46,
     "metadata": {},
     "output_type": "execute_result"
    }
   ],
   "source": [
    "alist.pop(0)"
   ]
  },
  {
   "cell_type": "code",
   "execution_count": 47,
   "id": "2a349107",
   "metadata": {},
   "outputs": [
    {
     "data": {
      "text/plain": [
       "[2]"
      ]
     },
     "execution_count": 47,
     "metadata": {},
     "output_type": "execute_result"
    }
   ],
   "source": [
    "alist"
   ]
  },
  {
   "cell_type": "code",
   "execution_count": 48,
   "id": "5518b8fd",
   "metadata": {},
   "outputs": [],
   "source": [
    "class Queue:\n",
    "    def __init__(self):\n",
    "        self.items = []\n",
    "\n",
    "    def enqueue(self, item):\n",
    "        self.items.insert(0,item)\n",
    "\n",
    "    def dequeue(self):\n",
    "        return self.items.pop()\n",
    "\n",
    "    def size(self):\n",
    "        return len(self.items)"
   ]
  },
  {
   "cell_type": "markdown",
   "id": "1e64981b",
   "metadata": {},
   "source": [
    "**If you do Queue in this way, you may fail an interview! Why?**\n",
    "\n",
    "You have to know the feature of each data structure.\n",
    "\n",
    "Enqueue and Dequeue operations should be O(1), however, insert(0, item) or pop(0) takes O(n).\n",
    "\n",
    "For more information, please go the following webs to see the time complexity of each data structure and time complexity of python operations."
   ]
  },
  {
   "cell_type": "markdown",
   "id": "6b5b4397",
   "metadata": {},
   "source": [
    "**Further Reading**\n",
    "\n",
    "[Big O Notation](https://www.bigocheatsheet.com/)\n",
    "\n",
    "[Time Complexity](https://wiki.python.org/moin/TimeComplexity)"
   ]
  },
  {
   "cell_type": "markdown",
   "id": "396e8a15",
   "metadata": {},
   "source": [
    "### Deque"
   ]
  },
  {
   "cell_type": "markdown",
   "id": "f41479b1",
   "metadata": {},
   "source": [
    "**How to use stack and queue in practice?**\n",
    "\n",
    "![alt_text](images/Deque_v01_unit_04_img_001.9c9aabee.png)"
   ]
  },
  {
   "cell_type": "markdown",
   "id": "cb2eeb86",
   "metadata": {},
   "source": [
    "Use list as a stack, append() is the push, pop() is the pop. Both methods implement O(1) time complexity."
   ]
  },
  {
   "cell_type": "code",
   "execution_count": 1,
   "id": "f30116c1",
   "metadata": {},
   "outputs": [
    {
     "name": "stdout",
     "output_type": "stream",
     "text": [
      "[1, 2, 3]\n",
      "the poped element: 3\n",
      "[1, 2]\n"
     ]
    }
   ],
   "source": [
    "stack = []\n",
    "stack.append(1)\n",
    "stack.append(2)\n",
    "stack.append(3)\n",
    "print (stack)\n",
    "the_poped_ele = stack.pop()\n",
    "print (\"the poped element:\", the_poped_ele)\n",
    "print (stack)"
   ]
  },
  {
   "cell_type": "markdown",
   "id": "98622e3d",
   "metadata": {},
   "source": [
    "Use deque as a queue, append() is the enqueue, popleft() is the Dequeue. Both methods implement O(1) time complexity.\n",
    "\n",
    "**Note:**, use insert (list method) for enqueue could achieve Queue function, but with O(n) time complexity."
   ]
  },
  {
   "cell_type": "code",
   "execution_count": 3,
   "id": "7ccb3cb0",
   "metadata": {},
   "outputs": [],
   "source": [
    "from collections import deque\n",
    "queue = deque([])"
   ]
  },
  {
   "cell_type": "markdown",
   "id": "24d6956e",
   "metadata": {},
   "source": [
    "**Note:** \"Dequeue\" is a term/method in queue data structure. \"deque\" in python is an abbreviation of data struture \"double queue\"‚double here means you can append from left, from right and pop from left from right."
   ]
  },
  {
   "cell_type": "code",
   "execution_count": 5,
   "id": "fd0a1911",
   "metadata": {},
   "outputs": [
    {
     "name": "stdout",
     "output_type": "stream",
     "text": [
      "deque([1, 2, 3])\n",
      "the dequeued element: 1\n",
      "deque([2, 3])\n"
     ]
    }
   ],
   "source": [
    "queue = deque([])\n",
    "queue.append(1)\n",
    "queue.append(2)\n",
    "queue.append(3)\n",
    "print (queue)\n",
    "queue_pop = queue.popleft()\n",
    "print (\"the dequeued element:\", queue_pop)\n",
    "print (queue)"
   ]
  },
  {
   "cell_type": "code",
   "execution_count": null,
   "id": "7849969e",
   "metadata": {},
   "outputs": [],
   "source": []
  },
  {
   "cell_type": "markdown",
   "id": "f6a15c4c",
   "metadata": {},
   "source": [
    "### Example: Remove All Adjacent Duplicates In String\n",
    "[1047. Remove All Adjacent Duplicates In String](https://leetcode.com/problems/remove-all-adjacent-duplicates-in-string/)\n",
    "\n",
    "**Description:**\n",
    "\n",
    "You are given a string s consisting of lowercase English letters. A duplicate removal consists of choosing two adjacent and equal letters and removing them.\n",
    "\n",
    "We repeatedly make duplicate removals on s until we no longer can.\n",
    "\n",
    "Return the final string after all such duplicate removals have been made. It can be proven that the answer is unique.\n",
    "\n",
    "\n",
    "**Note:**\n",
    "\n",
    "\n",
    "**Example 1:**\n",
    "\n",
    "Input: s = \"abbaca\"\n",
    "\n",
    "Output: \"ca\"\n",
    "\n",
    "Explanation: \n",
    "\n",
    "For example, in \"abbaca\" we could remove \"bb\" since the letters are adjacent and equal, and this is the only possible move.  The result of this move is that the string is \"aaca\", of which only \"aa\" is possible, so the final string is \"ca\".\n",
    "\n",
    "**Example 2:**\n",
    "\n",
    "Input: s = \"azxxzy\"\n",
    "\n",
    "Output: \"ay\"\n",
    "\n",
    "**Constraints:**\n",
    "\n",
    "- 1 <= s.length <= 105\n",
    "- s consists of lowercase English letters."
   ]
  },
  {
   "cell_type": "markdown",
   "id": "b4da3cfd",
   "metadata": {},
   "source": [
    "**Solution:**\n",
    "![alt_text](images/Queue_Coding_example_v01_unit_04_img_001.b91fbd42.png)"
   ]
  },
  {
   "cell_type": "code",
   "execution_count": 6,
   "id": "db422259",
   "metadata": {},
   "outputs": [
    {
     "name": "stdout",
     "output_type": "stream",
     "text": [
      "ca\n",
      "ay\n"
     ]
    }
   ],
   "source": [
    "class Solution:\n",
    "    def removeDuplicates(self, s: str) -> str:\n",
    "        if not s:\n",
    "            return None\n",
    "        \n",
    "        stack = []\n",
    "        for char in s:\n",
    "            if len(stack) > 0:\n",
    "                if stack[-1] == char:\n",
    "                    stack.pop()\n",
    "                    continue\n",
    "            \n",
    "            stack.append(char)\n",
    "        \n",
    "        return ''.join(stack)\n",
    "\n",
    "sol = Solution()\n",
    "print(sol.removeDuplicates(s = \"abbaca\"))\n",
    "print(sol.removeDuplicates(s = \"azxxzy\"))"
   ]
  }
 ],
 "metadata": {
  "kernelspec": {
   "display_name": "Python 3 (ipykernel)",
   "language": "python",
   "name": "python3"
  },
  "language_info": {
   "codemirror_mode": {
    "name": "ipython",
    "version": 3
   },
   "file_extension": ".py",
   "mimetype": "text/x-python",
   "name": "python",
   "nbconvert_exporter": "python",
   "pygments_lexer": "ipython3",
   "version": "3.8.13"
  }
 },
 "nbformat": 4,
 "nbformat_minor": 5
}
