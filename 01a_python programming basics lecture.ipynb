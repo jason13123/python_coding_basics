{
 "cells": [
  {
   "cell_type": "markdown",
   "id": "65bb1482",
   "metadata": {},
   "source": [
    "## What coding testing is really about?\n",
    "\n",
    "a. The ability of solving a problem by coding/programming\n",
    "\n",
    "b. Communication with the interviewer"
   ]
  },
  {
   "cell_type": "markdown",
   "id": "e6f93f14",
   "metadata": {},
   "source": [
    "## Concepts of Python Programming\n",
    "\n",
    "### Indentation & styling\n",
    "Learn how to find good code and coding style.eg:scikit-learn: https://scikit-learn.org/stable/modules/classes.html\n",
    "\n",
    "Be consistent!\n",
    "\n",
    "### Notes on Python Variables\n",
    "\n",
    "- A variable name must start with a letter or the underscore character\n",
    "- A variable name cannot start with a number\n",
    "- A variable name can only contain alpha-numeric characters and underscores (A-z, 0-9, and _ )\n",
    "- Variable names are case-sensitive (age, Age and AGE are three different variables)\n",
    "\n",
    "#### Example\n",
    "my_list = [1, 2, 3]\n",
    "\n",
    "myList = [1, 2, 3]\n",
    "\n",
    "#### Don’t do this\n",
    "a = [1, 2]\n",
    "\n",
    "b = [2, 3]"
   ]
  },
  {
   "cell_type": "markdown",
   "id": "eabd2941",
   "metadata": {},
   "source": [
    "![alt text](images/python_basics_v01_unit_01_img_001.4f396863.png)"
   ]
  },
  {
   "cell_type": "markdown",
   "id": "c5805ab8",
   "metadata": {},
   "source": [
    "### List"
   ]
  },
  {
   "cell_type": "code",
   "execution_count": 3,
   "id": "69969e64",
   "metadata": {},
   "outputs": [
    {
     "name": "stdout",
     "output_type": "stream",
     "text": [
      "0\n"
     ]
    }
   ],
   "source": [
    "#Create an empty list/the length is zero\n",
    "\n",
    "nums = []\n",
    "print (len(nums))"
   ]
  },
  {
   "cell_type": "code",
   "execution_count": 5,
   "id": "ea734bbd",
   "metadata": {},
   "outputs": [],
   "source": [
    "# Always check the corner case: num is empty\n",
    "\n",
    "def get_first_element(nums: list):\n",
    "    if not nums: #This is same as if len(nums) == 0 or if nums == []\n",
    "       return []\n",
    "    else:\n",
    "       return nums[0]"
   ]
  },
  {
   "cell_type": "code",
   "execution_count": 7,
   "id": "e8cdc6c3",
   "metadata": {},
   "outputs": [
    {
     "name": "stdout",
     "output_type": "stream",
     "text": [
      "[]\n",
      "[]\n",
      "[]\n"
     ]
    }
   ],
   "source": [
    "test = get_first_element([])\n",
    "print (test)\n",
    "\n",
    "if len(nums) == 0:\n",
    "    print (nums)\n",
    "    \n",
    "if nums == []:\n",
    "    print (nums)\n",
    "\n"
   ]
  },
  {
   "cell_type": "code",
   "execution_count": 8,
   "id": "0fec487f",
   "metadata": {},
   "outputs": [
    {
     "name": "stdout",
     "output_type": "stream",
     "text": [
      "raw nums: [1, 2]\n"
     ]
    }
   ],
   "source": [
    "# Add elements to a list\n",
    "\n",
    "nums = []\n",
    "nums.append(1)\n",
    "nums.append(2)\n",
    "print (\"raw nums:\", nums)"
   ]
  },
  {
   "cell_type": "code",
   "execution_count": 9,
   "id": "f04e746c",
   "metadata": {},
   "outputs": [
    {
     "name": "stdout",
     "output_type": "stream",
     "text": [
      "change nums as : [1, 3]\n"
     ]
    }
   ],
   "source": [
    "# Change an element in a list\n",
    "\n",
    "nums[-1] = 3\n",
    "print (\"change nums as :\", nums)"
   ]
  },
  {
   "cell_type": "code",
   "execution_count": 10,
   "id": "eb15e335",
   "metadata": {},
   "outputs": [
    {
     "name": "stdout",
     "output_type": "stream",
     "text": [
      "raw nums: [1, 2]\n"
     ]
    }
   ],
   "source": [
    "# Deep copy vs shallow copy\n",
    "\n",
    "nums = []\n",
    "nums.append(1)\n",
    "nums.append(2)\n",
    "print (\"raw nums:\", nums)"
   ]
  },
  {
   "cell_type": "code",
   "execution_count": 11,
   "id": "8203c90c",
   "metadata": {},
   "outputs": [
    {
     "name": "stdout",
     "output_type": "stream",
     "text": [
      "nums_deep_copy: [1, 3]\n",
      "the raw/old nums: [1, 2]\n"
     ]
    }
   ],
   "source": [
    "#Deep copy\n",
    "\n",
    "nums_deep_copy = nums[:]\n",
    "nums_deep_copy[-1] = 3\n",
    "print (\"nums_deep_copy:\", nums_deep_copy)\n",
    "print (\"the raw/old nums:\", nums)"
   ]
  },
  {
   "cell_type": "code",
   "execution_count": 12,
   "id": "ce964b51",
   "metadata": {},
   "outputs": [
    {
     "name": "stdout",
     "output_type": "stream",
     "text": [
      "nums_shallow_copy: [1, 3]\n",
      "raw nums: [1, 3]\n"
     ]
    }
   ],
   "source": [
    "# Shallow copy\n",
    "\n",
    "nums_shallow_copy = nums\n",
    "nums_shallow_copy[-1] = 3\n",
    "print (\"nums_shallow_copy:\", nums_shallow_copy)\n",
    "print (\"raw nums:\", nums)"
   ]
  },
  {
   "cell_type": "markdown",
   "id": "a69c1114",
   "metadata": {},
   "source": [
    "### Example: Get Positive Numbers"
   ]
  },
  {
   "cell_type": "code",
   "execution_count": 13,
   "id": "ea5a5e4e",
   "metadata": {},
   "outputs": [],
   "source": [
    "# An example function to get positive numbers from a list of numbers. Recommended\n",
    "def get_positive1(nums):\n",
    "    if not nums:\n",
    "        return []\n",
    "    pos_nums = []\n",
    "    for e in nums:\n",
    "        if e > 0:\n",
    "            pos_nums.append(e)\n",
    "    return pos_nums\n",
    "\n",
    "# Same function in one-liner style. Not recommended\n",
    "def get_positive2(nums):\n",
    "    #list comprehension\n",
    "    return [e for e in nums if e > 0]\n",
    "\n",
    "# Same function without indentation in conditions. Not recommended\n",
    "def get_positive3(nums):\n",
    "    if not nums: return []\n",
    "    pos_nums = []\n",
    "    for e in nums: \n",
    "        if e > 0: pos_nums.append(e)\n",
    "    return pos_nums"
   ]
  },
  {
   "cell_type": "code",
   "execution_count": 14,
   "id": "7a443498",
   "metadata": {},
   "outputs": [
    {
     "data": {
      "text/plain": [
       "[]"
      ]
     },
     "execution_count": 14,
     "metadata": {},
     "output_type": "execute_result"
    }
   ],
   "source": [
    "[e for e in []]"
   ]
  },
  {
   "cell_type": "markdown",
   "id": "529944f3",
   "metadata": {},
   "source": [
    "### Tuple"
   ]
  },
  {
   "cell_type": "code",
   "execution_count": 15,
   "id": "79e8db94",
   "metadata": {},
   "outputs": [
    {
     "name": "stdout",
     "output_type": "stream",
     "text": [
      "(1, 2, 3)\n"
     ]
    },
    {
     "data": {
      "text/plain": [
       "2"
      ]
     },
     "execution_count": 15,
     "metadata": {},
     "output_type": "execute_result"
    }
   ],
   "source": [
    "# Create a tuple\n",
    "\n",
    "t_nums = (1,2,3)\n",
    "print (t_nums)\n",
    "\n",
    "# Get an element from a tuple\n",
    "\n",
    "t_nums[1]"
   ]
  },
  {
   "cell_type": "code",
   "execution_count": 16,
   "id": "863f37f7",
   "metadata": {},
   "outputs": [
    {
     "ename": "AttributeError",
     "evalue": "'tuple' object has no attribute 'append'",
     "output_type": "error",
     "traceback": [
      "\u001b[0;31m---------------------------------------------------------------------------\u001b[0m",
      "\u001b[0;31mAttributeError\u001b[0m                            Traceback (most recent call last)",
      "Input \u001b[0;32mIn [16]\u001b[0m, in \u001b[0;36m<cell line: 4>\u001b[0;34m()\u001b[0m\n\u001b[1;32m      1\u001b[0m \u001b[38;5;66;03m# Tuples are immutable. You can´t add elements to it\u001b[39;00m\n\u001b[1;32m      3\u001b[0m t_nums \u001b[38;5;241m=\u001b[39m ()\n\u001b[0;32m----> 4\u001b[0m \u001b[43mt_nums\u001b[49m\u001b[38;5;241;43m.\u001b[39;49m\u001b[43mappend\u001b[49m(\u001b[38;5;241m1\u001b[39m)\n\u001b[1;32m      5\u001b[0m \u001b[38;5;28mprint\u001b[39m (t_nums)\n",
      "\u001b[0;31mAttributeError\u001b[0m: 'tuple' object has no attribute 'append'"
     ]
    }
   ],
   "source": [
    "# Tuples are immutable. You can´t add elements to it\n",
    "\n",
    "t_nums = ()\n",
    "t_nums.append(1)\n",
    "print (t_nums)"
   ]
  },
  {
   "cell_type": "markdown",
   "id": "3a3063d4",
   "metadata": {},
   "source": [
    "### String"
   ]
  },
  {
   "cell_type": "code",
   "execution_count": 17,
   "id": "1862d1f9",
   "metadata": {},
   "outputs": [
    {
     "name": "stdout",
     "output_type": "stream",
     "text": [
      "e\n"
     ]
    }
   ],
   "source": [
    "# Create a string\n",
    "word = 'leetcode'\n",
    "\n",
    "#Get a character from the string\n",
    "print (word[1])"
   ]
  },
  {
   "cell_type": "code",
   "execution_count": 18,
   "id": "1ba27a94",
   "metadata": {},
   "outputs": [
    {
     "ename": "TypeError",
     "evalue": "'str' object does not support item assignment",
     "output_type": "error",
     "traceback": [
      "\u001b[0;31m---------------------------------------------------------------------------\u001b[0m",
      "\u001b[0;31mTypeError\u001b[0m                                 Traceback (most recent call last)",
      "Input \u001b[0;32mIn [18]\u001b[0m, in \u001b[0;36m<cell line: 3>\u001b[0;34m()\u001b[0m\n\u001b[1;32m      1\u001b[0m \u001b[38;5;66;03m# You can´t change characters in a string\u001b[39;00m\n\u001b[0;32m----> 3\u001b[0m word[\u001b[38;5;241m1\u001b[39m] \u001b[38;5;241m=\u001b[39m \u001b[38;5;124m'\u001b[39m\u001b[38;5;124ma\u001b[39m\u001b[38;5;124m'\u001b[39m\n",
      "\u001b[0;31mTypeError\u001b[0m: 'str' object does not support item assignment"
     ]
    }
   ],
   "source": [
    "# You can´t change characters in a string\n",
    "\n",
    "word[1] = 'a'"
   ]
  },
  {
   "cell_type": "markdown",
   "id": "67b109b6",
   "metadata": {},
   "source": [
    "### Dictionary vs Set"
   ]
  },
  {
   "cell_type": "markdown",
   "id": "edf7c6c8",
   "metadata": {},
   "source": [
    "![alt text](images/python_basics_v01_unit_01_img_004.f55b3e4c.png)"
   ]
  },
  {
   "cell_type": "code",
   "execution_count": 19,
   "id": "fcfc287a",
   "metadata": {},
   "outputs": [
    {
     "name": "stdout",
     "output_type": "stream",
     "text": [
      "{'key1': 'v1', 'key2': 'v2', 'key3': 'v3', 'key4': 'v4'}\n"
     ]
    }
   ],
   "source": [
    "# Create a dictionary\n",
    "\n",
    "hashmap = {} \n",
    "hashmap['key1'] = 'v1'\n",
    "hashmap['key2'] = 'v2'\n",
    "hashmap['key3'] = 'v3'\n",
    "hashmap['key4'] = 'v4'\n",
    "print (hashmap)\n"
   ]
  },
  {
   "cell_type": "code",
   "execution_count": 20,
   "id": "a4dc3c58",
   "metadata": {},
   "outputs": [
    {
     "name": "stdout",
     "output_type": "stream",
     "text": [
      "{'key1', 'key3', 'key2'}\n"
     ]
    },
    {
     "data": {
      "text/plain": [
       "{'key1', 'key2', 'key3'}"
      ]
     },
     "execution_count": 20,
     "metadata": {},
     "output_type": "execute_result"
    }
   ],
   "source": [
    "# Create a set\n",
    "\n",
    "mySet = {'key1', 'key2', 'key3'}\n",
    "print (mySet)\n",
    "set([\"key3\", \"key2\", \"key1\"])"
   ]
  },
  {
   "cell_type": "markdown",
   "id": "05533ec7",
   "metadata": {},
   "source": [
    "### Time complexity preview"
   ]
  },
  {
   "cell_type": "code",
   "execution_count": 21,
   "id": "a35e8496",
   "metadata": {},
   "outputs": [
    {
     "data": {
      "text/plain": [
       "True"
      ]
     },
     "execution_count": 21,
     "metadata": {},
     "output_type": "execute_result"
    }
   ],
   "source": [
    "# Time complexity for finding an element in a dictionary is O(1). That is why we use dictionary for look up.\n",
    "\n",
    "'key1' in hashmap"
   ]
  },
  {
   "cell_type": "code",
   "execution_count": 22,
   "id": "e49eeade",
   "metadata": {},
   "outputs": [
    {
     "data": {
      "text/plain": [
       "True"
      ]
     },
     "execution_count": 22,
     "metadata": {},
     "output_type": "execute_result"
    }
   ],
   "source": [
    "# Time complexity for finding an element in a dictionary is O(N)\n",
    "\n",
    "hotel1 = ['a', 'b', 'c', 'd']\n",
    "'d' in hotel1    #O(n) time complexity\n"
   ]
  },
  {
   "cell_type": "code",
   "execution_count": 23,
   "id": "7fede720",
   "metadata": {},
   "outputs": [
    {
     "name": "stdout",
     "output_type": "stream",
     "text": [
      "key1 v1\n",
      "key2 v2\n",
      "key3 v3\n",
      "key4 v4\n"
     ]
    }
   ],
   "source": [
    "# Get keys and values from a dictionary\n",
    "\n",
    "for key in hashmap:\n",
    "    print (key, hashmap[key])"
   ]
  },
  {
   "cell_type": "code",
   "execution_count": 24,
   "id": "ec1042a2",
   "metadata": {},
   "outputs": [
    {
     "ename": "TypeError",
     "evalue": "unhashable type: 'list'",
     "output_type": "error",
     "traceback": [
      "\u001b[0;31m---------------------------------------------------------------------------\u001b[0m",
      "\u001b[0;31mTypeError\u001b[0m                                 Traceback (most recent call last)",
      "Input \u001b[0;32mIn [24]\u001b[0m, in \u001b[0;36m<cell line: 5>\u001b[0;34m()\u001b[0m\n\u001b[1;32m      3\u001b[0m hashmap \u001b[38;5;241m=\u001b[39m {}\n\u001b[1;32m      4\u001b[0m two_keys \u001b[38;5;241m=\u001b[39m [\u001b[38;5;241m1\u001b[39m,\u001b[38;5;241m2\u001b[39m]\n\u001b[0;32m----> 5\u001b[0m hashmap[two_keys] \u001b[38;5;241m=\u001b[39m \u001b[38;5;124m'\u001b[39m\u001b[38;5;124mab\u001b[39m\u001b[38;5;124m'\u001b[39m\n",
      "\u001b[0;31mTypeError\u001b[0m: unhashable type: 'list'"
     ]
    }
   ],
   "source": [
    "# Lists CAN´T be used as a dictionary keys\n",
    "\n",
    "hashmap = {}\n",
    "two_keys = [1,2]\n",
    "hashmap[two_keys] = 'ab'"
   ]
  },
  {
   "cell_type": "code",
   "execution_count": 25,
   "id": "28ce3200",
   "metadata": {},
   "outputs": [
    {
     "name": "stdout",
     "output_type": "stream",
     "text": [
      "{(1, 2): 'ab'}\n"
     ]
    }
   ],
   "source": [
    "# Tuples can be used as dictionary keys\n",
    "\n",
    "hashmap = {}\n",
    "two_keys = (1,2)\n",
    "hashmap[two_keys] = 'ab'\n",
    "print (hashmap)"
   ]
  },
  {
   "cell_type": "code",
   "execution_count": 27,
   "id": "99af78f0",
   "metadata": {},
   "outputs": [
    {
     "name": "stdout",
     "output_type": "stream",
     "text": [
      "{0, 1, 2} <class 'set'>\n"
     ]
    }
   ],
   "source": [
    "# Set Operations\n",
    "\n",
    "oneSet = {0} # define a set with key only (no values)\n",
    "oneSet.add(1)\n",
    "oneSet.add(2)\n",
    "print(oneSet, type(oneSet))\n"
   ]
  },
  {
   "cell_type": "code",
   "execution_count": 28,
   "id": "09548ce7",
   "metadata": {},
   "outputs": [
    {
     "name": "stdout",
     "output_type": "stream",
     "text": [
      "set AND operation: {0}\n",
      "\n",
      "set OR operation: {0, 1, 2, 3, 4}\n"
     ]
    }
   ],
   "source": [
    "anotherSet = {0,3,4}\n",
    "print(f'set AND operation: {oneSet&anotherSet}') #& == and, | or \n",
    "print(f'\\nset OR operation: {oneSet|anotherSet}')\n"
   ]
  },
  {
   "cell_type": "markdown",
   "id": "ed0f5505",
   "metadata": {},
   "source": [
    "### Example: Single Number\n",
    "[136. Single Number](https://leetcode.com/problems/single-number/)\n",
    "\n",
    "**Description:**\n",
    "\n",
    "Given a non-empty array of integers, every element appears twice except for one. Find that single one.\n",
    "\n",
    "**Note:**\n",
    "\n",
    "Your algorithm should have a linear runtime complexity. Could you implement it without using extra memory?\n",
    "\n",
    "**Example :**\n",
    "\n",
    "Input: [2,2,1] \n",
    "\n",
    "Output: 1"
   ]
  },
  {
   "cell_type": "code",
   "execution_count": 34,
   "id": "3a44ea77",
   "metadata": {},
   "outputs": [
    {
     "name": "stdout",
     "output_type": "stream",
     "text": [
      "1\n",
      "4\n",
      "1\n"
     ]
    }
   ],
   "source": [
    "from typing import List\n",
    "class Solution:\n",
    "    def singleNumber(self, nums: List[int]) -> int:\n",
    "        hashmap = {}\n",
    "        for num in nums:\n",
    "            if num not in hashmap.keys():\n",
    "                hashmap[num] = 1\n",
    "            else:\n",
    "                hashmap[num] += 1\n",
    "        \n",
    "        for k in hashmap:\n",
    "            if hashmap[k] == 1:\n",
    "                return k\n",
    "\n",
    "sol = Solution()\n",
    "nums_ls = [[2,2,1],\n",
    "          [4,1,2,1,2],\n",
    "          [1]]\n",
    "for nums in nums_ls:\n",
    "    print(sol.singleNumber(nums))"
   ]
  },
  {
   "cell_type": "markdown",
   "id": "d96c9b07",
   "metadata": {},
   "source": [
    "### Example: Majority Element\n",
    "[169. Majority Element](https://leetcode.com/problems/majority-element/)\n",
    "\n",
    "**Description:**\n",
    "\n",
    "Given an array of size n, find the majority element. The majority element is the element that appears more than ⌊ n/2 ⌋ times.\n",
    "\n",
    "**Note:**\n",
    "\n",
    "You may assume that the array is non-empty and the majority element always exist in the array.\n",
    "\n",
    "**Example :**\n",
    "\n",
    "Input: [3,2,3]\n",
    "\n",
    "Output: 3"
   ]
  },
  {
   "cell_type": "code",
   "execution_count": 37,
   "id": "e5b6a66e",
   "metadata": {},
   "outputs": [
    {
     "name": "stdout",
     "output_type": "stream",
     "text": [
      "3\n",
      "2\n"
     ]
    }
   ],
   "source": [
    "from typing import List\n",
    "class Solution:\n",
    "    def majorityElement(self, nums: List[int]) -> int:\n",
    "        if len(nums) == 0:\n",
    "            return 'List is empty.'\n",
    "        hashmap = {}\n",
    "        for num in nums:\n",
    "            if num not in hashmap:\n",
    "                hashmap[num] = 1\n",
    "            else:\n",
    "                hashmap[num] += 1\n",
    "        \n",
    "        for num in hashmap:\n",
    "            if hashmap[num] > len(nums) // 2:\n",
    "                return num\n",
    "\n",
    "sol = Solution()\n",
    "nums_ls = [[3,2,3],\n",
    "          [2,2,1,1,1,2,2]]\n",
    "\n",
    "for nums in nums_ls:\n",
    "    print(sol.majorityElement(nums))"
   ]
  },
  {
   "cell_type": "markdown",
   "id": "df0bd37c",
   "metadata": {},
   "source": [
    "### Example: Contains Duplicate\n",
    "[217. Contains Duplicate](https://leetcode.com/problems/contains-duplicate/)\n",
    "\n",
    "**Description:**\n",
    "\n",
    "Given an array of integers, find if the array contains any duplicates.\n",
    "\n",
    "**Note:**\n",
    "\n",
    "Your function should return true if any value appears at least twice in the array, and it should return false if every element is distinct.\n",
    "\n",
    "**Example :**\n",
    "\n",
    "Input: [1,2,3,1]\n",
    "\n",
    "Output: true"
   ]
  },
  {
   "cell_type": "code",
   "execution_count": 38,
   "id": "38dd9042",
   "metadata": {},
   "outputs": [
    {
     "name": "stdout",
     "output_type": "stream",
     "text": [
      "True\n",
      "False\n",
      "True\n"
     ]
    }
   ],
   "source": [
    "from typing import List\n",
    "class Solution:\n",
    "    def containsDuplicate(self, nums: List[int]) -> bool:\n",
    "        if len(nums) == 0:\n",
    "            return ' List is empty.'\n",
    "        hashmap = {}\n",
    "        for num in nums:\n",
    "            if num not in hashmap:\n",
    "                hashmap[num] = 1\n",
    "            else:\n",
    "                return True\n",
    "        return False\n",
    "\n",
    "sol = Solution()\n",
    "nums_ls = [[1,2,3,1],\n",
    "          [1,2,3,4],\n",
    "          [1,1,1,3,3,4,3,2,4,2]]\n",
    "for nums in nums_ls:\n",
    "    print(sol.containsDuplicate(nums))"
   ]
  },
  {
   "cell_type": "code",
   "execution_count": 39,
   "id": "aaa4bae2",
   "metadata": {},
   "outputs": [
    {
     "name": "stdout",
     "output_type": "stream",
     "text": [
      "True\n",
      "False\n",
      "True\n"
     ]
    }
   ],
   "source": [
    "from typing import List\n",
    "class Solution:\n",
    "    def containsDuplicate(self, nums: List[int]) -> bool:\n",
    "        return len(set(nums)) != len(nums)\n",
    "    \n",
    "sol = Solution()\n",
    "nums_ls = [[1,2,3,1],\n",
    "          [1,2,3,4],\n",
    "          [1,1,1,3,3,4,3,2,4,2]]\n",
    "for nums in nums_ls:\n",
    "    print(sol.containsDuplicate(nums))"
   ]
  },
  {
   "cell_type": "markdown",
   "id": "e2afeaec",
   "metadata": {},
   "source": [
    "### Example: Two Sum\n",
    "[1. Two Sum](https://leetcode.com/problems/two-sum/)\n",
    "\n",
    "**Description:**\n",
    "\n",
    "Given an array of integers, return indices of the two numbers such that they add up to a specific target.\n",
    "\n",
    "**Note:**\n",
    "\n",
    "You may assume that each input would have exactly one solution, and you may not use the same element twice.\n",
    "\n",
    "**Example :**\n",
    "\n",
    "Given nums = [2, 7, 11, 15], target = 9,\n",
    "\n",
    "Because nums[0] + nums[1] = 2 + 7 = 9, return [0, 1]"
   ]
  },
  {
   "cell_type": "code",
   "execution_count": 62,
   "id": "25ce9857",
   "metadata": {},
   "outputs": [
    {
     "name": "stdout",
     "output_type": "stream",
     "text": [
      "[0, 1]\n",
      "[1, 2]\n",
      "[0, 1]\n"
     ]
    }
   ],
   "source": [
    "from typing import List\n",
    "class Solution:\n",
    "    def twoSum(self, nums: List[int], target: int) -> List[int]:\n",
    "        dic = {}\n",
    "        for index, val in enumerate(nums):\n",
    "            dic[val] = index\n",
    "        #2, 1, 3, target 4\n",
    "        for index, val in enumerate(nums):\n",
    "            if target-val in dic:\n",
    "                if index == dic[target-val]:\n",
    "                    continue\n",
    "                else:\n",
    "                    if index <= dic[target-val]:\n",
    "                        return [index, dic[target-val]]\n",
    "                    else:\n",
    "                        return [dic[target-val], index]\n",
    "\n",
    "                        \n",
    "sol = Solution()\n",
    "print(sol.twoSum([2,7,11,15], 9))\n",
    "print(sol.twoSum([3,2,4], 6))\n",
    "print(sol.twoSum([3,3], 6))"
   ]
  },
  {
   "cell_type": "code",
   "execution_count": 1,
   "id": "4ef1a45f",
   "metadata": {},
   "outputs": [
    {
     "name": "stdout",
     "output_type": "stream",
     "text": [
      "[0, 1]\n",
      "[0, 0]\n",
      "[0, 1]\n"
     ]
    }
   ],
   "source": [
    "from typing import List\n",
    "class Solution:\n",
    "    def twoSum(self, nums: List[int], target: int) -> List[int]:\n",
    "        dic = {}\n",
    "        for index, val in enumerate(nums):\n",
    "            dic[val] = index\n",
    "        #2, 1, 3, target 4\n",
    "        for index, val in enumerate(nums):\n",
    "            if target-val in dic:\n",
    "                if index <= dic[target-val]:\n",
    "                    return [index, dic[target-val]]\n",
    "                else:\n",
    "                    return [dic[target-val], index]\n",
    "\n",
    "                        \n",
    "sol = Solution()\n",
    "print(sol.twoSum([2,7,11,15], 9))\n",
    "print(sol.twoSum([3,2,4], 6))\n",
    "print(sol.twoSum([3,3], 6))"
   ]
  },
  {
   "cell_type": "code",
   "execution_count": null,
   "id": "cbcda749",
   "metadata": {},
   "outputs": [],
   "source": []
  }
 ],
 "metadata": {
  "kernelspec": {
   "display_name": "Python 3 (ipykernel)",
   "language": "python",
   "name": "python3"
  },
  "language_info": {
   "codemirror_mode": {
    "name": "ipython",
    "version": 3
   },
   "file_extension": ".py",
   "mimetype": "text/x-python",
   "name": "python",
   "nbconvert_exporter": "python",
   "pygments_lexer": "ipython3",
   "version": "3.8.13"
  }
 },
 "nbformat": 4,
 "nbformat_minor": 5
}
