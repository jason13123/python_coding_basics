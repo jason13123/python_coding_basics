{
 "cells": [
  {
   "cell_type": "markdown",
   "id": "3bab7bd2",
   "metadata": {},
   "source": [
    "Refer to this post, which explains the issue showing here:\n",
    "\n",
    "[Create 3D array using Python](https://stackoverflow.com/questions/10668341/create-3d-array-using-python)\n",
    "\n",
    "You could have produced a data structure with a statement that looked like the one you tried, but it would have had side effects since the inner lists are copy-by-reference:"
   ]
  },
  {
   "cell_type": "raw",
   "id": "58ce483e",
   "metadata": {},
   "source": [
    ">>> distance=[[[0]*n]*n]*n\n",
    ">>> pprint.pprint(distance)\n",
    "[[[0, 0, 0], [0, 0, 0], [0, 0, 0]],\n",
    " [[0, 0, 0], [0, 0, 0], [0, 0, 0]],\n",
    " [[0, 0, 0], [0, 0, 0], [0, 0, 0]]]\n",
    ">>> distance[0][0][0] = 1\n",
    ">>> pprint.pprint(distance)\n",
    "[[[1, 0, 0], [1, 0, 0], [1, 0, 0]],\n",
    " [[1, 0, 0], [1, 0, 0], [1, 0, 0]],\n",
    " [[1, 0, 0], [1, 0, 0], [1, 0, 0]]]"
   ]
  },
  {
   "cell_type": "markdown",
   "id": "41597cec",
   "metadata": {},
   "source": [
    "## Use List Comprehension"
   ]
  },
  {
   "cell_type": "code",
   "execution_count": 31,
   "id": "f0cf7f85",
   "metadata": {},
   "outputs": [
    {
     "name": "stdout",
     "output_type": "stream",
     "text": [
      "[0, 0, 0]\n",
      "[[0, 0, 0], [0, 0, 0], [0, 0, 0]]\n",
      "[[[0, 0, 0], [0, 0, 0], [0, 0, 0]],\n",
      " [[0, 0, 0], [0, 0, 0], [0, 0, 0]],\n",
      " [[0, 0, 0], [0, 0, 0], [0, 0, 0]]]\n"
     ]
    }
   ],
   "source": [
    "import pprint\n",
    "n = 3\n",
    "d3_array = [[[0 for k in range(n)] for j in range(n)] for i in range(n)]\n",
    "d2_array = [[0 for j in range(n)] for i in range(n)]\n",
    "d1_array = [0 for i in range(n)]\n",
    "pprint.pprint(d1_array)\n",
    "pprint.pprint(d2_array)\n",
    "pprint.pprint(d3_array)"
   ]
  },
  {
   "cell_type": "markdown",
   "id": "446abfe9",
   "metadata": {},
   "source": [
    "## Use Numpy"
   ]
  },
  {
   "cell_type": "code",
   "execution_count": 39,
   "id": "69f5bfee",
   "metadata": {},
   "outputs": [
    {
     "name": "stdout",
     "output_type": "stream",
     "text": [
      "array([0., 0., 0.])\n",
      "array([[0., 0., 0.],\n",
      "       [0., 0., 0.],\n",
      "       [0., 0., 0.]])\n",
      "array([[[0., 0., 0.],\n",
      "        [0., 0., 0.],\n",
      "        [0., 0., 0.]],\n",
      "\n",
      "       [[0., 0., 0.],\n",
      "        [0., 0., 0.],\n",
      "        [0., 0., 0.]],\n",
      "\n",
      "       [[0., 0., 0.],\n",
      "        [0., 0., 0.],\n",
      "        [0., 0., 0.]]])\n"
     ]
    }
   ],
   "source": [
    "import numpy as np\n",
    "pprint.pprint(np.zeros(3))\n",
    "pprint.pprint(np.zeros((3,3)))\n",
    "pprint.pprint(np.zeros((3,3,3)))"
   ]
  },
  {
   "cell_type": "code",
   "execution_count": 1,
   "id": "bd3700f0",
   "metadata": {},
   "outputs": [],
   "source": [
    "# create 5 identical copies of itself\n",
    "ls1 = [[0,0,0]]*5"
   ]
  },
  {
   "cell_type": "code",
   "execution_count": 2,
   "id": "5e81430d",
   "metadata": {},
   "outputs": [
    {
     "data": {
      "text/plain": [
       "[[0, 0, 0], [0, 0, 0], [0, 0, 0], [0, 0, 0], [0, 0, 0]]"
      ]
     },
     "execution_count": 2,
     "metadata": {},
     "output_type": "execute_result"
    }
   ],
   "source": [
    "ls1"
   ]
  },
  {
   "cell_type": "code",
   "execution_count": 3,
   "id": "c6ba8322",
   "metadata": {},
   "outputs": [
    {
     "data": {
      "text/plain": [
       "('0x7f80184ecf80', '0x10b07d9f0')"
      ]
     },
     "execution_count": 3,
     "metadata": {},
     "output_type": "execute_result"
    }
   ],
   "source": [
    "hex(id(ls1[0])), hex(id(ls1[0][0])) "
   ]
  },
  {
   "cell_type": "code",
   "execution_count": 4,
   "id": "a0b52d8d",
   "metadata": {},
   "outputs": [
    {
     "data": {
      "text/plain": [
       "('0x7f80184ecf80', '0x10b07d9f0')"
      ]
     },
     "execution_count": 4,
     "metadata": {},
     "output_type": "execute_result"
    }
   ],
   "source": [
    "hex(id(ls1[1])),hex(id(ls1[1][0]))"
   ]
  },
  {
   "cell_type": "code",
   "execution_count": 5,
   "id": "91cddcc6",
   "metadata": {},
   "outputs": [
    {
     "data": {
      "text/plain": [
       "[[1, 0, 0], [1, 0, 0], [1, 0, 0], [1, 0, 0], [1, 0, 0]]"
      ]
     },
     "execution_count": 5,
     "metadata": {},
     "output_type": "execute_result"
    }
   ],
   "source": [
    "ls1[0][0] = 1\n",
    "ls1"
   ]
  },
  {
   "cell_type": "code",
   "execution_count": 6,
   "id": "d3b56c44",
   "metadata": {},
   "outputs": [
    {
     "data": {
      "text/plain": [
       "('0x7f80184ecf80', '0x10b07da10')"
      ]
     },
     "execution_count": 6,
     "metadata": {},
     "output_type": "execute_result"
    }
   ],
   "source": [
    "hex(id(ls1[0])), hex(id(ls1[0][0])) "
   ]
  },
  {
   "cell_type": "code",
   "execution_count": 7,
   "id": "824e55c4",
   "metadata": {
    "scrolled": false
   },
   "outputs": [
    {
     "data": {
      "text/plain": [
       "('0x7f80184ecf80', '0x10b07da10')"
      ]
     },
     "execution_count": 7,
     "metadata": {},
     "output_type": "execute_result"
    }
   ],
   "source": [
    "hex(id(ls1[1])),hex(id(ls1[1][0]))"
   ]
  },
  {
   "cell_type": "code",
   "execution_count": 8,
   "id": "f4adb466",
   "metadata": {},
   "outputs": [],
   "source": [
    "# use list comprehension\n",
    "ls2 = [[0,0,0] for i in range(5)]"
   ]
  },
  {
   "cell_type": "code",
   "execution_count": 9,
   "id": "a05571c5",
   "metadata": {},
   "outputs": [
    {
     "data": {
      "text/plain": [
       "[[0, 0, 0], [0, 0, 0], [0, 0, 0], [0, 0, 0], [0, 0, 0]]"
      ]
     },
     "execution_count": 9,
     "metadata": {},
     "output_type": "execute_result"
    }
   ],
   "source": [
    "ls2"
   ]
  },
  {
   "cell_type": "code",
   "execution_count": 10,
   "id": "7d0724c3",
   "metadata": {},
   "outputs": [
    {
     "data": {
      "text/plain": [
       "('0x7f80184f1540', '0x10b07d9f0')"
      ]
     },
     "execution_count": 10,
     "metadata": {},
     "output_type": "execute_result"
    }
   ],
   "source": [
    "hex(id(ls2[0])), hex(id(ls2[0][0])) "
   ]
  },
  {
   "cell_type": "code",
   "execution_count": 11,
   "id": "9d0de75c",
   "metadata": {},
   "outputs": [
    {
     "data": {
      "text/plain": [
       "('0x7f80184f1300', '0x10b07d9f0')"
      ]
     },
     "execution_count": 11,
     "metadata": {},
     "output_type": "execute_result"
    }
   ],
   "source": [
    "hex(id(ls2[1])),hex(id(ls2[1][0]))"
   ]
  },
  {
   "cell_type": "code",
   "execution_count": 12,
   "id": "f15fcfae",
   "metadata": {},
   "outputs": [
    {
     "data": {
      "text/plain": [
       "[[1, 0, 0], [0, 0, 0], [0, 0, 0], [0, 0, 0], [0, 0, 0]]"
      ]
     },
     "execution_count": 12,
     "metadata": {},
     "output_type": "execute_result"
    }
   ],
   "source": [
    "ls2[0][0] = 1\n",
    "ls2"
   ]
  },
  {
   "cell_type": "code",
   "execution_count": 13,
   "id": "b07fdd2f",
   "metadata": {},
   "outputs": [
    {
     "data": {
      "text/plain": [
       "('0x7f80184f1540', '0x10b07da10')"
      ]
     },
     "execution_count": 13,
     "metadata": {},
     "output_type": "execute_result"
    }
   ],
   "source": [
    "hex(id(ls2[0])), hex(id(ls2[0][0])) "
   ]
  },
  {
   "cell_type": "code",
   "execution_count": 14,
   "id": "9268f246",
   "metadata": {},
   "outputs": [
    {
     "data": {
      "text/plain": [
       "('0x7f80184f1300', '0x10b07d9f0')"
      ]
     },
     "execution_count": 14,
     "metadata": {},
     "output_type": "execute_result"
    }
   ],
   "source": [
    "hex(id(ls2[1])),hex(id(ls2[1][0]))"
   ]
  },
  {
   "cell_type": "code",
   "execution_count": 15,
   "id": "797656c1",
   "metadata": {},
   "outputs": [
    {
     "data": {
      "text/plain": [
       "True"
      ]
     },
     "execution_count": 15,
     "metadata": {},
     "output_type": "execute_result"
    }
   ],
   "source": [
    "hex(id(ls1[0])) == hex(id(ls1[1]))"
   ]
  },
  {
   "cell_type": "code",
   "execution_count": 16,
   "id": "bd3e16ef",
   "metadata": {},
   "outputs": [
    {
     "data": {
      "text/plain": [
       "False"
      ]
     },
     "execution_count": 16,
     "metadata": {},
     "output_type": "execute_result"
    }
   ],
   "source": [
    "hex(id(ls2[0])) == hex(id(ls2[1]))"
   ]
  },
  {
   "cell_type": "code",
   "execution_count": 17,
   "id": "05066fbb",
   "metadata": {},
   "outputs": [
    {
     "data": {
      "text/plain": [
       "[0, 0, 0, 0, 0]"
      ]
     },
     "execution_count": 17,
     "metadata": {},
     "output_type": "execute_result"
    }
   ],
   "source": [
    "ls3 = [0]*5\n",
    "ls3"
   ]
  },
  {
   "cell_type": "code",
   "execution_count": 18,
   "id": "15d788ed",
   "metadata": {},
   "outputs": [
    {
     "data": {
      "text/plain": [
       "'0x10b07d9f0'"
      ]
     },
     "execution_count": 18,
     "metadata": {},
     "output_type": "execute_result"
    }
   ],
   "source": [
    "hex(id(ls3[0]))"
   ]
  },
  {
   "cell_type": "code",
   "execution_count": 19,
   "id": "2f4b113a",
   "metadata": {
    "scrolled": true
   },
   "outputs": [
    {
     "data": {
      "text/plain": [
       "'0x10b07d9f0'"
      ]
     },
     "execution_count": 19,
     "metadata": {},
     "output_type": "execute_result"
    }
   ],
   "source": [
    "hex(id(ls3[1]))"
   ]
  },
  {
   "cell_type": "code",
   "execution_count": 20,
   "id": "0a7ae562",
   "metadata": {},
   "outputs": [
    {
     "data": {
      "text/plain": [
       "'0x7f80184b49c0'"
      ]
     },
     "execution_count": 20,
     "metadata": {},
     "output_type": "execute_result"
    }
   ],
   "source": [
    "hex(id(ls3))"
   ]
  },
  {
   "cell_type": "code",
   "execution_count": 21,
   "id": "1cebcce7",
   "metadata": {},
   "outputs": [
    {
     "data": {
      "text/plain": [
       "True"
      ]
     },
     "execution_count": 21,
     "metadata": {},
     "output_type": "execute_result"
    }
   ],
   "source": [
    "hex(id(ls3[0])) == hex(id(ls3[1]))"
   ]
  },
  {
   "cell_type": "code",
   "execution_count": 22,
   "id": "d05f376c",
   "metadata": {},
   "outputs": [
    {
     "data": {
      "text/plain": [
       "[1, 0, 0, 0, 0]"
      ]
     },
     "execution_count": 22,
     "metadata": {},
     "output_type": "execute_result"
    }
   ],
   "source": [
    "ls3[0] = 1\n",
    "ls3"
   ]
  },
  {
   "cell_type": "code",
   "execution_count": 23,
   "id": "8b69f7e6",
   "metadata": {},
   "outputs": [
    {
     "data": {
      "text/plain": [
       "'0x10b07da10'"
      ]
     },
     "execution_count": 23,
     "metadata": {},
     "output_type": "execute_result"
    }
   ],
   "source": [
    "hex(id(ls3[0]))"
   ]
  },
  {
   "cell_type": "code",
   "execution_count": 24,
   "id": "bd2240e9",
   "metadata": {},
   "outputs": [
    {
     "data": {
      "text/plain": [
       "'0x10b07d9f0'"
      ]
     },
     "execution_count": 24,
     "metadata": {},
     "output_type": "execute_result"
    }
   ],
   "source": [
    "hex(id(ls3[1]))"
   ]
  },
  {
   "cell_type": "code",
   "execution_count": 25,
   "id": "05c74487",
   "metadata": {},
   "outputs": [
    {
     "data": {
      "text/plain": [
       "False"
      ]
     },
     "execution_count": 25,
     "metadata": {},
     "output_type": "execute_result"
    }
   ],
   "source": [
    "hex(id(ls3[0])) == hex(id(ls3[1]))"
   ]
  },
  {
   "cell_type": "code",
   "execution_count": null,
   "id": "1a5ca09f",
   "metadata": {},
   "outputs": [],
   "source": []
  }
 ],
 "metadata": {
  "kernelspec": {
   "display_name": "Python 3 (ipykernel)",
   "language": "python",
   "name": "python3"
  },
  "language_info": {
   "codemirror_mode": {
    "name": "ipython",
    "version": 3
   },
   "file_extension": ".py",
   "mimetype": "text/x-python",
   "name": "python",
   "nbconvert_exporter": "python",
   "pygments_lexer": "ipython3",
   "version": "3.8.13"
  }
 },
 "nbformat": 4,
 "nbformat_minor": 5
}
