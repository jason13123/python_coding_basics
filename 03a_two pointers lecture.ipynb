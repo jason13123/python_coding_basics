{
 "cells": [
  {
   "cell_type": "markdown",
   "id": "4b622d23",
   "metadata": {},
   "source": [
    "## Two Pointers"
   ]
  },
  {
   "cell_type": "markdown",
   "id": "c5805ab8",
   "metadata": {},
   "source": [
    "### Time Complexity"
   ]
  },
  {
   "cell_type": "markdown",
   "id": "da3b3d47",
   "metadata": {},
   "source": [
    "**Coding Interview Hints:**\n",
    "\n",
    "![alt_text](images/Time_Complexity_v01_unit_03_img_001.0e1fc60d.png)\n",
    "- Double loop is O(N^2) \n",
    "        For every element, compare with the other N elements/or even the REST elements，    \n",
    "       (N-1)+(N-2) +...2 + 1 = N(N-1)/2 = N^2-N/2 = O(N^2).\n",
    "   \n",
    "- Sorting is O(NlogN)\n",
    "\n",
    "- Scan once is O(N)\n",
    "\n",
    "- Cut-by-half/BS O(logN)\n",
    "\n",
    "- Dictioanry/set lookup O(1)"
   ]
  },
  {
   "cell_type": "code",
   "execution_count": 6,
   "id": "04726c9b",
   "metadata": {},
   "outputs": [],
   "source": [
    "from typing import *"
   ]
  },
  {
   "cell_type": "markdown",
   "id": "df0bd37c",
   "metadata": {},
   "source": [
    "### Example: Majority Element\n",
    "[169. Majority Element](https://leetcode.com/problems/majority-element/)\n",
    "\n",
    "**Description:**\n",
    "\n",
    "Given an array nums of size n, return the majority element.\n",
    "\n",
    "The majority element is the element that appears more than ⌊n / 2⌋ times. You may assume that the majority element always exists in the array.\n",
    "\n",
    "**Note:**\n",
    "\n",
    "\n",
    "**Example 1:**\n",
    "\n",
    "Input: nums = [3,2,3]\n",
    "\n",
    "Output: 3\n",
    "\n",
    "Output: 2\n",
    "\n",
    "**Example 2:**\n",
    "\n",
    "Input: nums = [2,2,1,1,1,2,2]\n",
    "\n",
    "Output: 2\n",
    "\n",
    "**Constraints:**\n",
    "\n",
    "- n == nums.length\n",
    "- 1 <= n <= 5 * 104\n",
    "- -109 <= nums[i] <= 109"
   ]
  },
  {
   "cell_type": "code",
   "execution_count": 7,
   "id": "38dd9042",
   "metadata": {},
   "outputs": [
    {
     "name": "stdout",
     "output_type": "stream",
     "text": [
      "3\n",
      "2\n"
     ]
    }
   ],
   "source": [
    "from typing import List\n",
    "class Solution:\n",
    "    def majorityElement(self, nums: List[int]) -> int:\n",
    "        \n",
    "        nums.sort() # this is NOT preferred, time complexity is O(NlogN). hashmap is preferred.\n",
    "        left = 0\n",
    "        right = len(nums) - 1\n",
    "        mid = left + (right - left) // 2\n",
    "        \n",
    "        return nums[mid]\n",
    "    \n",
    "sol = Solution()\n",
    "print(sol.majorityElement([3,2,3]))\n",
    "print(sol.majorityElement([2,2,1,1,1,2,2]))"
   ]
  },
  {
   "cell_type": "markdown",
   "id": "9202af7c",
   "metadata": {},
   "source": [
    "### Example: Move Zeros, Straightforward Method\n",
    "[283. Move Zeroes](https://leetcode.com/problems/move-zeroes/)\n",
    "\n",
    "**Description:**\n",
    "\n",
    "Given an integer array nums, move all 0's to the end of it while maintaining the relative order of the non-zero elements.\n",
    "\n",
    "Space comlexity:O(1) vs O(N)\n",
    "\n",
    "**Note:**\n",
    "\n",
    "You must do this in-place without making a copy of the array.\n",
    "\n",
    "Minimize the total number of operations.\n",
    "\n",
    "**Example 1:**\n",
    "\n",
    "Input: nums = [0,1,0,3,12]\n",
    "\n",
    "Output: [1,3,12,0,0]\n",
    "\n",
    "**Example 2:**\n",
    "\n",
    "Input: nums = [0]\n",
    "\n",
    "Output: [0]\n",
    "\n",
    "**Constraints:**\n",
    "\n",
    "- 1 <= nums.length <= 104\n",
    "- -231 <= nums[i] <= 231 - 1"
   ]
  },
  {
   "cell_type": "markdown",
   "id": "e477536e",
   "metadata": {},
   "source": [
    "**My Solution:**"
   ]
  },
  {
   "cell_type": "code",
   "execution_count": 8,
   "id": "942adb04",
   "metadata": {
    "scrolled": true
   },
   "outputs": [
    {
     "name": "stdout",
     "output_type": "stream",
     "text": [
      "[1, 3, 12, 0, 0]\n",
      "[0]\n"
     ]
    }
   ],
   "source": [
    "class Solution:\n",
    "    def moveZeroes(self, nums: List[int]) -> None:\n",
    "        \"\"\"\n",
    "        Do not return anything, modify nums in-place instead.\n",
    "        \"\"\"\n",
    "        counter = len(nums)\n",
    "        \n",
    "        for num in nums:\n",
    "            if num == 0:\n",
    "                index = nums.index(num)\n",
    "                temp = nums.pop(index)\n",
    "                nums.append(temp)\n",
    "            counter -= 1\n",
    "            if counter <=0:\n",
    "                break\n",
    "sol = Solution()\n",
    "nums1 = [0,1,0,3,12]\n",
    "nums2 = [0]\n",
    "sol.moveZeroes(nums1)\n",
    "print(nums1)\n",
    "print(nums2)\n",
    "            "
   ]
  },
  {
   "cell_type": "markdown",
   "id": "e0d84458",
   "metadata": {},
   "source": [
    "Solution with extra space O(N)"
   ]
  },
  {
   "cell_type": "code",
   "execution_count": 9,
   "id": "db2f014a",
   "metadata": {},
   "outputs": [
    {
     "data": {
      "text/plain": [
       "[1, 3, 9, 0, 0]"
      ]
     },
     "execution_count": 9,
     "metadata": {},
     "output_type": "execute_result"
    }
   ],
   "source": [
    "def move(nums):\n",
    "    new_nums = []\n",
    "    for e in nums:\n",
    "        if e !=0: \n",
    "              new_nums.append(e)\n",
    "    new_nums = new_nums + [0]*(len(nums)-len(new_nums))\n",
    "    return new_nums\n",
    "move([0,1,0,3,9])"
   ]
  },
  {
   "cell_type": "markdown",
   "id": "873a2508",
   "metadata": {},
   "source": [
    "### Example: Move Zeros, Two Pointer Visualization"
   ]
  },
  {
   "cell_type": "markdown",
   "id": "5899168a",
   "metadata": {},
   "source": [
    "**Key idea of two pointers: scan one time, do it in-place!:**\n",
    "\n",
    "Reduce space complexity from O(N) to O(1).\n",
    "\n",
    "![alt_text](images/Two_Pointers_Code_Example_2_v01_unit_03_img_001.b802f58d.png)\n",
    "\n",
    "Check condition against the value the moving pointer points to\n",
    "\n",
    "Based on the condition check, either move without operation or move with operation\n",
    "\n",
    "After moving, check again\n",
    "\n",
    "![alt_text](images/Two_Pointers_Code_Example_2_v01_unit_03_img_002.590684e4.png)\n",
    "\n",
    "![alt_text](images/Two_Pointers_Code_Example_2_v01_unit_03_img_003.d655ad24.png)\n",
    "\n",
    "Check moving pointer.\n",
    "\n",
    "If Condistion satisfied, then do some operations (Swap) with respect to the current pointer，\n",
    "\n",
    "You may do the operation, then move the current pointer or move the pointer then do the operation.\n",
    "\n",
    "Then moving pointer += 1.\n",
    "\n",
    "![alt_text](images/Two_Pointers_Code_Example_2_v01_unit_03_img_004.da222149.png)\n"
   ]
  },
  {
   "cell_type": "markdown",
   "id": "655acebe",
   "metadata": {},
   "source": [
    "### Example: Move Zeros, Two Pointer Method"
   ]
  },
  {
   "cell_type": "code",
   "execution_count": 10,
   "id": "7a53c3d8",
   "metadata": {},
   "outputs": [
    {
     "name": "stdout",
     "output_type": "stream",
     "text": [
      "[1, 3, 12, 0, 0]\n",
      "[0]\n"
     ]
    }
   ],
   "source": [
    "class Solution(object):\n",
    "    def moveZeroes(self, nums):\n",
    "        \"\"\"\n",
    "        :type nums: List[int]\n",
    "        :rtype: void Do not return anything, modify nums in-place instead.\n",
    "        \"\"\"\n",
    "        if not nums:\n",
    "            return []\n",
    "        \n",
    "        current = 0\n",
    "        #index \"i\" is our moving pointer, and it keeps moving no matter what.\n",
    "        for i in range(len(nums)):\n",
    "            #the condition check is here:\n",
    "            if nums[i] != 0:\n",
    "                #if the condition satisfied, then do some operation. \n",
    "                #And after the operation, move the current pointer \n",
    "                nums[current], nums[i] = nums[i], nums[current]\n",
    "                current += 1\n",
    "            else: # nums[i] == 0\n",
    "                continue\n",
    "        # return nothing since the replace is done in-place\n",
    "        return\n",
    "\n",
    "sol = Solution()\n",
    "nums1 = [0,1,0,3,12]\n",
    "nums2 = [0]\n",
    "sol.moveZeroes(nums1)\n",
    "print(nums1)\n",
    "print(nums2)"
   ]
  },
  {
   "cell_type": "markdown",
   "id": "977a49dc",
   "metadata": {},
   "source": [
    "### Example: Remove Duplicates from Sorted Array\n",
    "[26. Remove Duplicates from Sorted Array](https://leetcode.com/problems/remove-duplicates-from-sorted-array/)\n",
    "\n",
    "**Description:**\n",
    "\n",
    "Given an integer array nums sorted in non-decreasing order, remove the duplicates in-place such that each unique element appears only once. The relative order of the elements should be kept the same.\n",
    "\n",
    "Since it is impossible to change the length of the array in some languages, you must instead have the result be placed in the first part of the array nums. More formally, if there are k elements after removing the duplicates, then the first k elements of nums should hold the final result. It does not matter what you leave beyond the first k elements.\n",
    "\n",
    "Return k after placing the final result in the first k slots of nums.\n",
    "\n",
    "Do not allocate extra space for another array. You must do this by modifying the input array in-place with **O(1)** extra memory.\n",
    "\n",
    "\n",
    "**Note:**\n",
    "\n",
    "\n",
    "**Example 1:**\n",
    "\n",
    "Input: nums = [1,1,2]\n",
    "\n",
    "Output: 2, nums = [1,2,_]\n",
    "\n",
    "Explanation: Your function should return k = 2, with the first two elements of nums being 1 and 2 respectively.\n",
    "It does not matter what you leave beyond the returned k (hence they are underscores).\n",
    "\n",
    "**Example 2:**\n",
    "\n",
    "Input: nums = [0,0,1,1,1,2,2,3,3,4]\n",
    "\n",
    "Output: 5, nums = [0,1,2,3,4,_,_,_,_,_]\n",
    "\n",
    "Explanation: Your function should return k = 5, with the first five elements of nums being 0, 1, 2, 3, and 4 respectively.\n",
    "\n",
    "It does not matter what you leave beyond the returned k (hence they are underscores).\n",
    "\n",
    "**Constraints:**\n",
    "\n",
    "- 1 <= nums.length <= 3 * 104\n",
    "- -100 <= nums[i] <= 100\n",
    "- nums is sorted in non-decreasing order."
   ]
  },
  {
   "cell_type": "code",
   "execution_count": 11,
   "id": "2ffa4013",
   "metadata": {},
   "outputs": [
    {
     "name": "stdout",
     "output_type": "stream",
     "text": [
      "2\n",
      "5\n"
     ]
    }
   ],
   "source": [
    "class Solution:\n",
    "    def removeDuplicates(self, nums: List[int]) -> int:\n",
    "        if not nums:\n",
    "            return 0\n",
    "        \n",
    "        current = 0\n",
    "        for i in range(len(nums)):\n",
    "            if nums[i] != nums[current]:\n",
    "                current += 1\n",
    "                nums[current] = nums[i]\n",
    "            else:\n",
    "                continue\n",
    "        return current + 1\n",
    "    \n",
    "sol = Solution()\n",
    "print(sol.removeDuplicates(nums = [1,1,2]))\n",
    "print(sol.removeDuplicates(nums = [0,0,1,1,1,2,2,3,3,4]))"
   ]
  },
  {
   "cell_type": "markdown",
   "id": "f6a15c4c",
   "metadata": {},
   "source": [
    "### Example: Find All Anagrams in a String I\n",
    "[438. Find All Anagrams in a String](https://leetcode.com/problems/find-all-anagrams-in-a-string/)\n",
    "\n",
    "**Description:**\n",
    "\n",
    "Given two strings s and p, return an array of all the start indices of p's anagrams in s. You may return the answer in any order.\n",
    "\n",
    "An Anagram is a word or phrase formed by rearranging the letters of a different word or phrase, typically using all the original letters exactly once.\n",
    "\n",
    "\n",
    "**Note:**\n",
    "\n",
    "\n",
    "**Example 1:**\n",
    "\n",
    "Input: s = \"cbaebabacd\", p = \"abc\"\n",
    "\n",
    "Output: [0,6]\n",
    "\n",
    "Explanation:\n",
    "\n",
    "The substring with start index = 0 is \"cba\", which is an anagram of \"abc\".\n",
    "\n",
    "The substring with start index = 6 is \"bac\", which is an anagram of \"abc\".\n",
    "\n",
    "**Example 2:**\n",
    "\n",
    "Input: s = \"abab\", p = \"ab\"\n",
    "\n",
    "Output: [0,1,2]\n",
    "\n",
    "Explanation:\n",
    "\n",
    "The substring with start index = 0 is \"ab\", which is an anagram of \"ab\".\n",
    "\n",
    "The substring with start index = 1 is \"ba\", which is an anagram of \"ab\".\n",
    "\n",
    "The substring with start index = 2 is \"ab\", which is an anagram of \"ab\".\n",
    "\n",
    "**Constraints:**\n",
    "\n",
    "- 1 <= s.length, p.length <= 3 * 104\n",
    "\n",
    "- s and p consist of lowercase English letters."
   ]
  },
  {
   "cell_type": "markdown",
   "id": "b4da3cfd",
   "metadata": {},
   "source": [
    "**Solution:**\n",
    "![alt_text](images/Two_Pointers_Code_Example_4_v01_unit_03_img_001.b1746441.png)"
   ]
  },
  {
   "cell_type": "code",
   "execution_count": 12,
   "id": "db422259",
   "metadata": {},
   "outputs": [
    {
     "data": {
      "text/plain": [
       "Counter({'a': 2, 'b': 1, 'c': 1})"
      ]
     },
     "execution_count": 12,
     "metadata": {},
     "output_type": "execute_result"
    }
   ],
   "source": [
    "# Counter\n",
    "alist = ['a', 'b', 'c', 'a']\n",
    "from collections import Counter\n",
    "Counter(alist)\n"
   ]
  },
  {
   "cell_type": "code",
   "execution_count": 13,
   "id": "d5ec9329",
   "metadata": {},
   "outputs": [
    {
     "data": {
      "text/plain": [
       "[0, 6]"
      ]
     },
     "execution_count": 13,
     "metadata": {},
     "output_type": "execute_result"
    }
   ],
   "source": [
    "def findAnagrams(s, p):\n",
    "    \"\"\"\n",
    "    :type s: str\n",
    "    :type p: str\n",
    "    :rtype: List[int]\n",
    "    \"\"\"\n",
    "\n",
    "    #check if s is empty or other corner cases. Such as s = 'a', p = 'ac'\n",
    "    #the problem said p is non empty, so we may assume that.\n",
    "    \n",
    "    if len(s) < len(p):\n",
    "        return []\n",
    "    #in this problem we introduce Counter, which is good way to get a counter dictionary. \n",
    "    from collections import Counter\n",
    "    pCounter = Counter(p)\n",
    "\n",
    "    #print pCounter\n",
    "    \n",
    "    rL = []\n",
    "    \n",
    "    for i in range(len(s)-len(p)+1):\n",
    "\n",
    "        begin = i\n",
    "        end = begin + len(p)\n",
    "\n",
    "        sCounter = Counter(s[begin:end])\n",
    "\n",
    "        if sCounter== pCounter:\n",
    "            rL.append(i)\n",
    "    return rL\n",
    "findAnagrams(s='cbaebabacd', p='abc')"
   ]
  },
  {
   "cell_type": "code",
   "execution_count": 14,
   "id": "3a7af0eb",
   "metadata": {},
   "outputs": [
    {
     "data": {
      "text/plain": [
       "[0, 6]"
      ]
     },
     "execution_count": 14,
     "metadata": {},
     "output_type": "execute_result"
    }
   ],
   "source": [
    "def findAnagrams_v2(s, p):\n",
    "    \"\"\"\n",
    "    :type s: str\n",
    "    :type p: str\n",
    "    :rtype: List[int]\n",
    "    \"\"\"\n",
    "\n",
    "    #check if s is empty or other corner cases. Such as s = 'a', p = 'ac'\n",
    "    #the problem said p is non empty, so we may assume that.\n",
    "    \n",
    "    if len(s) < len(p):\n",
    "        return []\n",
    "    #in this problem we introduce Counter, which is good way to get a counter dictionary. \n",
    "    from collections import Counter\n",
    "    pCounter = Counter(p)\n",
    "\n",
    "    #print pCounter\n",
    "    \n",
    "    rL = []\n",
    "    \n",
    "    for moving in range(len(s)-len(p)+1):\n",
    "\n",
    "        #window_end = moving + len(p)\n",
    "        sCounter = Counter(s[moving:moving+len(p)])\n",
    "\n",
    "        if sCounter== pCounter:\n",
    "            rL.append(moving)\n",
    "    return rL\n",
    "\n",
    "findAnagrams_v2(s='cbaebabacd', p='abc')"
   ]
  },
  {
   "cell_type": "markdown",
   "id": "d6580967",
   "metadata": {},
   "source": [
    "**Unfortunately, the above solution will encounter \"Time Limit Exceeded\" error in leetcode. Why ?**\n",
    "\n",
    "**The following solution is the better one that passes all tests.**"
   ]
  },
  {
   "cell_type": "code",
   "execution_count": 15,
   "id": "db12bec7",
   "metadata": {},
   "outputs": [],
   "source": [
    "class Solution(object):\n",
    "    def findAnagrams(self, s, p):\n",
    "        \"\"\"\n",
    "        :type s: str\n",
    "        :type p: str\n",
    "        :rtype: List[int]\n",
    "        \"\"\"\n",
    "        from collections import Counter\n",
    "        pCounter = Counter(p)\n",
    "        rL = []\n",
    "        start = 0\n",
    "        end = start+len(p)\n",
    "        sCounter = Counter(s[start:end-1])\n",
    "        \n",
    "        for i in range(end-1, len(s)):\n",
    "            # A new letter comes into my current window. I need to update my sCounter\n",
    "            sCounter[s[i]] =  sCounter.get(s[i],0)+1\n",
    "            # Check my current window\n",
    "            if sCounter == pCounter:\n",
    "                rL.append(start)\n",
    "            #else:Note, the following should not be inside else, no matter the counters are the same or not, we need to move forward\n",
    "            # now move my start pointer, so the window moves, and we update the sCounter\n",
    "            sCounter[s[start]] -= 1\n",
    "            \n",
    "            # if a key has zero value, we must delete it. \n",
    "            # ex {'a':1, 'b':1, 'c':1} != {'a':1, 'b':1, 'c':1, 'd':0}\n",
    "            if sCounter[s[start]] == 0:\n",
    "                del sCounter[s[start]]\n",
    "            #whenever i moves, start moves, to keep the window size.\n",
    "            start += 1\n",
    "        return rL"
   ]
  },
  {
   "cell_type": "code",
   "execution_count": 17,
   "id": "9fff8a77",
   "metadata": {},
   "outputs": [
    {
     "name": "stdout",
     "output_type": "stream",
     "text": [
      "[0, 6]\n",
      "[0, 1, 2]\n"
     ]
    }
   ],
   "source": [
    "class Solution:\n",
    "    def findAnagrams(self, s: str, p: str) -> List[int]:\n",
    "        if len(s) < len(p):\n",
    "            return []\n",
    "        \n",
    "        from collections import Counter\n",
    "        pCounter = Counter(p)\n",
    "        \n",
    "        rL = []\n",
    "        start = 0\n",
    "        end = start + len(p)\n",
    "        sCounter = Counter(s[start:end-1])\n",
    "        \n",
    "        for i in range(end-1, len(s)):\n",
    "            sCounter[s[i]] = sCounter.get(s[i], 0) + 1\n",
    "            if sCounter == pCounter:\n",
    "                rL.append(start)\n",
    "            \n",
    "            sCounter[s[start]] -= 1\n",
    "            if sCounter[s[start]] == 0:\n",
    "                del sCounter[s[start]]\n",
    "            \n",
    "            start += 1\n",
    "        \n",
    "        return rL\n",
    "\n",
    "sol = Solution()\n",
    "print(sol.findAnagrams(s = \"cbaebabacd\", p = \"abc\"))\n",
    "print(sol.findAnagrams(s = \"abab\", p = \"ab\"))"
   ]
  },
  {
   "cell_type": "code",
   "execution_count": null,
   "id": "bb42d1be",
   "metadata": {},
   "outputs": [],
   "source": []
  }
 ],
 "metadata": {
  "kernelspec": {
   "display_name": "Python 3 (ipykernel)",
   "language": "python",
   "name": "python3"
  },
  "language_info": {
   "codemirror_mode": {
    "name": "ipython",
    "version": 3
   },
   "file_extension": ".py",
   "mimetype": "text/x-python",
   "name": "python",
   "nbconvert_exporter": "python",
   "pygments_lexer": "ipython3",
   "version": "3.8.13"
  }
 },
 "nbformat": 4,
 "nbformat_minor": 5
}
