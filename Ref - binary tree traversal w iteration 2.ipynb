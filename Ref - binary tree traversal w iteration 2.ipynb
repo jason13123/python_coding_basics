{
 "cells": [
  {
   "cell_type": "markdown",
   "id": "e22b12b1",
   "metadata": {},
   "source": [
    "## Ref - 二叉树后序遍历迭代法\n",
    "\n",
    "Reference:\n",
    "   \n",
    "   - 作者：rocky0429-2 [编程文青李狗蛋](https://leetcode.cn/problems/binary-tree-postorder-traversal/solution/acm-xuan-shou-tu-jie-leetcode-er-cha-shu-q9ep/)\n",
    "   \n",
    "   来源：力扣（LeetCode） 著作权归作者所有。商业转载请联系作者获得授权，非商业转载请注明出处。"
   ]
  },
  {
   "cell_type": "code",
   "execution_count": 4,
   "id": "07e4c219",
   "metadata": {},
   "outputs": [],
   "source": [
    "from typing import *"
   ]
  },
  {
   "cell_type": "code",
   "execution_count": 5,
   "id": "aba44dc4",
   "metadata": {},
   "outputs": [],
   "source": [
    "# Definition for a binary tree node.\n",
    "class TreeNode:\n",
    "    def __init__(self, val=0, left=None, right=None):\n",
    "        self.val = val\n",
    "        self.left = left\n",
    "        self.right = right"
   ]
  },
  {
   "cell_type": "markdown",
   "id": "e5d1b1bc",
   "metadata": {},
   "source": [
    "后序遍历的顺序是：左子树、右子树、根，先输出左子树，再输出右子树，最后输出根。\n",
    "\n",
    "那对于根节点来说，它要被搞 3 次：\n",
    "- 第 1 次经过它，去向左子树。\n",
    "\n",
    "- 第 2 次从左子树回来，经过它，去向右子树。\n",
    "\n",
    "- 第 3 次从右子树回退到它。\n",
    "\n",
    "\n",
    "具体步骤如下所示：\n",
    "\n",
    "- 初始化一个空栈。\n",
    "\n",
    "- 当【根节点不为空】或者【栈不为空】时，从根节点开始\n",
    "\n",
    "    - 每次将当前节点压入栈中，如果当前节点右左子树，就往左子树跑，没有左子树就往右子树跑。\n",
    "    \n",
    "    - 若当前节点无左子树也无右子树，从栈中弹出该节点，如果当前节点是上一个节点（即弹出该节点后的栈顶元素）的左节点，尝试访问上个节点的右子树，如果不是，那当前栈的栈顶元素继续弹出。\n",
    "    \n"
   ]
  },
  {
   "cell_type": "markdown",
   "id": "962ef492",
   "metadata": {},
   "source": [
    "## 图解\n",
    "\n",
    "![alt_text](images/1645581150-gNYwuc-20220123_102823829_0.jpeg)\n",
    "\n",
    "首先初始化一个空栈。\n",
    "\n",
    "![alt_text](images/1645581150-JCoTLo-20220123_102839966_0.jpeg)\n",
    "\n",
    "stack = []\n",
    "\n",
    "从根节点开始，如果当前节点一直有左子树，那就一直向左子树遍历，同时将当前的节点压入栈中。\n",
    "\n",
    "![alt_text](images/1645581150-tcxkaI-20220123_102913175_0.jpeg)\n",
    "\n",
    "![alt_text](images/1645581150-XqKLIm-20220123_102920151_0.jpeg)\n",
    "\n",
    "![alt_text](images/1645581150-JwBkEG-20220123_102927524_0.jpeg)"
   ]
  },
  {
   "cell_type": "raw",
   "id": "15ade6e0",
   "metadata": {},
   "source": [
    "while root:\n",
    "    # 当前节点入栈\n",
    "    stack.append(root)\n",
    "    # 如果当前节点有左子树，继续向左子树找\n",
    "    if root.left:\n",
    "        root = root.left"
   ]
  },
  {
   "cell_type": "markdown",
   "id": "deb44e6d",
   "metadata": {},
   "source": [
    "当前走到了最左面，当前栈顶元素无左右子树，为叶子节点，弹出栈顶元素，加入结果数组中。"
   ]
  },
  {
   "cell_type": "raw",
   "id": "3afa2ce5",
   "metadata": {},
   "source": [
    "# 跳出循环的条件是 root 为空，那当前栈顶元素为叶子节点。\n",
    "# 弹出栈顶元素，并加入结果数组\n",
    "cur = stack.pop()\n",
    "res.append(cur.val)"
   ]
  },
  {
   "cell_type": "markdown",
   "id": "1c980fa1",
   "metadata": {},
   "source": [
    "![alt_text](images/1645581150-HkhsVg-20220123_103000514_0.jpeg)"
   ]
  },
  {
   "cell_type": "raw",
   "id": "8ef4d195",
   "metadata": {},
   "source": [
    "# 如果栈不为空，且当前栈顶元素的左节点是刚刚跳出的栈顶元素 cur\n",
    "# 则转向遍历右子树当前栈顶元素的右子树\n",
    "if stack and stack[-1].left == cur:\n",
    "    root = stack[-1].right"
   ]
  },
  {
   "cell_type": "markdown",
   "id": "cff5771c",
   "metadata": {},
   "source": [
    "当前 cur 为 当前栈顶元素的左节点，继续遍历当前栈顶元素的右子树。\n",
    "\n",
    "![alt_text](images/1645581150-YeualY-20220123_103029888_0.jpeg)\n",
    "\n",
    "接下来的动作就是在重复上面的操作。\n",
    "\n",
    "![alt_text](images/1645581150-weVuOI-20220123_103105317_0.jpeg)\n",
    "\n",
    "![alt_text](images/1645581150-rfSdIx-20220123_103115345_0.jpeg)\n",
    "\n",
    "![alt_text](images/1645581150-dEVIQk-20220123_103123822_0.jpeg)\n",
    "\n",
    "![alt_text](images/1645581150-Uzouep-20220123_103130873_0.jpeg)\n",
    "\n",
    "![alt_text](images/1645581150-CCHTAU-20220123_103137557_0.jpeg)"
   ]
  },
  {
   "cell_type": "markdown",
   "id": "1127876a",
   "metadata": {},
   "source": [
    "## 复杂度分析\n",
    "\n",
    "- 时间复杂度：O(n)，其中 n 是二叉搜索树的节点数。每一个节点恰好被遍历一次。\n",
    "\n",
    "- 空间复杂度：O(n)，为迭代过程中显式栈的开销，平均情况下为 O(logn)，最坏情况下树呈现链状，为 O(n)。"
   ]
  },
  {
   "cell_type": "code",
   "execution_count": 6,
   "id": "e7950ac3",
   "metadata": {},
   "outputs": [],
   "source": [
    "def postorderTraversal(self, root: TreeNode) -> List[int]:\n",
    "    # 注意：根节点为空，直接返回空列表\n",
    "    if not root:\n",
    "        return []\n",
    "\n",
    "    stack = []\n",
    "    res = []\n",
    "\n",
    "    while root or stack:\n",
    "        while root:\n",
    "            # 当前节点入栈\n",
    "            stack.append(root)\n",
    "            # 如果当前节点有左子树，继续向左子树找\n",
    "            if root.left:\n",
    "                root = root.left\n",
    "            # 如果当前节点无左子树，在右子树继续找\n",
    "            else:\n",
    "                root = root.right\n",
    "        # 跳出循环的条件是 root 为空，那当前栈顶元素为叶子节点。\n",
    "        # 弹出栈顶元素，并加入结果数组\n",
    "        cur = stack.pop()\n",
    "        res.append(cur.val)\n",
    "        # 如果栈不为空，且当前栈顶元素的左节点是刚刚跳出的栈顶元素 cur\n",
    "        # 则转向遍历右子树当前栈顶元素的右子树\n",
    "        if stack and stack[-1].left == cur:\n",
    "            root = stack[-1].right\n",
    "        # 否则证明当前栈顶元素无左右子树，那当前的栈顶元素弹出。\n",
    "        else:\n",
    "            root = None\n",
    "\n",
    "    return res"
   ]
  }
 ],
 "metadata": {
  "kernelspec": {
   "display_name": "Python 3 (ipykernel)",
   "language": "python",
   "name": "python3"
  },
  "language_info": {
   "codemirror_mode": {
    "name": "ipython",
    "version": 3
   },
   "file_extension": ".py",
   "mimetype": "text/x-python",
   "name": "python",
   "nbconvert_exporter": "python",
   "pygments_lexer": "ipython3",
   "version": "3.8.13"
  }
 },
 "nbformat": 4,
 "nbformat_minor": 5
}
