{
 "cells": [
  {
   "cell_type": "markdown",
   "id": "762ba92e",
   "metadata": {},
   "source": [
    "## Week 7: DFS with Stack and BFS with Queue\n",
    "- Algorithm: Depth First Searching\n",
    "- Algorithm: Breadth First Searching"
   ]
  },
  {
   "cell_type": "code",
   "execution_count": 1,
   "id": "e7648004",
   "metadata": {},
   "outputs": [],
   "source": [
    "from typing import *"
   ]
  },
  {
   "cell_type": "markdown",
   "id": "b35eadc5",
   "metadata": {},
   "source": [
    "### Recusive DFS Review"
   ]
  },
  {
   "cell_type": "markdown",
   "id": "da3b3d47",
   "metadata": {},
   "source": [
    "### Depth First Search (DFS)"
   ]
  },
  {
   "cell_type": "markdown",
   "id": "87c11fbd",
   "metadata": {},
   "source": [
    "**Depth First Search (Recursion version)**\n",
    "\n",
    "![alt_text](images/Depth_First_Search_v01_unit_06_img_001.1dda07fe.png)"
   ]
  },
  {
   "cell_type": "markdown",
   "id": "1c8cf6c5",
   "metadata": {},
   "source": [
    "- Visiting the tree in the order (pre-order):\n",
    "        A->B->D->F->E->C"
   ]
  },
  {
   "cell_type": "markdown",
   "id": "6caca643",
   "metadata": {},
   "source": [
    "**Construct a Tree**"
   ]
  },
  {
   "cell_type": "code",
   "execution_count": 2,
   "id": "3a0fc96f",
   "metadata": {},
   "outputs": [],
   "source": [
    "class TreeNode(object):\n",
    "    def __init__(self, val=0, left=None, right=None):\n",
    "        self.val = val\n",
    "        self.left = left\n",
    "        self.right = right"
   ]
  },
  {
   "cell_type": "code",
   "execution_count": 3,
   "id": "e3241e4b",
   "metadata": {},
   "outputs": [
    {
     "name": "stdout",
     "output_type": "stream",
     "text": [
      "<__main__.TreeNode object at 0x7f88584a5d00> val: 1\n"
     ]
    }
   ],
   "source": [
    "nodeF = TreeNode(val=6, left=None, right=None)\n",
    "nodeD = TreeNode(val=4, left=nodeF, right=None)\n",
    "nodeE = TreeNode(val=5, left=None, right=None)\n",
    "nodeC = TreeNode(val=3, left=None, right=None)\n",
    "nodeB = TreeNode(val=2, left=nodeD, right=nodeE)\n",
    "nodeA = TreeNode(val=1, left=nodeB, right=nodeC)\n",
    "print (nodeA,'val:', nodeA.val)"
   ]
  },
  {
   "cell_type": "code",
   "execution_count": 4,
   "id": "cd2c64e6",
   "metadata": {},
   "outputs": [
    {
     "data": {
      "text/plain": [
       "__main__.TreeNode"
      ]
     },
     "execution_count": 4,
     "metadata": {},
     "output_type": "execute_result"
    }
   ],
   "source": [
    "TreeNode"
   ]
  },
  {
   "cell_type": "code",
   "execution_count": 5,
   "id": "9b230b35",
   "metadata": {},
   "outputs": [],
   "source": [
    "node_map = {1:'A', 2:'B', 3:'C', 4:'D', 5:'E', 6:'F'}"
   ]
  },
  {
   "cell_type": "code",
   "execution_count": 6,
   "id": "f93dc7c0",
   "metadata": {},
   "outputs": [],
   "source": [
    "def DFS(root):\n",
    "    if not root:\n",
    "        return None\n",
    "    print(\"root.val\", root.val, node_map[root.val]) # place the operation before left and right recursion is referred as pre-order DFS\n",
    "    if root.left:\n",
    "        DFS(root.left)\n",
    "    if root.right:\n",
    "        DFS(root.right)"
   ]
  },
  {
   "cell_type": "code",
   "execution_count": 7,
   "id": "0b8b4839",
   "metadata": {},
   "outputs": [
    {
     "name": "stdout",
     "output_type": "stream",
     "text": [
      "root.val 1 A\n",
      "root.val 2 B\n",
      "root.val 4 D\n",
      "root.val 6 F\n",
      "root.val 5 E\n",
      "root.val 3 C\n"
     ]
    }
   ],
   "source": [
    "DFS(nodeA)"
   ]
  },
  {
   "cell_type": "markdown",
   "id": "60a9f529",
   "metadata": {},
   "source": [
    "**Note:** The pre-oder is A -> B -> D -> F -> E -> C"
   ]
  },
  {
   "cell_type": "markdown",
   "id": "d266a62b",
   "metadata": {},
   "source": [
    "### DFS with  Stack - Preorder"
   ]
  },
  {
   "cell_type": "code",
   "execution_count": 8,
   "id": "fe2860db",
   "metadata": {},
   "outputs": [],
   "source": [
    "def DFS_stack(root):\n",
    "    stack = [root]\n",
    "    while len(stack) > 0: # while stack:\n",
    "        check  = stack.pop()\n",
    "        print(\"check.val\", check.val, node_map[check.val])\n",
    "        if check.right:\n",
    "            stack.append(check.right)\n",
    "        if check.left:\n",
    "            stack.append(check.left)\n",
    "    return"
   ]
  },
  {
   "cell_type": "code",
   "execution_count": 9,
   "id": "4fd016cf",
   "metadata": {},
   "outputs": [
    {
     "name": "stdout",
     "output_type": "stream",
     "text": [
      "check.val 1 A\n",
      "check.val 2 B\n",
      "check.val 4 D\n",
      "check.val 6 F\n",
      "check.val 5 E\n",
      "check.val 3 C\n"
     ]
    }
   ],
   "source": [
    "DFS_stack(nodeA)"
   ]
  },
  {
   "cell_type": "markdown",
   "id": "69b60151",
   "metadata": {},
   "source": [
    "### Visualize DFS with Stack - Preorder\n",
    "\n",
    "\n",
    "![alt_text](images/DFS_with_Stack_Preorder_unit_07_img_002.d0627d26.png)\n",
    "\n",
    "![alt_text](images/DFS_with_Stack_Preorder_unit_07_img_003.b58c1667.png)"
   ]
  },
  {
   "cell_type": "code",
   "execution_count": null,
   "id": "443a30a9",
   "metadata": {},
   "outputs": [],
   "source": []
  },
  {
   "cell_type": "markdown",
   "id": "4deb0679",
   "metadata": {},
   "source": [
    "### DFS with Stack: In-Order"
   ]
  },
  {
   "cell_type": "markdown",
   "id": "3e17eaa9",
   "metadata": {},
   "source": [
    "**Depth First Search - In order by stack:**\n",
    "\n",
    "![alt_text](images/Depth_First_Search_v01_unit_06_img_002.1dda07fe.png)"
   ]
  },
  {
   "cell_type": "code",
   "execution_count": 10,
   "id": "59fefbec",
   "metadata": {},
   "outputs": [],
   "source": [
    "def DFS_inorder(root):\n",
    "    if not root:\n",
    "        return None\n",
    "    if root.left:\n",
    "        DFS_inorder(root.left)\n",
    "    print(\"root.val\", root.val, node_map[root.val]) # place the operation in between left and right recursion is referred as in-order DFS\n",
    "    if root.right:\n",
    "        DFS_inorder(root.right)"
   ]
  },
  {
   "cell_type": "markdown",
   "id": "338703ca",
   "metadata": {},
   "source": [
    "Inorder tree traversal with STACK data structure\n",
    "\n",
    "1. Create an empty stack \"node_stack\"\n",
    "2. Push the current root to \"node_stack\" and set root=root.left until root is None\n",
    "3. If the current root is None and the \"node_stack\" is not empty, then:\n",
    "    a. Pop the top item from the \"node_stack\"\n",
    "    b. Print the popped item and set root = popped_item.right\n",
    "    c. Go to step 3\n",
    "4. If current root is None and \"node_stack\" is empty then return."
   ]
  },
  {
   "cell_type": "code",
   "execution_count": 11,
   "id": "5ffbbf82",
   "metadata": {},
   "outputs": [],
   "source": [
    "def DFS_stack_inorder(root):\n",
    "    \"\"\"\n",
    "    :type root: TreeNode\n",
    "    :rtype: List[int]\n",
    "    \"\"\"\n",
    "    if not root:\n",
    "        return []\n",
    "    \n",
    "    node_stack = []\n",
    "    \n",
    "    while node_stack or root:\n",
    "        if root:\n",
    "            node_stack.append(root)\n",
    "            root = root.left\n",
    "        else:\n",
    "            node = node_stack.pop()\n",
    "            print(\"node.val\", node.val, node_map[node.val])\n",
    "            root = node.right\n",
    "    return"
   ]
  },
  {
   "cell_type": "code",
   "execution_count": 12,
   "id": "ae93a209",
   "metadata": {
    "scrolled": true
   },
   "outputs": [
    {
     "name": "stdout",
     "output_type": "stream",
     "text": [
      "node.val 6 F\n",
      "node.val 4 D\n",
      "node.val 2 B\n",
      "node.val 5 E\n",
      "node.val 1 A\n",
      "node.val 3 C\n"
     ]
    }
   ],
   "source": [
    "DFS_stack_inorder(nodeA)"
   ]
  },
  {
   "cell_type": "markdown",
   "id": "a7323093",
   "metadata": {},
   "source": [
    "**Note:** The in-oder is F -> D -> B -> E -> A -> C"
   ]
  },
  {
   "cell_type": "markdown",
   "id": "45900dd5",
   "metadata": {},
   "source": [
    "### Visualize DFS with Stack - Inorder\n",
    "\n",
    "\n",
    "![alt_text](images/DFS_with_Stack_Inorder_unit_07_img_002.2feb7f72.png)\n",
    "\n",
    "![alt_text](images/DFS_with_Stack_Inorder_unit_07_img_003.dec47bf3.png)"
   ]
  },
  {
   "cell_type": "markdown",
   "id": "a6439cec",
   "metadata": {},
   "source": [
    "### BFS - Breadth First Search \n",
    "\n",
    "**BFS (Also known as level-order tree traversal):**\n",
    "\n",
    "![alt_text](images/Depth_First_Search_v01_unit_06_img_002.1dda07fe.png)"
   ]
  },
  {
   "cell_type": "code",
   "execution_count": 15,
   "id": "c9c5b5d2",
   "metadata": {},
   "outputs": [],
   "source": [
    "from collections import deque\n",
    "def BFS(root):\n",
    "    \n",
    "    queue = deque([root])\n",
    "    \n",
    "    while queue:\n",
    "        for _ in range(len(queue)):\n",
    "            node = queue.popleft()\n",
    "            print(\"node.val\", node.val, node_map[node.val])\n",
    "            if node.left:\n",
    "                queue.append(node.left)\n",
    "            if node.right:\n",
    "                queue.append(node.right)"
   ]
  },
  {
   "cell_type": "code",
   "execution_count": 16,
   "id": "b48d163b",
   "metadata": {},
   "outputs": [
    {
     "name": "stdout",
     "output_type": "stream",
     "text": [
      "node.val 1 A\n",
      "node.val 2 B\n",
      "node.val 3 C\n",
      "node.val 4 D\n",
      "node.val 5 E\n",
      "node.val 6 F\n"
     ]
    }
   ],
   "source": [
    "BFS(nodeA)"
   ]
  },
  {
   "cell_type": "markdown",
   "id": "0209a2a3",
   "metadata": {},
   "source": [
    "### Visualize BFS\n",
    "\n",
    "\n",
    "![alt_text](images/BFS_with_Queue_unit_07_img_002.7159de78.png)\n",
    "\n",
    "![alt_text](images/BFS_with_Queue_unit_07_img_003.701c3098.png)"
   ]
  },
  {
   "cell_type": "markdown",
   "id": "b1a67c39",
   "metadata": {},
   "source": [
    "### Exercise:  Binary Tree Level Order Traversal\n",
    "[102. Binary Tree Level Order Traversal](https://leetcode.com/problems/binary-tree-level-order-traversal/)\n",
    "\n",
    "**Description:**\n",
    "\n",
    "Given the root of a binary tree, return the level order traversal of its nodes' values. (i.e., from left to right, level by level).\n",
    "\n",
    "**Note:**\n",
    "\n",
    "\n",
    "\n",
    "**Example 1:**\n",
    "\n",
    "![alt_text](https://github.com/jason13123/python_coding_basics/blob/master/images/leetcode102_ex1_tree1.jpeg?raw=1)\n",
    "\n",
    "Input: root = [3,9,20,null,null,15,7]\n",
    "\n",
    "Output: [[3],[9,20],[15,7]]\n",
    "\n",
    "**Example 2:**\n",
    "\n",
    "Input: root = [1]\n",
    "\n",
    "Output: [[1]]\n",
    "\n",
    "**Example 3:**\n",
    "\n",
    "Input: root = []\n",
    "\n",
    "Output: []"
   ]
  },
  {
   "cell_type": "code",
   "execution_count": 17,
   "id": "b68bc100",
   "metadata": {},
   "outputs": [],
   "source": [
    "# Definition for a binary tree node.\n",
    "class TreeNode:\n",
    "    def __init__(self, val=0, left=None, right=None):\n",
    "        self.val = val\n",
    "        self.left = left\n",
    "        self.right = right\n",
    "class Solution:\n",
    "    def levelOrder(self, root: Optional[TreeNode]) -> List[List[int]]:\n",
    "        if not root:\n",
    "            return []\n",
    "        res = []\n",
    "        \n",
    "        from collections import deque\n",
    "        \n",
    "        queue = deque([root])\n",
    "        \n",
    "        while queue:\n",
    "            level = []\n",
    "            for _ in range(len(queue)):\n",
    "                node = queue.popleft()\n",
    "                level.append(node.val)\n",
    "                if node.left:\n",
    "                    queue.append(node.left)\n",
    "                if node.right:\n",
    "                    queue.append(node.right)\n",
    "            if level:\n",
    "                res.append(level)\n",
    "        return res"
   ]
  },
  {
   "cell_type": "code",
   "execution_count": null,
   "id": "9c0f7b34",
   "metadata": {},
   "outputs": [],
   "source": []
  }
 ],
 "metadata": {
  "kernelspec": {
   "display_name": "Python 3 (ipykernel)",
   "language": "python",
   "name": "python3"
  },
  "language_info": {
   "codemirror_mode": {
    "name": "ipython",
    "version": 3
   },
   "file_extension": ".py",
   "mimetype": "text/x-python",
   "name": "python",
   "nbconvert_exporter": "python",
   "pygments_lexer": "ipython3",
   "version": "3.8.13"
  }
 },
 "nbformat": 4,
 "nbformat_minor": 5
}
