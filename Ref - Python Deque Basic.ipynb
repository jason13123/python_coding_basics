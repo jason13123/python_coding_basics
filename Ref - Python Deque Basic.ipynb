{
 "cells": [
  {
   "cell_type": "markdown",
   "id": "e22b12b1",
   "metadata": {},
   "source": [
    "## Ref - Python Deque Basic\n",
    "\n",
    "Reference:\n",
    "\n",
    "   - [Deque in Python](https://www.geeksforgeeks.org/deque-in-python/)"
   ]
  },
  {
   "cell_type": "markdown",
   "id": "e5d1b1bc",
   "metadata": {},
   "source": [
    "Deque (Doubly Ended Queue) in Python is implemented using the module “collections“. Deque is preferred over a list in the cases where we need quicker append and pop operations from both the ends of the container, as deque provides an O(1) time complexity for append and pop operations as compared to list which provides O(n) time complexity."
   ]
  },
  {
   "cell_type": "markdown",
   "id": "962ef492",
   "metadata": {},
   "source": [
    "**Examples**"
   ]
  },
  {
   "cell_type": "code",
   "execution_count": 2,
   "id": "f2ae83d8",
   "metadata": {},
   "outputs": [
    {
     "name": "stdout",
     "output_type": "stream",
     "text": [
      "deque(['name', 'age', 'DOB'])\n"
     ]
    }
   ],
   "source": [
    "# Python code to demonstrate deque     \n",
    "from collections import deque\n",
    "     \n",
    "# Declaring deque\n",
    "queue = deque(['name','age','DOB']) \n",
    "     \n",
    "print(queue)"
   ]
  },
  {
   "cell_type": "markdown",
   "id": "59a3ff57",
   "metadata": {},
   "source": [
    "Let’s see various Operations on deque : \n",
    "\n",
    "- **append():- This function is used to insert the value in its argument to the right end of the deque.**\n",
    "- **appendleft():- This function is used to insert the value in its argument to the left end of the deque.**\n",
    "- **pop():- This function is used to delete an argument from the right end of the deque.**\n",
    "- **popleft():- This function is used to delete an argument from the left end of the deque.**"
   ]
  },
  {
   "cell_type": "code",
   "execution_count": 3,
   "id": "9ee1b1a8",
   "metadata": {},
   "outputs": [
    {
     "name": "stdout",
     "output_type": "stream",
     "text": [
      "The deque after appending at right is : \n",
      "deque([1, 2, 3, 4])\n",
      "The deque after appending at left is : \n",
      "deque([6, 1, 2, 3, 4])\n",
      "The deque after deleting from right is : \n",
      "deque([6, 1, 2, 3])\n",
      "The deque after deleting from left is : \n",
      "deque([1, 2, 3])\n"
     ]
    }
   ],
   "source": [
    "# Python code to demonstrate working of\n",
    "# append(), appendleft(), pop(), and popleft()\n",
    " \n",
    "# importing \"collections\" for deque operations\n",
    "import collections\n",
    " \n",
    "# initializing deque\n",
    "de = collections.deque([1,2,3])\n",
    " \n",
    "# using append() to insert element at right end\n",
    "# inserts 4 at the end of deque\n",
    "de.append(4)\n",
    " \n",
    "# printing modified deque\n",
    "print (\"The deque after appending at right is : \")\n",
    "print (de)\n",
    " \n",
    "# using appendleft() to insert element at left end\n",
    "# inserts 6 at the beginning of deque\n",
    "de.appendleft(6)\n",
    " \n",
    "# printing modified deque\n",
    "print (\"The deque after appending at left is : \")\n",
    "print (de)\n",
    " \n",
    "# using pop() to delete element from right end\n",
    "# deletes 4 from the right end of deque\n",
    "de.pop()\n",
    " \n",
    "# printing modified deque\n",
    "print (\"The deque after deleting from right is : \")\n",
    "print (de)\n",
    " \n",
    "# using popleft() to delete element from left end\n",
    "# deletes 6 from the left end of deque\n",
    "de.popleft()\n",
    " \n",
    "# printing modified deque\n",
    "print (\"The deque after deleting from left is : \")\n",
    "print (de)"
   ]
  },
  {
   "cell_type": "markdown",
   "id": "ac340978",
   "metadata": {},
   "source": [
    "- **index(ele, beg, end):- This function returns the first index of the value mentioned in arguments, starting searching from beg till end index.**\n",
    "- **insert(i, a) :- This function inserts the value mentioned in arguments(a) at index(i) specified in arguments.**\n",
    "- **remove():- This function removes the first occurrence of value mentioned in arguments.**\n",
    "- **count():- This function counts the number of occurrences of value mentioned in arguments.**"
   ]
  },
  {
   "cell_type": "code",
   "execution_count": 8,
   "id": "054c8846",
   "metadata": {},
   "outputs": [
    {
     "name": "stdout",
     "output_type": "stream",
     "text": [
      "The number 4 first occurs at a position : \n",
      "4\n",
      "The deque after inserting 3 at 5th position is : \n",
      "deque([1, 2, 3, 3, 3, 4, 2, 4])\n",
      "The count of 3 in deque is : \n",
      "3\n",
      "The deque after deleting first occurrence of 3 is : \n",
      "deque([1, 2, 3, 3, 4, 2, 4])\n"
     ]
    }
   ],
   "source": [
    "# Python code to demonstrate working of\n",
    "# insert(), index(), remove(), count()\n",
    " \n",
    "# importing \"collections\" for deque operations\n",
    "import collections\n",
    " \n",
    "# initializing deque\n",
    "de = collections.deque([1, 2, 3, 3, 4, 2, 4])\n",
    " \n",
    "# using index() to print the first occurrence of 4\n",
    "# search from beg index to but not inlcude end index\n",
    "print (\"The number 4 first occurs at a position : \")\n",
    "print (de.index(4,2,5))\n",
    " \n",
    "# using insert() to insert the value 3 at 5th position\n",
    "de.insert(4,3)\n",
    " \n",
    "# printing modified deque\n",
    "print (\"The deque after inserting 3 at 5th position is : \")\n",
    "print (de)\n",
    " \n",
    "# using count() to count the occurrences of 3\n",
    "print (\"The count of 3 in deque is : \")\n",
    "print (de.count(3))\n",
    " \n",
    "# using remove() to remove the first occurrence of 3\n",
    "de.remove(3)\n",
    " \n",
    "# printing modified deque\n",
    "print (\"The deque after deleting first occurrence of 3 is : \")\n",
    "print (de)"
   ]
  },
  {
   "cell_type": "markdown",
   "id": "956ab444",
   "metadata": {},
   "source": [
    "- **extend(iterable):- This function is used to add multiple values at the right end of the deque. The argument passed is iterable.**\n",
    "- **extendleft(iterable):- This function is used to add multiple values at the left end of the deque. The argument passed is iterable. Order is reversed as a result of left appends.**\n",
    "- **reverse():- This function is used to reverse the order of deque elements.**\n",
    "- **rotate():- This function rotates the deque by the number specified in arguments. If the number specified is negative, rotation occurs to the left. Else rotation is to right.**"
   ]
  },
  {
   "cell_type": "code",
   "execution_count": 11,
   "id": "46b7d8f5",
   "metadata": {},
   "outputs": [
    {
     "name": "stdout",
     "output_type": "stream",
     "text": [
      "The deque after extending deque at end is : \n",
      "deque([1, 2, 3, 4, 5, 6])\n",
      "The deque after extending deque at beginning is : \n",
      "deque([9, 8, 7, 1, 2, 3, 4, 5, 6])\n",
      "The deque after rotating deque is : \n",
      "deque([1, 2, 3, 4, 5, 6, 9, 8, 7])\n",
      "The deque after reversing deque is : \n",
      "deque([7, 8, 9, 6, 5, 4, 3, 2, 1])\n",
      "The deque after rotating deque is : \n",
      "deque([3, 2, 1, 7, 8, 9, 6, 5, 4])\n"
     ]
    }
   ],
   "source": [
    "# Python code to demonstrate working of\n",
    "# extend(), extendleft(), rotate(), reverse()\n",
    " \n",
    "# importing \"collections\" for deque operations\n",
    "import collections\n",
    " \n",
    "# initializing deque\n",
    "de = collections.deque([1, 2, 3,])\n",
    " \n",
    "# using extend() to add numbers to right end\n",
    "# adds 4,5,6 to right end\n",
    "de.extend([4,5,6])\n",
    " \n",
    "# printing modified deque\n",
    "print (\"The deque after extending deque at end is : \")\n",
    "print (de)\n",
    " \n",
    "# using extendleft() to add numbers to left end\n",
    "# adds 7,8,9 to left end\n",
    "de.extendleft([7,8,9])\n",
    " \n",
    "# printing modified deque\n",
    "print (\"The deque after extending deque at beginning is : \")\n",
    "print (de)\n",
    " \n",
    "# using rotate() to rotate the deque\n",
    "# rotates by 3 to left\n",
    "de.rotate(-3)\n",
    " \n",
    "# printing modified deque\n",
    "print (\"The deque after rotating deque is : \")\n",
    "print (de)\n",
    " \n",
    "# using reverse() to reverse the deque\n",
    "de.reverse()\n",
    " \n",
    "# printing modified deque\n",
    "print (\"The deque after reversing deque is : \")\n",
    "print (de)\n",
    "\n",
    "# using rotate() to rotate the deque\n",
    "# rotates by 3 to left\n",
    "de.rotate(3)\n",
    "\n",
    "# printing modified deque\n",
    "print (\"The deque after rotating deque is : \")\n",
    "print (de)"
   ]
  },
  {
   "cell_type": "code",
   "execution_count": null,
   "id": "e7950ac3",
   "metadata": {},
   "outputs": [],
   "source": []
  }
 ],
 "metadata": {
  "kernelspec": {
   "display_name": "Python 3 (ipykernel)",
   "language": "python",
   "name": "python3"
  },
  "language_info": {
   "codemirror_mode": {
    "name": "ipython",
    "version": 3
   },
   "file_extension": ".py",
   "mimetype": "text/x-python",
   "name": "python",
   "nbconvert_exporter": "python",
   "pygments_lexer": "ipython3",
   "version": "3.8.13"
  }
 },
 "nbformat": 4,
 "nbformat_minor": 5
}
