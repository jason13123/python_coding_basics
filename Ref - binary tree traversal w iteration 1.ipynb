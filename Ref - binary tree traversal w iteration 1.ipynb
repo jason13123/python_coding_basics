{
 "cells": [
  {
   "cell_type": "markdown",
   "id": "e22b12b1",
   "metadata": {},
   "source": [
    "## Ref - 二叉树前中后序遍历迭代法\n",
    "\n",
    "Reference:\n",
    "   \n",
    "   - 作者：carlsun-2 [代码随想录](https://leetcode.cn/problems/binary-tree-postorder-traversal/solution/bang-ni-dui-er-cha-shu-bu-zai-mi-mang-che-di-chi-t/)\n",
    "   \n",
    "   来源：力扣（LeetCode） 著作权归作者所有。商业转载请联系作者获得授权，非商业转载请注明出处。"
   ]
  },
  {
   "cell_type": "code",
   "execution_count": 1,
   "id": "07e4c219",
   "metadata": {},
   "outputs": [],
   "source": [
    "from typing import *"
   ]
  },
  {
   "cell_type": "code",
   "execution_count": 2,
   "id": "aba44dc4",
   "metadata": {},
   "outputs": [],
   "source": [
    "# Definition for a binary tree node.\n",
    "class TreeNode:\n",
    "    def __init__(self, val=0, left=None, right=None):\n",
    "        self.val = val\n",
    "        self.left = left\n",
    "        self.right = right"
   ]
  },
  {
   "cell_type": "markdown",
   "id": "e5d1b1bc",
   "metadata": {},
   "source": [
    "- 二叉树深度优先遍历\n",
    "\n",
    "    - 前序遍历： 144.二叉树的前序遍历\n",
    "    - 后序遍历： 145.二叉树的后序遍历\n",
    "    - 中序遍历： 94.二叉树的中序遍历\n",
    "\n",
    "\n",
    "- 二叉树广度优先遍历\n",
    "    - 层序遍历：102.二叉树的层序遍历\n",
    "    \n",
    "    \n",
    " ![alt_text](images/0005d6f797d3281bbe2be08effd0f8fa991dc8126aef754929af34edf650626a-image.png)\n",
    " \n",
    "- 前序遍历（中左右）：5 4 1 2 6 7 8\n",
    "- 中序遍历（左中右）：1 4 2 5 7 6 8\n",
    "- 后序遍历（左右中）：1 2 4 7 8 6 5"
   ]
  },
  {
   "cell_type": "markdown",
   "id": "962ef492",
   "metadata": {},
   "source": [
    "## 迭代法\n",
    "\n",
    "为什么可以用迭代法（非递归的方式）来实现二叉树的前后中序遍历呢？\n",
    "\n",
    "**递归的实现就是：每一次递归调用都会把函数的局部变量、参数值和返回地址等压入调用栈中**，然后递归返回的时候，从栈顶弹出上一次递归的各项参数，所以这就是递归为什么可以返回上一层位置的原因。\n"
   ]
  },
  {
   "cell_type": "markdown",
   "id": "1127876a",
   "metadata": {},
   "source": [
    "## 前序遍历（中左右）\n",
    "\n",
    "我们先看一下前序遍历。\n",
    "\n",
    "前序遍历是中左右，每次先处理的是中间节点，那么先将跟节点放入栈中，然后将右孩子加入栈，再加入左孩子。\n",
    "\n",
    "为什么要先加入 右孩子，再加入左孩子呢？ 因为这样出栈的时候才是**中左右**的顺序。\n",
    "\n",
    "动画如下：\n",
    "\n",
    "![alt_text](images/1600934720-bMXWmu.gif)"
   ]
  },
  {
   "cell_type": "code",
   "execution_count": 3,
   "id": "e7950ac3",
   "metadata": {},
   "outputs": [],
   "source": [
    "# 前序遍历-迭代-LC144_二叉树的前序遍历\n",
    "class Solution:\n",
    "    def preorderTraversal(self, root: TreeNode) -> List[int]:\n",
    "        # 根结点为空则返回空列表\n",
    "        if not root:\n",
    "            return []\n",
    "        stack = [root]\n",
    "        result = []\n",
    "        while stack:\n",
    "            node = stack.pop()\n",
    "            # 中结点先处理\n",
    "            result.append(node.val)\n",
    "            # 右孩子先入栈\n",
    "            if node.right:\n",
    "                stack.append(node.right)\n",
    "            # 左孩子后入栈\n",
    "            if node.left:\n",
    "                stack.append(node.left)\n",
    "        return result"
   ]
  },
  {
   "cell_type": "markdown",
   "id": "593ca09a",
   "metadata": {},
   "source": [
    "## 中序遍历（左中右）\n",
    "\n",
    "为了解释清楚，我说明一下 刚刚在迭代的过程中，其实我们有两个操作：\n",
    "\n",
    "处理：将元素放进result数组中\n",
    "访问：遍历节点\n",
    "分析一下为什么刚刚写的前序遍历的代码，不能和中序遍历通用呢，因为前序遍历的顺序是中左右，先访问的元素是中间节点，要处理的元素也是中间节点，所以刚刚才能写出相对简洁的代码，因为要访问的元素和要处理的元素顺序是一致的，都是中间节点。\n",
    "\n",
    "那么再看看中序遍历，中序遍历是**左中右**，先访问的是二叉树顶部的节点，然后一层一层向下访问，直到到达树左面的最底部，再开始处理节点（也就是在把节点的数值放进result数组中），这就造成了处理顺序和访问顺序是不一致的。\n",
    "\n",
    "那么在使用迭代法写中序遍历，就需要借用指针的遍历来帮助访问节点，栈则用来处理节点上的元素。\n",
    "\n",
    "动画如下：\n",
    "\n",
    "![alt_text](images/1600934697-oafdTT.gif)"
   ]
  },
  {
   "cell_type": "code",
   "execution_count": 4,
   "id": "a2dc1968",
   "metadata": {},
   "outputs": [],
   "source": [
    "# 中序遍历-迭代-LC94_二叉树的中序遍历\n",
    "class Solution:\n",
    "    def inorderTraversal(self, root: TreeNode) -> List[int]:\n",
    "        if not root:\n",
    "            return []\n",
    "        stack = []  # 不能提前将root结点加入stack中\n",
    "        result = []\n",
    "        cur = root\n",
    "        while cur or stack:\n",
    "            # 先迭代访问最底层的左子树结点\n",
    "            if cur:     \n",
    "                stack.append(cur)\n",
    "                cur = cur.left\t\t\n",
    "            # 到达最左结点后处理栈顶结点    \n",
    "            else:\t\t\n",
    "                cur = stack.pop()\n",
    "                result.append(cur.val)\n",
    "                # 取栈顶元素右结点\n",
    "                cur = cur.right\t\n",
    "        return result"
   ]
  },
  {
   "cell_type": "markdown",
   "id": "e45a47bf",
   "metadata": {},
   "source": [
    "## 后序遍历（左右中）\n",
    "\n",
    "再来看后序遍历，先序遍历是中左右，后续遍历是左右中，那么我们只需要调整一下先序遍历的代码顺序，就变成中右左的遍历顺序，然后在反转result数组，输出的结果顺序就是左右中了，如下图：\n",
    "\n",
    "\n",
    "![alt_text](images/4f49ee1ccbd7b2d641a740d63a68f69146dc0bcb6dd5c0471e4289730d902352-image.png)"
   ]
  },
  {
   "cell_type": "code",
   "execution_count": 6,
   "id": "ef2f39a2",
   "metadata": {},
   "outputs": [],
   "source": [
    "# 后序遍历-迭代-LC145_二叉树的后序遍历\n",
    "class Solution:\n",
    "    def postorderTraversal(self, root: TreeNode) -> List[int]:\n",
    "        if not root:\n",
    "            return []\n",
    "        stack = [root]\n",
    "        result = []\n",
    "        while stack:\n",
    "            node = stack.pop()\n",
    "            # 中结点先处理\n",
    "            result.append(node.val)\n",
    "            # 左孩子先入栈\n",
    "            if node.left:\n",
    "                stack.append(node.left)\n",
    "            # 右孩子后入栈\n",
    "            if node.right:\n",
    "                stack.append(node.right)\n",
    "        # 将最终的数组翻转\n",
    "        return result[::-1]\n"
   ]
  },
  {
   "cell_type": "markdown",
   "id": "bc6e2c29",
   "metadata": {},
   "source": [
    "## 二叉树前中后迭代方式统一写法\n",
    "\n",
    "迭代法实现的先中后序，其实风格也不是那么统一，除了先序和后序，有关联，中序完全就是另一个风格了，一会用栈遍历，一会又用指针来遍历。\n",
    "\n",
    "实践过的同学，也会发现使用迭代法实现先中后序遍历，很难写出统一的代码，不像是递归法，实现了其中的一种遍历方式，其他两种只要稍稍改一下节点顺序就可以了。\n",
    "\n",
    "其实针对三种遍历方式，使用迭代法是可以写出统一风格的代码！\n",
    "\n",
    "重头戏来了，接下来介绍一下统一写法。\n",
    "\n",
    "我们以中序遍历为例，无法同时解决访问节点（遍历节点）和处理节点（将元素放进结果集）不一致的情况。\n",
    "\n",
    "**那我们就将访问的节点放入栈中，把要处理的节点也放入栈中但是要做标记。**\n",
    "\n",
    "**如何标记呢，就是要处理的节点放入栈之后，紧接着放入一个空指针作为标记。 这种方法也可以叫做标记法。**\n"
   ]
  },
  {
   "cell_type": "code",
   "execution_count": 7,
   "id": "0663b845",
   "metadata": {},
   "outputs": [],
   "source": [
    "class Solution:\n",
    "    def preorderTraversal(self, root: TreeNode) -> List[int]:\n",
    "        result = []\n",
    "        st= []\n",
    "        if root:\n",
    "            st.append(root)\n",
    "        while st:\n",
    "            node = st.pop()\n",
    "            if node != None:\n",
    "                if node.right: #右\n",
    "                    st.append(node.right)\n",
    "                if node.left: #左\n",
    "                    st.append(node.left)\n",
    "                st.append(node) #中\n",
    "                st.append(None)\n",
    "            else:\n",
    "                node = st.pop()\n",
    "                result.append(node.val)\n",
    "        return result"
   ]
  },
  {
   "cell_type": "code",
   "execution_count": 8,
   "id": "0d4a2bb9",
   "metadata": {},
   "outputs": [],
   "source": [
    "class Solution:\n",
    "    def inorderTraversal(self, root: TreeNode) -> List[int]:\n",
    "        result = []\n",
    "        st = []\n",
    "        if root:\n",
    "            st.append(root)\n",
    "        while st:\n",
    "            node = st.pop()\n",
    "            if node != None:\n",
    "                if node.right: #添加右节点（空节点不入栈）\n",
    "                    st.append(node.right)\n",
    "                \n",
    "                st.append(node) #添加中节点\n",
    "                st.append(None) #中节点访问过，但是还没有处理，加入空节点做为标记。\n",
    "                \n",
    "                if node.left: #添加左节点（空节点不入栈）\n",
    "                    st.append(node.left)\n",
    "            else: #只有遇到空节点的时候，才将下一个节点放进结果集\n",
    "                node = st.pop() #重新取出栈中元素\n",
    "                result.append(node.val) #加入到结果集\n",
    "        return result"
   ]
  },
  {
   "cell_type": "code",
   "execution_count": null,
   "id": "e23bfc4b",
   "metadata": {},
   "outputs": [],
   "source": [
    "class Solution:\n",
    "    def postorderTraversal(self, root: TreeNode) -> List[int]:\n",
    "        result = []\n",
    "        st = []\n",
    "        if root:\n",
    "            st.append(root)\n",
    "        while st:\n",
    "            node = st.pop()\n",
    "            if node != None:\n",
    "                st.append(node) #中\n",
    "                st.append(None)\n",
    "                \n",
    "                if node.right: #右\n",
    "                    st.append(node.right)\n",
    "                if node.left: #左\n",
    "                    st.append(node.left)\n",
    "            else:\n",
    "                node = st.pop()\n",
    "                result.append(node.val)\n",
    "        return result\n"
   ]
  },
  {
   "cell_type": "markdown",
   "id": "2d842800",
   "metadata": {},
   "source": [
    "## 二叉树力扣题目总结\n",
    "\n",
    "按照如下顺序刷力扣上的题目，相信会帮你在学习二叉树的路上少走很多弯路。以下每道题目在力扣题解区都有「代码随想录」的题解。\n",
    "\n",
    "![alt_text](images/1625557068-rTzCSW-image.png)"
   ]
  },
  {
   "cell_type": "code",
   "execution_count": null,
   "id": "d23c6c73",
   "metadata": {},
   "outputs": [],
   "source": []
  }
 ],
 "metadata": {
  "kernelspec": {
   "display_name": "Python 3 (ipykernel)",
   "language": "python",
   "name": "python3"
  },
  "language_info": {
   "codemirror_mode": {
    "name": "ipython",
    "version": 3
   },
   "file_extension": ".py",
   "mimetype": "text/x-python",
   "name": "python",
   "nbconvert_exporter": "python",
   "pygments_lexer": "ipython3",
   "version": "3.8.13"
  }
 },
 "nbformat": 4,
 "nbformat_minor": 5
}
