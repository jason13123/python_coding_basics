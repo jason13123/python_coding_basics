{
 "cells": [
  {
   "cell_type": "markdown",
   "id": "4b622d23",
   "metadata": {},
   "source": [
    "## Recursion and Tree"
   ]
  },
  {
   "cell_type": "markdown",
   "id": "c5805ab8",
   "metadata": {},
   "source": [
    "### Recursion"
   ]
  },
  {
   "cell_type": "markdown",
   "id": "da3b3d47",
   "metadata": {},
   "source": [
    "**Recursion is a method of solving a problem where the solution depends on solutions to smaller instances of the same problem.**\n",
    "\n",
    "**Recursion solves such recursive problems by using functions that call themselves from within their own code.**"
   ]
  },
  {
   "cell_type": "code",
   "execution_count": 1,
   "id": "02411c73",
   "metadata": {},
   "outputs": [],
   "source": [
    "def fun():\n",
    "    pass\n",
    "    return fun() # Note, it returns the function not the value"
   ]
  },
  {
   "cell_type": "markdown",
   "id": "977a49dc",
   "metadata": {},
   "source": [
    "### Example: N-th Tribonacci Number\n",
    "[1137. N-th Tribonacci Number](https://leetcode.com/problems/n-th-tribonacci-number/)\n",
    "\n",
    "**Description:**\n",
    "\n",
    "The Tribonacci sequence Tn is defined as follows: \n",
    "\n",
    "T0 = 0, T1 = 1, T2 = 1, and Tn+3 = Tn + Tn+1 + Tn+2 for n >= 0.\n",
    "\n",
    "Given n, return the value of Tn.\n",
    "\n",
    "**Note:**\n",
    "\n",
    "\n",
    "**Example 1:**\n",
    "\n",
    "**Input:** n = 4\n",
    "\n",
    "**Output:** 4\n",
    "\n",
    "**Explanation:**\n",
    "\n",
    "T_3 = 0 + 1 + 1 = 2\n",
    "T_4 = 1 + 1 + 2 = 4\n",
    "\n",
    "**Example 2:**\n",
    "\n",
    "**Input:** n = 25\n",
    "\n",
    "**Output:** 1389537\n",
    "\n",
    "**Constraints:**\n",
    "\n",
    "- 0 <= n <= 37\n",
    "- The answer is guaranteed to fit within a 32-bit integer, ie. answer <= 2^31 - 1."
   ]
  },
  {
   "cell_type": "code",
   "execution_count": 7,
   "id": "9c0f9b61",
   "metadata": {},
   "outputs": [
    {
     "name": "stdout",
     "output_type": "stream",
     "text": [
      "1389537\n"
     ]
    }
   ],
   "source": [
    "# My solution\n",
    "class Solution:\n",
    "    hashmap = {}\n",
    "    def tribonacci(self, n: int) -> int:\n",
    "        if n == 0:\n",
    "            return 0\n",
    "        if n == 1:\n",
    "            return 1\n",
    "        if n == 2:\n",
    "            return 1\n",
    "        res = self.tribonacci(n-1) + self.tribonacci(n-2) + self.tribonacci(n-3)\n",
    "        return res\n",
    "\n",
    "sol = Solution()\n",
    "print(sol.tribonacci(25))"
   ]
  },
  {
   "cell_type": "markdown",
   "id": "fa1c51ba",
   "metadata": {},
   "source": [
    "**Visualization**\n",
    "\n",
    "![alt_text](images/recursion_v01_unit_05_img_001.c822ad51.png)"
   ]
  },
  {
   "cell_type": "markdown",
   "id": "7581d1d5",
   "metadata": {},
   "source": [
    "![alt_text](images/recursion_v01_unit_05_img_002.8e065107.png)"
   ]
  },
  {
   "cell_type": "markdown",
   "id": "5de6ac0e",
   "metadata": {},
   "source": [
    "![alt_text](images/recursion_v01_unit_05_img_004.c9ae026f.png)"
   ]
  },
  {
   "cell_type": "code",
   "execution_count": 8,
   "id": "983eddb5",
   "metadata": {},
   "outputs": [],
   "source": [
    "def fun2(x=2):\n",
    "    return 1\n",
    "def fun1(x=1):\n",
    "    return 1\n",
    "def fun0(x=0):\n",
    "    return 0\n",
    "\n",
    "def fun3(x=3):\n",
    "    return fun2(2)+fun1(1)+fun0(0)"
   ]
  },
  {
   "cell_type": "code",
   "execution_count": 10,
   "id": "78b5199a",
   "metadata": {},
   "outputs": [
    {
     "name": "stdout",
     "output_type": "stream",
     "text": [
      "2082876103\n"
     ]
    }
   ],
   "source": [
    "# Lecture solution\n",
    "\n",
    "class Solution(object):\n",
    "    # we will go back to this solution later when we learn the new algorithm of Dynamic programing \n",
    "    def tribonacci_better_solution(self, n):\n",
    "        if n == 0:\n",
    "            return 0\n",
    "        elif n <=2:\n",
    "            return 1\n",
    "        \n",
    "        t0, t1, t2 = 0, 1, 1\n",
    "        for i in range(3, n+1):\n",
    "            t3 = t0 + t1 + t2\n",
    "            t0, t1, t2 = t1, t2, t3\n",
    "        return t3\n",
    "    \n",
    "    def tribonacci_recursion_version(self, n):\n",
    "        if n == 0: \n",
    "            return 0\n",
    "        if n <= 2:\n",
    "            return 1\n",
    "\n",
    "        return self.tribonacci_recursion_version(n-3) + \\\n",
    "               self.tribonacci_recursion_version(n-2) + \\\n",
    "               self.tribonacci_recursion_version(n-1)\n",
    "    \n",
    "    def tribonacci(self, n):\n",
    "        \"\"\"\n",
    "        :type n: int\n",
    "        :rtype: int\n",
    "        \"\"\"\n",
    "        if n < 25:\n",
    "            return self.tribonacci_recursion_version(n)\n",
    "        else:\n",
    "            return self.tribonacci_better_solution(n)\n",
    "\n",
    "sol = Solution()\n",
    "print(sol.tribonacci(37))"
   ]
  },
  {
   "cell_type": "markdown",
   "id": "396e8a15",
   "metadata": {},
   "source": [
    "### Tree"
   ]
  },
  {
   "cell_type": "code",
   "execution_count": 1,
   "id": "2c62731d",
   "metadata": {},
   "outputs": [],
   "source": [
    "# TreeNode class\n",
    "\n",
    "class TreeNode(object):\n",
    "    def __init__(self, val=0, left=None, right=None):\n",
    "        self.val = val\n",
    "        self.left = left\n",
    "        self.right = right"
   ]
  },
  {
   "cell_type": "markdown",
   "id": "f41479b1",
   "metadata": {},
   "source": [
    "**Create a tree object**\n",
    "\n",
    "![alt_text](images/Tree_v01_unit_05_img_001.1fd22ece.png)"
   ]
  },
  {
   "cell_type": "code",
   "execution_count": 3,
   "id": "10a04e90",
   "metadata": {},
   "outputs": [],
   "source": [
    "nodeD = TreeNode(val=4, left=None, right=None)\n",
    "nodeC = TreeNode(val=3, left=None, right=None)\n",
    "nodeB = TreeNode(val=2, left=nodeD, right=None)\n",
    "nodeA = TreeNode(val=1, left=nodeB, right=nodeC)"
   ]
  },
  {
   "cell_type": "markdown",
   "id": "cb2eeb86",
   "metadata": {},
   "source": [
    "Get data from a tree"
   ]
  },
  {
   "cell_type": "code",
   "execution_count": 4,
   "id": "f30116c1",
   "metadata": {},
   "outputs": [
    {
     "name": "stdout",
     "output_type": "stream",
     "text": [
      "<__main__.TreeNode object at 0x7fcad8775be0> <__main__.TreeNode object at 0x7fcad8775d60>\n"
     ]
    }
   ],
   "source": [
    "print (nodeA, nodeB)"
   ]
  },
  {
   "cell_type": "code",
   "execution_count": 5,
   "id": "7ccb3cb0",
   "metadata": {},
   "outputs": [
    {
     "name": "stdout",
     "output_type": "stream",
     "text": [
      "nodeA.left :  <__main__.TreeNode object at 0x7fcad8775d60>\n",
      "nodeA.left.val :  2\n"
     ]
    }
   ],
   "source": [
    "print (\"nodeA.left : \", nodeA.left)\n",
    "print (\"nodeA.left.val : \", nodeA.left.val)"
   ]
  },
  {
   "cell_type": "code",
   "execution_count": 6,
   "id": "fd0a1911",
   "metadata": {},
   "outputs": [
    {
     "name": "stdout",
     "output_type": "stream",
     "text": [
      "True\n"
     ]
    }
   ],
   "source": [
    "print (nodeA.left == nodeB)"
   ]
  },
  {
   "cell_type": "code",
   "execution_count": 7,
   "id": "7849969e",
   "metadata": {},
   "outputs": [
    {
     "name": "stdout",
     "output_type": "stream",
     "text": [
      "True\n"
     ]
    }
   ],
   "source": [
    "print (nodeA.left.val == nodeB.val)"
   ]
  },
  {
   "cell_type": "markdown",
   "id": "f6a15c4c",
   "metadata": {},
   "source": [
    "### Example: Maximum Depth of Binary Tree\n",
    "[104. Maximum Depth of Binary Tree](https://leetcode.com/problems/maximum-depth-of-binary-tree/)\n",
    "\n",
    "**Description:**\n",
    "\n",
    "Given the root of a binary tree, return its maximum depth.\n",
    "\n",
    "A binary tree's maximum depth is the number of nodes along the longest path from the root node down to the farthest leaf node.\n",
    "\n",
    "\n",
    "**Note:**\n",
    "\n",
    "\n",
    "**Example 1:**\n",
    "![alt_txt](images/tmp-tree.jpeg)\n",
    "\n",
    "Input: root = [3,9,20,null,null,15,7]\n",
    "\n",
    "Output: 3\n",
    "\n",
    "**Example 2:**\n",
    "\n",
    "Input: root = [1,null,2]\n",
    "\n",
    "Output: 2\n",
    "\n",
    "**Constraints:**\n",
    "\n",
    "- The number of nodes in the tree is in the range [0, $10^{4}$].\n",
    "- -100 <= Node.val <= 100"
   ]
  },
  {
   "cell_type": "markdown",
   "id": "b4da3cfd",
   "metadata": {},
   "source": [
    "**Solution:**\n",
    "![alt_text](images/Leetcode_104_v01_unit_05_img_001.77850edb.png)"
   ]
  },
  {
   "cell_type": "code",
   "execution_count": null,
   "id": "aa171a73",
   "metadata": {},
   "outputs": [],
   "source": [
    "# Definition for a binary tree node.\n",
    "# class TreeNode:\n",
    "#     def __init__(self, val=0, left=None, right=None):\n",
    "#         self.val = val\n",
    "#         self.left = left\n",
    "#         self.right = right\n",
    "from typing import *\n",
    "class Solution:\n",
    "    def maxDepth(self, root: Optional[TreeNode]) -> int:\n",
    "        if not root:\n",
    "            return 0\n",
    "        left = self.maxDepth(root.left)\n",
    "        right = self.maxDepth(root.right)\n",
    "        return max(left, right) + 1\n",
    "    "
   ]
  },
  {
   "cell_type": "markdown",
   "id": "9fcbde45",
   "metadata": {},
   "source": [
    "**Solution visulization**\n",
    "![alt_txt](images/Leetcode_104_v01_unit_05_img_002.ac2164c1.png)\n",
    "![alt_txt](images/Leetcode_104_v01_unit_05_img_003.6abd34ff.png)\n",
    "![alt_txt](images/Leetcode_104_v01_unit_05_img_004.4699450d.png)\n",
    "![alt_txt](images/Leetcode_104_v01_unit_05_img_005.a789823d.png)"
   ]
  },
  {
   "cell_type": "markdown",
   "id": "97e8dbf5",
   "metadata": {},
   "source": [
    "### Binary Search Tree\n",
    "\n",
    "**All you need to know about a binary tree:**"
   ]
  },
  {
   "cell_type": "code",
   "execution_count": 1,
   "id": "598688d3",
   "metadata": {},
   "outputs": [],
   "source": [
    "# TreeNode class\n",
    "\n",
    "class TreeNode(object):\n",
    "    def __init__(self, val=0, left=None, right=None):\n",
    "        self.val = val\n",
    "        self.left = left\n",
    "        self.right = right"
   ]
  },
  {
   "cell_type": "markdown",
   "id": "f5921d14",
   "metadata": {},
   "source": [
    "**Binary Search Tree:**\n",
    "\n",
    "For any node, its value is larger than all its left nodes’values, but less than all its right nodes’values.\n",
    "\n",
    "![alt_text](images/Binary_Search_Tree_v01_unit_05_img_001.d254b88d.png)"
   ]
  },
  {
   "cell_type": "code",
   "execution_count": null,
   "id": "b3904e54",
   "metadata": {},
   "outputs": [],
   "source": []
  }
 ],
 "metadata": {
  "kernelspec": {
   "display_name": "Python 3 (ipykernel)",
   "language": "python",
   "name": "python3"
  },
  "language_info": {
   "codemirror_mode": {
    "name": "ipython",
    "version": 3
   },
   "file_extension": ".py",
   "mimetype": "text/x-python",
   "name": "python",
   "nbconvert_exporter": "python",
   "pygments_lexer": "ipython3",
   "version": "3.8.13"
  }
 },
 "nbformat": 4,
 "nbformat_minor": 5
}
