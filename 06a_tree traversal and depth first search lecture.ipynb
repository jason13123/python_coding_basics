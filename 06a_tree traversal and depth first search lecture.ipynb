{
 "cells": [
  {
   "cell_type": "markdown",
   "id": "762ba92e",
   "metadata": {},
   "source": [
    "## Week 6: Tree travesal and DFS\n",
    "- What is Tree traversal\n",
    "- Algorithm: Depth First Searching"
   ]
  },
  {
   "cell_type": "markdown",
   "id": "09482726",
   "metadata": {},
   "source": [
    "### What is Tree and why we need do tree traversal\n",
    "- Tree is a data structure, where all the data/object are saved as a node(vertex). Nodes are connected by edges.\n",
    "- For each node, it has a value and may have children.\n",
    "- For other data structures, like \"list\", \"tuple\", \"string\", \"dictionary\", you can use a \"for loop\" to iterate all elements.\n",
    "- The traditional \"for loop\" will not work for entire tree structure."
   ]
  },
  {
   "cell_type": "code",
   "execution_count": 16,
   "id": "e7648004",
   "metadata": {},
   "outputs": [],
   "source": [
    "from typing import *"
   ]
  },
  {
   "cell_type": "code",
   "execution_count": 1,
   "id": "9c4553b9",
   "metadata": {},
   "outputs": [],
   "source": [
    "class TreeNode(object):\n",
    "    def __init__(self, val=0, left=None, right=None):\n",
    "        self.val = val\n",
    "        self.left = left\n",
    "        self.right = right"
   ]
  },
  {
   "cell_type": "markdown",
   "id": "3764d978",
   "metadata": {},
   "source": [
    "![alt_text](images/Tree_Traversal_v01_unit_06_img_001.b67ad5f3.png)\n",
    "\n"
   ]
  },
  {
   "cell_type": "markdown",
   "id": "57a3adab",
   "metadata": {},
   "source": [
    "- Tree traversal to a tree is as the \"for loop\" to a list/tuple.\n",
    "- You can visit each single node during the tree traversal."
   ]
  },
  {
   "cell_type": "markdown",
   "id": "da3b3d47",
   "metadata": {},
   "source": [
    "### Depth First Search (DFS)"
   ]
  },
  {
   "cell_type": "markdown",
   "id": "87c11fbd",
   "metadata": {},
   "source": [
    "**Depth First Search (Recursion version)**\n",
    "\n",
    "![alt_text](images/Depth_First_Search_v01_unit_06_img_001.1dda07fe.png)"
   ]
  },
  {
   "cell_type": "markdown",
   "id": "1c8cf6c5",
   "metadata": {},
   "source": [
    "- Visiting the tree in the order:\n",
    "        A->B->D->F->E->C"
   ]
  },
  {
   "cell_type": "markdown",
   "id": "6caca643",
   "metadata": {},
   "source": [
    "**Construct a Tree**"
   ]
  },
  {
   "cell_type": "code",
   "execution_count": 2,
   "id": "3a0fc96f",
   "metadata": {},
   "outputs": [],
   "source": [
    "class TreeNode(object):\n",
    "    def __init__(self, val=0, left=None, right=None):\n",
    "        self.val = val\n",
    "        self.left = left\n",
    "        self.right = right"
   ]
  },
  {
   "cell_type": "code",
   "execution_count": 3,
   "id": "e3241e4b",
   "metadata": {},
   "outputs": [
    {
     "name": "stdout",
     "output_type": "stream",
     "text": [
      "<__main__.TreeNode object at 0x7f9910692b50> val: 1\n"
     ]
    }
   ],
   "source": [
    "nodeF = TreeNode(val=6, left=None, right=None)\n",
    "nodeD = TreeNode(val=4, left=nodeF, right=None)\n",
    "nodeE = TreeNode(val=5, left=None, right=None)\n",
    "nodeC = TreeNode(val=3, left=None, right=None)\n",
    "nodeB = TreeNode(val=2, left=nodeD, right=nodeE)\n",
    "nodeA = TreeNode(val=1, left=nodeB, right=nodeC)\n",
    "print (nodeA,'val:', nodeA.val)"
   ]
  },
  {
   "cell_type": "code",
   "execution_count": 4,
   "id": "cd2c64e6",
   "metadata": {},
   "outputs": [
    {
     "data": {
      "text/plain": [
       "__main__.TreeNode"
      ]
     },
     "execution_count": 4,
     "metadata": {},
     "output_type": "execute_result"
    }
   ],
   "source": [
    "TreeNode"
   ]
  },
  {
   "cell_type": "code",
   "execution_count": 5,
   "id": "9b230b35",
   "metadata": {},
   "outputs": [],
   "source": [
    "node_map = {1:'A', 2:'B', 3:'C', 4:'D', 5:'E', 6:'F'}"
   ]
  },
  {
   "cell_type": "code",
   "execution_count": 6,
   "id": "f93dc7c0",
   "metadata": {},
   "outputs": [],
   "source": [
    "def DFS(root):\n",
    "    if not root:\n",
    "        return None\n",
    "    print(\"root.val\", root.val, node_map[root.val]) # place the operation before left and right recursion is referred as pre-order DFS\n",
    "    if root.left:\n",
    "        DFS(root.left)\n",
    "    if root.right:\n",
    "        DFS(root.right)"
   ]
  },
  {
   "cell_type": "code",
   "execution_count": 7,
   "id": "0b8b4839",
   "metadata": {},
   "outputs": [
    {
     "name": "stdout",
     "output_type": "stream",
     "text": [
      "root.val 1 A\n",
      "root.val 2 B\n",
      "root.val 4 D\n",
      "root.val 6 F\n",
      "root.val 5 E\n",
      "root.val 3 C\n"
     ]
    }
   ],
   "source": [
    "DFS(nodeA)"
   ]
  },
  {
   "cell_type": "markdown",
   "id": "60a9f529",
   "metadata": {},
   "source": [
    "**Note:** The pre-oder is A -> B -> D -> F -> E -> C"
   ]
  },
  {
   "cell_type": "markdown",
   "id": "4deb0679",
   "metadata": {},
   "source": [
    "### DFS: In-Order and Post-Order"
   ]
  },
  {
   "cell_type": "markdown",
   "id": "3e17eaa9",
   "metadata": {},
   "source": [
    "**In-Order:**\n",
    "\n",
    "![alt_text](images/Depth_First_Search_v01_unit_06_img_002.1dda07fe.png)"
   ]
  },
  {
   "cell_type": "code",
   "execution_count": 8,
   "id": "59fefbec",
   "metadata": {},
   "outputs": [],
   "source": [
    "def DFS_inorder(root):\n",
    "    if not root:\n",
    "        return None\n",
    "    if root.left:\n",
    "        DFS_inorder(root.left)\n",
    "    print(\"root.val\", root.val, node_map[root.val]) # place the operation in between left and right recursion is referred as in-order DFS\n",
    "    if root.right:\n",
    "        DFS_inorder(root.right)"
   ]
  },
  {
   "cell_type": "code",
   "execution_count": 9,
   "id": "ae93a209",
   "metadata": {},
   "outputs": [
    {
     "name": "stdout",
     "output_type": "stream",
     "text": [
      "root.val 6 F\n",
      "root.val 4 D\n",
      "root.val 2 B\n",
      "root.val 5 E\n",
      "root.val 1 A\n",
      "root.val 3 C\n"
     ]
    }
   ],
   "source": [
    "DFS_inorder(nodeA)"
   ]
  },
  {
   "cell_type": "markdown",
   "id": "702126e5",
   "metadata": {},
   "source": [
    "**Note:** The in-oder is F -> D -> B -> E -> A -> C"
   ]
  },
  {
   "cell_type": "markdown",
   "id": "091327bd",
   "metadata": {},
   "source": [
    "**Post-Order:**\n",
    "\n",
    "![alt_text](images/Depth_First_Search_v01_unit_06_img_002.1dda07fe.png)"
   ]
  },
  {
   "cell_type": "code",
   "execution_count": 10,
   "id": "f7ce4b4b",
   "metadata": {},
   "outputs": [],
   "source": [
    "def DFS_postorder(root):\n",
    "    if not root:\n",
    "        return \n",
    "    if root.left:\n",
    "        DFS_postorder(root.left)\n",
    "    if root.right:\n",
    "        DFS_postorder(root.right)\n",
    "    print (\"root.val\", root.val, node_map[root.val]) # place the operation after left and right recursion is referred as post-order DFS"
   ]
  },
  {
   "cell_type": "code",
   "execution_count": 11,
   "id": "dd7d0b00",
   "metadata": {
    "scrolled": true
   },
   "outputs": [
    {
     "name": "stdout",
     "output_type": "stream",
     "text": [
      "root.val 6 F\n",
      "root.val 4 D\n",
      "root.val 5 E\n",
      "root.val 2 B\n",
      "root.val 3 C\n",
      "root.val 1 A\n"
     ]
    }
   ],
   "source": [
    "DFS_postorder(nodeA)"
   ]
  },
  {
   "cell_type": "markdown",
   "id": "31bce992",
   "metadata": {},
   "source": [
    "**Note:** The post-oder is F -> D -> E -> B -> C -> A"
   ]
  },
  {
   "cell_type": "markdown",
   "id": "5936f558",
   "metadata": {},
   "source": [
    "### Summary:"
   ]
  },
  {
   "cell_type": "code",
   "execution_count": 12,
   "id": "0b68c6de",
   "metadata": {},
   "outputs": [],
   "source": [
    "\n",
    "def DFS(root):\n",
    "    if not root:\n",
    "        return \n",
    "    # do something before check the root.left, and root right, it is \"pre\"order\n",
    "    if root.left:\n",
    "        DFS(root.left)\n",
    "    # do something before check the root.right, and after root left, it is \"in\"order\n",
    "    if root.right:\n",
    "        DFS(root.right)\n",
    "    # do something after check the root.right, it is \"post\"order"
   ]
  },
  {
   "cell_type": "markdown",
   "id": "7d201d04",
   "metadata": {},
   "source": [
    "**Quiz**\n",
    "\n",
    "Can we change the code as below for \"pre\", \"in\", and \"post\" order? why and why not?"
   ]
  },
  {
   "cell_type": "code",
   "execution_count": 13,
   "id": "078759b4",
   "metadata": {},
   "outputs": [],
   "source": [
    "\n",
    "def DFS(root):\n",
    "    # if not root:\n",
    "    #    return\n",
    "    \n",
    "    # can we change the line above to the line below for \"pre\", \"in\", and \"post\" order? why and why not\n",
    "    if not root.left and root.right:\n",
    "        return \n",
    "    # do something before check the root.left, and root right, it is \"pre\"order\n",
    "    if root.left:\n",
    "        DFS(root.left)\n",
    "    # do something before check the root.right, and after root left, it is \"in\"order\n",
    "    if root.right:\n",
    "        DFS(root.right)\n",
    "    # do something after check the root.right, it is \"post\"order"
   ]
  },
  {
   "cell_type": "markdown",
   "id": "989c248f",
   "metadata": {},
   "source": [
    "**Quiz Answer:**\n",
    "It works for pre-order but not for in-order and post-order cases."
   ]
  },
  {
   "cell_type": "markdown",
   "id": "c621b048",
   "metadata": {},
   "source": [
    "### DFS Snippet\n",
    "\n",
    "**If not specified otherwise, leetcode problems do not care the order, and just use pre-order snippet, you are able to solve most easy/medium DFS problems**"
   ]
  },
  {
   "cell_type": "code",
   "execution_count": 14,
   "id": "930b70fa",
   "metadata": {},
   "outputs": [],
   "source": [
    "def DFS(root):\n",
    "    if not root.left and not root.right:\n",
    "        # do something\n",
    "        return\n",
    "    if root.left:\n",
    "        DFS(root.left)\n",
    "    if root.right:\n",
    "        DFS(root.right)\n",
    "        "
   ]
  },
  {
   "cell_type": "markdown",
   "id": "b1a67c39",
   "metadata": {},
   "source": [
    "### Example: Maximum Depth of Binary Tree\n",
    "[104. Maximum Depth of Binary Tree](https://leetcode.com/problems/maximum-depth-of-binary-tree/)\n",
    "\n",
    "**Description:**\n",
    "\n",
    "Given the root of a binary tree, return its maximum depth.\n",
    "\n",
    "A binary tree's maximum depth is the number of nodes along the longest path from the root node down to the farthest leaf node.\n",
    "\n",
    "\n",
    "**Note:**\n",
    "\n",
    "\n",
    "**Example 1:**\n",
    "![alt_txt](images/tmp-tree.jpeg)\n",
    "\n",
    "Input: root = [3,9,20,null,null,15,7]\n",
    "\n",
    "Output: 3\n",
    "\n",
    "**Example 2:**\n",
    "\n",
    "Input: root = [1,null,2]\n",
    "\n",
    "Output: 2\n",
    "\n",
    "**Constraints:**\n",
    "\n",
    "- The number of nodes in the tree is in the range [0, 104].\n",
    "- -100 <= Node.val <= 100"
   ]
  },
  {
   "cell_type": "code",
   "execution_count": 17,
   "id": "b68bc100",
   "metadata": {},
   "outputs": [],
   "source": [
    "# Definition for a binary tree node.\n",
    "# class TreeNode:\n",
    "#     def __init__(self, val=0, left=None, right=None):\n",
    "#         self.val = val\n",
    "#         self.left = left\n",
    "#         self.right = right\n",
    "class Solution:\n",
    "    def maxDepth(self, root: Optional[TreeNode]) -> int:\n",
    "        if not root:\n",
    "            return 0\n",
    "        \n",
    "        # we need a global variable to record the max value. \n",
    "        # \"self.\" prefix is necessary.\n",
    "        self.max = 1\n",
    "        \n",
    "        # From root, which is level 1, let see how deep we can go. Then we call a DFS function.\n",
    "        \n",
    "        self.dfs(root, self.max)\n",
    "        return self.max\n",
    "    \n",
    "    def dfs(self, root, counter):\n",
    "        if not root.left and not root.right:\n",
    "            # do something here. Record at each leaf node, what is the current depth so far.\n",
    "            self.max = max(self.max, counter)\n",
    "        \n",
    "        if root.left:\n",
    "            self.dfs(root.left, counter+1)\n",
    "            \n",
    "        if root.right:\n",
    "            self.dfs(root.right, counter+1)\n"
   ]
  },
  {
   "cell_type": "markdown",
   "id": "7163da4a",
   "metadata": {},
   "source": [
    "### Example: Binary Tree Paths\n",
    "[257. Binary Tree Paths](https://leetcode.com/problems/binary-tree-paths/)\n",
    "\n",
    "**Description:**\n",
    "\n",
    "Given the root of a binary tree, return all root-to-leaf paths in any order.\n",
    "\n",
    "A leaf is a node with no children.\n",
    "\n",
    "\n",
    "**Note:**\n",
    "\n",
    "A leaf is a node with no children.\n",
    "\n",
    "**Example 1:**\n",
    "![alt_txt](images/leetcode257_ex1_paths-tree.jpeg)\n",
    "\n",
    "Input: root = [1,2,3,null,5]\n",
    "\n",
    "Output: [\"1->2->5\",\"1->3\"]\n",
    "\n",
    "**Example 2:**\n",
    "\n",
    "Input: root = [1]\n",
    "\n",
    "Output: [\"1\"]\n",
    "\n",
    "**Constraints:**\n",
    "\n",
    "- The number of nodes in the tree is in the range [1, 100].\n",
    "- -100 <= Node.val <= 100"
   ]
  },
  {
   "cell_type": "code",
   "execution_count": 18,
   "id": "a6d08672",
   "metadata": {},
   "outputs": [],
   "source": [
    "# Definition for a binary tree node.\n",
    "# class TreeNode:\n",
    "#     def __init__(self, val=0, left=None, right=None):\n",
    "#         self.val = val\n",
    "#         self.left = left\n",
    "#         self.right = right\n",
    "class Solution:\n",
    "    def binaryTreePaths(self, root: Optional[TreeNode]) -> List[str]:\n",
    "        \n",
    "        self.rL = []\n",
    "        curr = ''\n",
    "        \n",
    "        if not root:\n",
    "            return self.rL\n",
    "        \n",
    "        self.dfs(root, curr, self.rL)\n",
    "        return self.rL\n",
    "    \n",
    "    def dfs(self, root, curr, rL):\n",
    "        if not root.left and not root.right:\n",
    "            #Note the trick here, '' + 'a' = 'a'\n",
    "            self.rL.append(curr + str(root.val))\n",
    "            \n",
    "        if root.left:\n",
    "            self.dfs(root.left, curr + str(root.val) + \"->\", self.rL)\n",
    "            \n",
    "        if root.right:\n",
    "            self.dfs(root.right, curr + str(root.val) + \"->\", self.rL)\n",
    "            "
   ]
  },
  {
   "cell_type": "markdown",
   "id": "8292072f",
   "metadata": {},
   "source": [
    "### Snippet of DFS with Record\n",
    "\n",
    "**The code snippet that can solve a few numbers of leetcode problem:**"
   ]
  },
  {
   "cell_type": "code",
   "execution_count": null,
   "id": "8f89a42b",
   "metadata": {},
   "outputs": [],
   "source": [
    "class Solution(object):\n",
    "    def dfs(self, root, self.status, status_list):\n",
    "        if not root.left and not root.right:\n",
    "            #do something to update your status when we reach a leaf.\n",
    "            do something to status\n",
    "            return \n",
    "        if root.left:\n",
    "            self.dfs(root.left, may or may not do something with the status, status_list)\n",
    "        if root.right:\n",
    "            self.dfs(root.right, may or may not do something with the status, status_list)\n",
    "\n",
    "    def THE_MAIN_FUNCTION(self, root):\n",
    "        \"\"\"\n",
    "        :type root: TreeNode\n",
    "        :rtype: int\n",
    "        \"\"\"\n",
    "        if not root:\n",
    "            return 0\n",
    "        \n",
    "        # we need a global variable to record the status \n",
    "        \n",
    "        self.status = 0 # or use a list status_list = []\n",
    "        #From root, we start go through all the nodes of the tree by DFS.\n",
    "        \n",
    "        self.dfs(root, self.status, status_list)\n",
    "        \n",
    "        return "
   ]
  },
  {
   "cell_type": "markdown",
   "id": "6caae902",
   "metadata": {},
   "source": [
    "We always can record the information of current node, such as, so far, the node’s value, the node’s level and\n",
    "\n",
    "so on and save it in the \"return List\",then find the max, min or other things inside the List."
   ]
  },
  {
   "cell_type": "code",
   "execution_count": null,
   "id": "dc627c2a",
   "metadata": {},
   "outputs": [],
   "source": []
  }
 ],
 "metadata": {
  "kernelspec": {
   "display_name": "Python 3 (ipykernel)",
   "language": "python",
   "name": "python3"
  },
  "language_info": {
   "codemirror_mode": {
    "name": "ipython",
    "version": 3
   },
   "file_extension": ".py",
   "mimetype": "text/x-python",
   "name": "python",
   "nbconvert_exporter": "python",
   "pygments_lexer": "ipython3",
   "version": "3.8.13"
  }
 },
 "nbformat": 4,
 "nbformat_minor": 5
}
