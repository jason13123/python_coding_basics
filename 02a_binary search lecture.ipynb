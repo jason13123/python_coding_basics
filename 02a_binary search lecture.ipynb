{
 "cells": [
  {
   "cell_type": "markdown",
   "id": "e6f93f14",
   "metadata": {},
   "source": [
    "## Search in An Array"
   ]
  },
  {
   "cell_type": "markdown",
   "id": "c5805ab8",
   "metadata": {},
   "source": [
    "### Search a number is a list"
   ]
  },
  {
   "cell_type": "markdown",
   "id": "da3b3d47",
   "metadata": {},
   "source": [
    "Assume you have a list:\n",
    "\n",
    "nums =[2,5,1,4,3,0], target = 3\n",
    "\n",
    "How much time (how many operations) does it take to search a number (e.g. 3) in this list?\n",
    "\n",
    "Hint: check the length."
   ]
  },
  {
   "cell_type": "code",
   "execution_count": 1,
   "id": "ea734bbd",
   "metadata": {},
   "outputs": [
    {
     "data": {
      "text/plain": [
       "6"
      ]
     },
     "execution_count": 1,
     "metadata": {},
     "output_type": "execute_result"
    }
   ],
   "source": [
    "nums =[2,5,1,4,3,0]\n",
    "len(nums)"
   ]
  },
  {
   "cell_type": "markdown",
   "id": "87e6c299",
   "metadata": {},
   "source": [
    "**More general, if we go through the entire list, it takes N unit of time. Namely, O(N), the larger the N, the more time the algorithm takes.**\n"
   ]
  },
  {
   "cell_type": "code",
   "execution_count": 2,
   "id": "0fec487f",
   "metadata": {
    "scrolled": true
   },
   "outputs": [
    {
     "name": "stdout",
     "output_type": "stream",
     "text": [
      "[48, 47, 195, 29, 16, 6, 351, 27, 594, 228, 45, 248, 16, 251, 105, 237, 34, 12, 290, 183, 135, 555, 140, 459, 210, 115, 316, 74, 26, 438, 274, 413, 264, 793, 314, 42, 642, 233, 257, 10, 19, 45, 32, 340, 36, 485, 707, 115, 317, 144, 40, 113, 154, 1, 209, 658, 318, 36, 701, 697, 156, 65, 4, 33, 17, 0, 36, 22, 91, 87, 44, 843, 225, 8, 90, 133, 21, 77, 14, 516, 601, 95, 128, 414, 73, 799, 687, 605, 117, 10, 7, 179, 427, 925, 348, 50, 40, 561, 402, 522, 56, 711, 358, 140, 266, 384, 380, 123, 19, 729, 120, 644, 192, 1, 630, 491, 378, 174, 73, 141, 108, 119, 162, 527, 386, 266, 9, 80, 3, 81, 403, 168, 435, 59, 68, 392, 426, 404, 309, 354, 241, 450, 612, 244, 527, 115, 53, 17, 48, 703, 110, 94, 854, 209, 194, 824, 69, 174, 62, 14, 244, 5, 319, 63, 766, 27, 30, 35, 384, 211, 137, 399, 5, 292, 67, 508, 71, 57, 153, 512, 34, 125, 17, 10, 95, 220, 88, 6, 3, 403, 89, 99, 353, 413, 199, 675, 285, 449, 140, 7, 52, 41, 71, 583, 68, 134, 70, 253, 532, 236, 110, 0, 238, 101, 1, 35, 0, 70, 309, 493, 629, 127, 147, 465, 36, 559, 596, 72, 421, 664, 521, 473, 7, 48, 87, 350, 426, 1, 596, 269, 43, 185, 19, 149, 721, 188, 327, 473, 49, 37, 226, 7, 16, 465, 196, 240, 55, 178, 915, 8, 793, 120, 198, 122, 74, 126, 417, 623, 207, 12, 1, 136, 48, 265, 1, 100, 660, 261, 146, 588, 154, 13, 84, 267, 66, 97, 356, 717, 576, 516, 35, 330, 485, 14, 117, 162, 220, 254, 197, 219, 27, 188, 109, 903, 62, 17, 31, 61, 505, 309, 216, 127, 17, 121, 316, 186, 67, 178, 809, 19, 22, 423, 0, 362, 706, 241, 16, 356, 679, 495, 252, 30, 213, 196, 32, 444, 7, 305, 86, 6, 138, 618, 420, 58, 676, 6, 336, 108, 617, 7, 142, 135, 589, 103, 302, 189, 168, 280, 92, 93, 631, 57, 207, 7, 23, 793, 730, 306, 173, 23, 251, 124, 0, 98, 118, 199, 292, 355, 23, 342, 70, 27, 333, 31, 2, 236, 671, 92, 590, 187, 87, 2, 581, 22, 111, 912, 97, 212, 169, 592, 635, 199, 115, 61, 148, 16, 18, 319, 872, 22, 48, 317, 97, 418, 633, 80, 247, 211, 147, 60, 135, 188, 393, 117, 528, 101, 388, 768, 11, 22, 567, 346, 388, 202, 100, 369, 80, 28, 152, 132, 3, 125, 63, 435, 6, 217, 58, 113, 116, 293, 176, 148, 861, 71, 148, 5, 347, 358, 74, 8, 582, 55, 187, 41, 482, 53, 778, 24, 920, 25, 359, 560, 132, 174, 342, 151, 87, 198, 30, 650, 23, 28, 98, 329, 192, 244, 280, 195, 14, 115, 595, 82, 50, 55, 40, 20, 52, 570, 27, 190, 129, 853, 596, 190, 470, 151, 733, 22, 120, 246, 117, 461, 54, 161, 6, 150, 608, 132, 61, 228, 484, 511, 103, 248, 211, 571, 275, 78, 35, 207, 629, 388, 0, 5, 266, 459, 30, 14, 0, 37, 130, 120, 296, 126, 36, 61, 681, 106, 7, 197, 286, 687, 224, 23, 96, 45, 6, 133, 121, 325, 142, 92, 43, 560, 5, 346, 335, 23, 9, 251, 587, 189, 241, 412, 170, 209, 13, 61, 702, 243, 289, 217, 436, 651, 394, 598, 316, 175, 131, 70, 3, 99, 48, 1, 439, 513, 38, 297, 730, 57, 863, 22, 3, 688, 523, 181, 9, 155, 135, 5, 202, 118, 485, 526, 12, 337, 244, 116, 78, 139, 0, 745, 2, 391, 91, 288, 245, 60, 348, 69, 63, 548, 223, 158, 76, 22, 54, 451, 335, 107, 401, 486, 113, 130, 491, 74, 447, 58, 210, 57, 593, 24, 80, 84, 62, 710, 97, 39, 782, 318, 125, 22, 13, 315, 347, 292, 85, 299, 390, 429, 96, 635, 541, 579, 291, 196, 41, 557, 157, 192, 254, 628, 119, 302, 477, 20, 125, 488, 58, 388, 327, 432, 388, 143, 299, 120, 20, 109, 5, 293, 93, 166, 495, 175, 83, 100, 513, 263, 217, 225, 668, 137, 68, 295, 227, 95, 79, 1, 68, 144, 273, 238, 793, 47, 710, 116, 9, 10, 164, 14, 181, 52, 715, 149, 475, 597, 661, 136, 393, 387, 146, 32, 28, 67, 244, 465, 5, 263, 559, 157, 72, 405, 17, 635, 324, 247, 30, 449, 291, 173, 404, 91, 234, 242, 334, 136, 493, 518, 104, 175, 497, 28, 483, 14, 1, 560, 519, 556, 386, 415, 144, 305, 77, 6, 707, 241, 647, 145, 127, 137, 599, 30, 4, 466, 410, 5, 555, 466, 42, 136, 2, 3, 117, 76, 2, 174, 137, 38, 610, 61, 445, 429, 244, 8, 9, 65, 226, 142, 29, 211, 296, 115, 234, 263, 303, 741, 165, 59, 581, 201, 812, 185, 380, 257, 539, 228, 0, 247, 724, 35, 703, 156, 686, 625, 29, 441, 150, 218, 411, 96, 191, 363, 70, 179, 519, 461, 280, 36, 126, 204, 208, 6, 372, 67, 122, 205, 10, 33, 421, 148, 331, 726, 788, 9, 36, 4, 485, 434, 58, 237, 115, 145, 612, 263, 71, 957, 8, 90, 816, 39, 558, 637, 8, 709, 202, 448, 34, 31, 81, 34, 8, 139, 33, 205, 770, 62, 90, 529, 153, 393, 89, 12, 394, 126, 109, 42, 280, 82, 287, 111, 50, 141, 136, 51, 361, 923, 28, 51, 213, 15, 275, 0, 438, 80, 199, 78, 138, 139, 6, 301, 56, 433, 473, 13, 299, 39, 271, 727, 7, 433, 232, 154, 60, 220, 2, 229, 86, 706, 228, 286, 53, 472, 272, 11, 216, 18, 204, 2, 136, 10, 301, 72, 623, 5, 247, 34, 55, 509, 84, 122, 774, 163, 441, 372, 263, 80, 427, 734, 690, 27, 894, 105, 230, 36, 218, 2, 753, 593, 715, 30]\n"
     ]
    }
   ],
   "source": [
    "# Can you find number 173 in the below list? How much time does take?\n",
    "\n",
    "import random\n",
    "random.seed(7)\n",
    "array = []\n",
    "for i in range(1000):\n",
    "    array.append(int(random.random()*random.random()*1000))\n",
    "print(array)"
   ]
  },
  {
   "cell_type": "markdown",
   "id": "d904ed6a",
   "metadata": {},
   "source": [
    "**Can we do better with sorted list?**\n",
    "\n",
    "1.Below is the same list but sorted. Can you find number 173?\n",
    "\n",
    "2.Is it faster?\n",
    "\n",
    "3.Do you really need to go through the entire list?"
   ]
  },
  {
   "cell_type": "code",
   "execution_count": 3,
   "id": "eb15e335",
   "metadata": {
    "scrolled": true
   },
   "outputs": [
    {
     "name": "stdout",
     "output_type": "stream",
     "text": [
      "[0, 0, 0, 0, 0, 0, 0, 0, 0, 0, 1, 1, 1, 1, 1, 1, 1, 1, 1, 2, 2, 2, 2, 2, 2, 2, 2, 3, 3, 3, 3, 3, 3, 4, 4, 4, 5, 5, 5, 5, 5, 5, 5, 5, 5, 5, 6, 6, 6, 6, 6, 6, 6, 6, 6, 6, 7, 7, 7, 7, 7, 7, 7, 7, 7, 8, 8, 8, 8, 8, 8, 8, 9, 9, 9, 9, 9, 9, 10, 10, 10, 10, 10, 10, 11, 11, 12, 12, 12, 12, 13, 13, 13, 13, 14, 14, 14, 14, 14, 14, 14, 15, 16, 16, 16, 16, 16, 17, 17, 17, 17, 17, 17, 18, 18, 19, 19, 19, 19, 20, 20, 20, 21, 22, 22, 22, 22, 22, 22, 22, 22, 22, 23, 23, 23, 23, 23, 23, 24, 24, 25, 26, 27, 27, 27, 27, 27, 27, 28, 28, 28, 28, 28, 29, 29, 29, 30, 30, 30, 30, 30, 30, 30, 31, 31, 31, 32, 32, 32, 33, 33, 33, 34, 34, 34, 34, 34, 35, 35, 35, 35, 35, 36, 36, 36, 36, 36, 36, 36, 36, 37, 37, 38, 38, 39, 39, 39, 40, 40, 40, 41, 41, 41, 42, 42, 42, 43, 43, 44, 45, 45, 45, 47, 47, 48, 48, 48, 48, 48, 48, 49, 50, 50, 50, 51, 51, 52, 52, 52, 53, 53, 53, 54, 54, 55, 55, 55, 55, 56, 56, 57, 57, 57, 57, 58, 58, 58, 58, 58, 59, 59, 60, 60, 60, 61, 61, 61, 61, 61, 61, 62, 62, 62, 62, 63, 63, 63, 65, 65, 66, 67, 67, 67, 67, 68, 68, 68, 68, 69, 69, 70, 70, 70, 70, 70, 71, 71, 71, 71, 72, 72, 72, 73, 73, 74, 74, 74, 74, 76, 76, 77, 77, 78, 78, 78, 79, 80, 80, 80, 80, 80, 80, 81, 81, 82, 82, 83, 84, 84, 84, 85, 86, 86, 87, 87, 87, 87, 88, 89, 89, 90, 90, 90, 91, 91, 91, 92, 92, 92, 93, 93, 94, 95, 95, 95, 96, 96, 96, 97, 97, 97, 97, 98, 98, 99, 99, 100, 100, 100, 101, 101, 103, 103, 104, 105, 105, 106, 107, 108, 108, 109, 109, 109, 110, 110, 111, 111, 113, 113, 113, 115, 115, 115, 115, 115, 115, 115, 116, 116, 116, 117, 117, 117, 117, 117, 118, 118, 119, 119, 120, 120, 120, 120, 120, 121, 121, 122, 122, 122, 123, 124, 125, 125, 125, 125, 126, 126, 126, 126, 127, 127, 127, 128, 129, 130, 130, 131, 132, 132, 132, 133, 133, 134, 135, 135, 135, 135, 136, 136, 136, 136, 136, 136, 137, 137, 137, 137, 138, 138, 139, 139, 139, 140, 140, 140, 141, 141, 142, 142, 142, 143, 144, 144, 144, 145, 145, 146, 146, 147, 147, 148, 148, 148, 148, 149, 149, 150, 150, 151, 151, 152, 153, 153, 154, 154, 154, 155, 156, 156, 157, 157, 158, 161, 162, 162, 163, 164, 165, 166, 168, 168, 169, 170, 173, 173, 174, 174, 174, 174, 175, 175, 175, 176, 178, 178, 179, 179, 181, 181, 183, 185, 185, 186, 187, 187, 188, 188, 188, 189, 189, 190, 190, 191, 192, 192, 192, 194, 195, 195, 196, 196, 196, 197, 197, 198, 198, 199, 199, 199, 199, 201, 202, 202, 202, 204, 204, 205, 205, 207, 207, 207, 208, 209, 209, 209, 210, 210, 211, 211, 211, 211, 212, 213, 213, 216, 216, 217, 217, 217, 218, 218, 219, 220, 220, 220, 223, 224, 225, 225, 226, 226, 227, 228, 228, 228, 228, 229, 230, 232, 233, 234, 234, 236, 236, 237, 237, 238, 238, 240, 241, 241, 241, 241, 242, 243, 244, 244, 244, 244, 244, 244, 245, 246, 247, 247, 247, 247, 248, 248, 251, 251, 251, 252, 253, 254, 254, 257, 257, 261, 263, 263, 263, 263, 263, 264, 265, 266, 266, 266, 267, 269, 271, 272, 273, 274, 275, 275, 280, 280, 280, 280, 285, 286, 286, 287, 288, 289, 290, 291, 291, 292, 292, 292, 293, 293, 295, 296, 296, 297, 299, 299, 299, 301, 301, 302, 302, 303, 305, 305, 306, 309, 309, 309, 314, 315, 316, 316, 316, 317, 317, 318, 318, 319, 319, 324, 325, 327, 327, 329, 330, 331, 333, 334, 335, 335, 336, 337, 340, 342, 342, 346, 346, 347, 347, 348, 348, 350, 351, 353, 354, 355, 356, 356, 358, 358, 359, 361, 362, 363, 369, 372, 372, 378, 380, 380, 384, 384, 386, 386, 387, 388, 388, 388, 388, 388, 390, 391, 392, 393, 393, 393, 394, 394, 399, 401, 402, 403, 403, 404, 404, 405, 410, 411, 412, 413, 413, 414, 415, 417, 418, 420, 421, 421, 423, 426, 426, 427, 427, 429, 429, 432, 433, 433, 434, 435, 435, 436, 438, 438, 439, 441, 441, 444, 445, 447, 448, 449, 449, 450, 451, 459, 459, 461, 461, 465, 465, 465, 466, 466, 470, 472, 473, 473, 473, 475, 477, 482, 483, 484, 485, 485, 485, 485, 486, 488, 491, 491, 493, 493, 495, 495, 497, 505, 508, 509, 511, 512, 513, 513, 516, 516, 518, 519, 519, 521, 522, 523, 526, 527, 527, 528, 529, 532, 539, 541, 548, 555, 555, 556, 557, 558, 559, 559, 560, 560, 560, 561, 567, 570, 571, 576, 579, 581, 581, 582, 583, 587, 588, 589, 590, 592, 593, 593, 594, 595, 596, 596, 596, 597, 598, 599, 601, 605, 608, 610, 612, 612, 617, 618, 623, 623, 625, 628, 629, 629, 630, 631, 633, 635, 635, 635, 637, 642, 644, 647, 650, 651, 658, 660, 661, 664, 668, 671, 675, 676, 679, 681, 686, 687, 687, 688, 690, 697, 701, 702, 703, 703, 706, 706, 707, 707, 709, 710, 710, 711, 715, 715, 717, 721, 724, 726, 727, 729, 730, 730, 733, 734, 741, 745, 753, 766, 768, 770, 774, 778, 782, 788, 793, 793, 793, 793, 799, 809, 812, 816, 824, 843, 853, 854, 861, 863, 872, 894, 903, 912, 915, 920, 923, 925, 957]\n"
     ]
    }
   ],
   "source": [
    "sorted_array = sorted(array)\n",
    "print(sorted_array)"
   ]
  },
  {
   "cell_type": "markdown",
   "id": "529944f3",
   "metadata": {},
   "source": [
    "### Binary Search I"
   ]
  },
  {
   "cell_type": "markdown",
   "id": "ea48903c",
   "metadata": {},
   "source": [
    "**Why can we find a number faster in a sorted list?**\n",
    "\n",
    "**Example1:**\n",
    "\n",
    "Let us search for number 15 in a sorted list\n",
    "\n",
    "![alt_text](images/binary_search_v01_unit_02_img_001.2ce3d711.png)\n",
    "\n",
    "Since the list is sorted, we can discard the numbers on the left of 10.\n",
    "\n",
    "![alt_text](images/binary_search_v01_unit_02_img_002.ee28fb95.png)\n",
    "![alt_text](images/binary_search_v01_unit_02_img_003.0369f74b.png)\n",
    "\n",
    "**Example 2:**\n",
    "\n",
    "Let us search for number 6 in this sorted list\n",
    "\n",
    "Since the list is sorted, we can discard the numbers on the right of 10.\n",
    "\n",
    "![alt_text](images/binary_search_v01_unit_02_img_004.bdb657e4.png)"
   ]
  },
  {
   "cell_type": "markdown",
   "id": "02ff2707",
   "metadata": {},
   "source": [
    "### Binary Search II"
   ]
  },
  {
   "cell_type": "markdown",
   "id": "c8bfdbc0",
   "metadata": {},
   "source": [
    "**Can we use binary search in an unsorted list.?**\n",
    "\n",
    "**Example1:**\n",
    "\n",
    "Let us search for number 12 in ANOTHER list\n",
    "\n",
    "![alt_text](images/binary_search_v01_unit_02_img_005.afc421d5.png)\n",
    "\n",
    "Since this list is unsorted, we cannot discard any unseen elements.\n",
    "\n",
    "![alt_text](images/binary_search_v01_unit_02_img_006.59dcc7f3.png)\n",
    "\n",
    "\n",
    "**Example 2:**\n",
    "\n",
    "Let us search for number 6 in this sorted list\n",
    "\n",
    "Since the list is sorted, we can discard the numbers on the right of 10.\n",
    "\n",
    "![alt_text](images/binary_search_v01_unit_02_img_004.bdb657e4.png)"
   ]
  },
  {
   "cell_type": "markdown",
   "id": "0ed131cb",
   "metadata": {},
   "source": [
    "### If the list is not sorted, then just go through the entire list. No faster way. (Why?)\n",
    "\n",
    "### You need to look at every single item. Worse case scenario O(N). But if it is already sorted (no cost from you), by using binary search, you have O(logN)"
   ]
  },
  {
   "cell_type": "markdown",
   "id": "92a34ea5",
   "metadata": {},
   "source": [
    "### Binary Search Time Complexity"
   ]
  },
  {
   "cell_type": "markdown",
   "id": "a074fd23",
   "metadata": {},
   "source": [
    "### The time complexity for binary search is logN? What is logN? Why is logN?\n",
    "\n",
    "![alt_text](images/binary_search_Time_complexity_v01_unit_02_img_001.d6554947.png)\n",
    "\n",
    "Given N numbers, eveytime I can reduce it by HALF, so I do not need to go through all the N numbers. I can do less than N operations. The time taken is logN, which is less than N.\n",
    "\n",
    "\n",
    "**Summary:**\n",
    "\n",
    "For N elements, reduce by half to do operations, then O(logN). (Search in a sorted list)\n",
    "\n",
    "For N elements, have to do operations for each element, then O(N). (Search in an unsorted list)\n",
    "\n",
    "**Quiz:**\n",
    "\n",
    "For N elements, reduce by one third to do operations, then is it still O(logN)? what is the base of the log?\n",
    "\n",
    "Yes. The base is 3."
   ]
  },
  {
   "cell_type": "markdown",
   "id": "3a3063d4",
   "metadata": {},
   "source": [
    "### A Glance of Sorting I"
   ]
  },
  {
   "cell_type": "markdown",
   "id": "740a8f29",
   "metadata": {},
   "source": [
    "#### Since searching in a sorted list is faster, can we sort a list before searching?\n",
    "\n",
    "**Sorting, could be as bad as O(N^2)**\n",
    "\n",
    "For every element, compare with the other N elements/or even the REST elements\n",
    "\n",
    "(N-1)+(N-2) +...2 + 1 = N(N-1)/2 = N^2-N/2 = O(N^2)"
   ]
  },
  {
   "cell_type": "markdown",
   "id": "67b109b6",
   "metadata": {},
   "source": [
    "### A Glance of Sorting II"
   ]
  },
  {
   "cell_type": "markdown",
   "id": "edf7c6c8",
   "metadata": {},
   "source": [
    "![alt text](images/A_glance_of_sorting_v01_unit_02_img_001.980e76e8.png)"
   ]
  },
  {
   "cell_type": "markdown",
   "id": "8636f3ac",
   "metadata": {},
   "source": [
    "Sorting time complexity\n",
    "\n",
    "For N numbers, divide by half, logN steps\n",
    "\n",
    "**After dividing, in each step still need to check every sigle number. N times So in total, (logN)(N) = NlogN, O(NlogN)**\n"
   ]
  },
  {
   "cell_type": "markdown",
   "id": "05533ec7",
   "metadata": {},
   "source": [
    "### Binary Search Time Complexity Summary"
   ]
  },
  {
   "cell_type": "markdown",
   "id": "ec0f5859",
   "metadata": {},
   "source": [
    "**Summary**\n",
    "\n",
    "Sorting N*logN, no better than O(N)\n",
    "\n",
    "Binary search, O(logN)\n",
    "\n",
    "Unsorted list, in order to do binary search: O(N logN)+O(logN) = O(N logN)\n",
    "\n",
    "Sorted list, do binary search, O(logN)"
   ]
  },
  {
   "cell_type": "markdown",
   "id": "456b2940",
   "metadata": {},
   "source": [
    "### Binary Search Snippet I"
   ]
  },
  {
   "cell_type": "markdown",
   "id": "0a7ff66f",
   "metadata": {},
   "source": [
    "**Code Snippet:Search a target number from a sorted list**"
   ]
  },
  {
   "cell_type": "markdown",
   "id": "f115f872",
   "metadata": {},
   "source": [
    "![alt text](images/binary_Search_Template_v01_unit_02_img_001.824a2e6f.png)"
   ]
  },
  {
   "cell_type": "code",
   "execution_count": 4,
   "id": "99af78f0",
   "metadata": {},
   "outputs": [],
   "source": [
    "ex_nums = [0, 4, 6, 10, 13, 15, 22] \n",
    "target = 15\n",
    "    \n",
    "left = 0\n",
    "right = len(ex_nums)\n",
    "#mid = (left+right)//2 but this will introduce indexing bugs \n",
    "#Also in python 3, you much use // instead of /\n",
    "    \n",
    "mid = left+(right-left)//2"
   ]
  },
  {
   "cell_type": "markdown",
   "id": "2b25ce85",
   "metadata": {},
   "source": [
    "in the first step,we get mid (the index) = 3, and then nums[mid] = nums[3] = 10.\n",
    "\n",
    "compare the number 10 with target 15, we know our target should be in the right half of the list.\n",
    "\n",
    "now we know we only need to look at the right half of the nums.\n",
    "\n",
    "update the left as left = mid + 1, and calculate the new mid."
   ]
  },
  {
   "cell_type": "markdown",
   "id": "4bf9ad28",
   "metadata": {},
   "source": [
    "### Binary Search Snippet II"
   ]
  },
  {
   "cell_type": "code",
   "execution_count": 16,
   "id": "af620aab",
   "metadata": {},
   "outputs": [
    {
     "data": {
      "image/png": "[encoded data removed]",
      "text/plain": [
       "<IPython.core.display.Image object>"
      ]
     },
     "execution_count": 16,
     "metadata": {},
     "output_type": "execute_result"
    }
   ],
   "source": [
    "from IPython import display\n",
    "# another way to show picture\n",
    "display.Image('images/binary_Search_Template_v01_unit_02_img_001.824a2e6f.png')"
   ]
  },
  {
   "cell_type": "markdown",
   "id": "c4c80ded",
   "metadata": {},
   "source": [
    "Wrap the previous code in a function."
   ]
  },
  {
   "cell_type": "code",
   "execution_count": 20,
   "id": "3a44ea77",
   "metadata": {},
   "outputs": [],
   "source": [
    "def binary_search(nums, target):\n",
    "    \"\"\"\n",
    "    :type nums: List[int]\n",
    "    :type target: int\n",
    "    :rtype: int\n",
    "    \"\"\"\n",
    "    left = 0\n",
    "    right = len(nums) - 1\n",
    "    #note, in while, < or <= are very different. it depends on the how you update left, right.\n",
    "    while left <= right:\n",
    "        mid = left + (right - left) // 2\n",
    "        print (\"left is {0}, right is {1} and the current mid is {2}\".format(left, right, mid))\n",
    "        if nums[mid] == target:\n",
    "            return target\n",
    "        elif target > nums[mid]:\n",
    "            left = mid + 1\n",
    "        else:\n",
    "            right = mid - 1\n",
    "    \n",
    "    return None\n",
    "    "
   ]
  },
  {
   "cell_type": "code",
   "execution_count": 21,
   "id": "e5b6a66e",
   "metadata": {},
   "outputs": [
    {
     "name": "stdout",
     "output_type": "stream",
     "text": [
      "left is 0, right is 6 and the current mid is 3\n",
      "left is 4, right is 6 and the current mid is 5\n",
      "left is 4, right is 4 and the current mid is 4\n"
     ]
    },
    {
     "data": {
      "text/plain": [
       "13"
      ]
     },
     "execution_count": 21,
     "metadata": {},
     "output_type": "execute_result"
    }
   ],
   "source": [
    "binary_search(ex_nums, target=13)"
   ]
  },
  {
   "cell_type": "markdown",
   "id": "df0bd37c",
   "metadata": {},
   "source": [
    "### Example: Search Insert Position\n",
    "[35. Search Insert Position](https://leetcode.com/problems/search-insert-position/)\n",
    "\n",
    "**Description:**\n",
    "\n",
    "Given a sorted array of distinct integers and a target value, return the index if the target is found. If not, return the index where it would be if it were inserted in order.\n",
    "\n",
    "You must write an algorithm with O(log n) runtime complexity.\n",
    "\n",
    "**Note:**\n",
    "\n",
    "You may assume no duplicates in the array.\n",
    "\n",
    "**Example 1:**\n",
    "\n",
    "Input: nums = [1,3,5,6], target = 5\n",
    "\n",
    "Output: 2\n",
    "\n",
    "**Example 2:**\n",
    "\n",
    "Input: nums = [1,3,5,6], target = 2\n",
    "\n",
    "Output: 1\n",
    "\n",
    "**Example 3:**\n",
    "\n",
    "Input: nums = [1,3,5,6], target = 7\n",
    "\n",
    "Output: 4"
   ]
  },
  {
   "cell_type": "code",
   "execution_count": 22,
   "id": "38dd9042",
   "metadata": {},
   "outputs": [
    {
     "name": "stdout",
     "output_type": "stream",
     "text": [
      "2\n",
      "1\n",
      "4\n"
     ]
    }
   ],
   "source": [
    "from typing import List\n",
    "class Solution:\n",
    "    def searchInsert(self, nums: List[int], target: int) -> int:\n",
    "        left = 0\n",
    "        right = len(nums) - 1\n",
    "        \n",
    "        while left <= right:\n",
    "            mid = left + (right - left) // 2\n",
    "            if nums[mid] == target:\n",
    "                return mid\n",
    "            elif target > nums[mid]:\n",
    "                left = mid + 1\n",
    "            else:\n",
    "                right = mid - 1\n",
    "        \n",
    "        return left\n",
    "\n",
    "sol = Solution()\n",
    "print(sol.searchInsert(nums = [1,3,5,6], target = 5))\n",
    "print(sol.searchInsert(nums = [1,3,5,6], target = 2))\n",
    "print(sol.searchInsert(nums = [1,3,5,6], target = 7))"
   ]
  },
  {
   "cell_type": "markdown",
   "id": "e2afeaec",
   "metadata": {},
   "source": [
    "### Generic Binary Search Snippet"
   ]
  },
  {
   "cell_type": "markdown",
   "id": "b6b3d55d",
   "metadata": {},
   "source": [
    "left = 0\n",
    "right = len(nums)-1\n",
    "while left <= right:\n",
    "    #update mid\n",
    "    mid = left+(right-left)//2\n",
    "    if \"find the element\"\n",
    "        do something\n",
    "    elif \"cut the left half\"\n",
    "        left = mid+1\n",
    "    else \"cut the right half\"\n",
    "        right = mid-1\n",
    "return \"no found\""
   ]
  }
 ],
 "metadata": {
  "kernelspec": {
   "display_name": "Python 3 (ipykernel)",
   "language": "python",
   "name": "python3"
  },
  "language_info": {
   "codemirror_mode": {
    "name": "ipython",
    "version": 3
   },
   "file_extension": ".py",
   "mimetype": "text/x-python",
   "name": "python",
   "nbconvert_exporter": "python",
   "pygments_lexer": "ipython3",
   "version": "3.8.13"
  }
 },
 "nbformat": 4,
 "nbformat_minor": 5
}
