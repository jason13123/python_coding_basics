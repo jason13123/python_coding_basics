{
  "cells": [
    {
      "cell_type": "code",
      "execution_count": 2,
      "id": "3b9c2d40",
      "metadata": {
        "id": "3b9c2d40"
      },
      "outputs": [],
      "source": [
        "from typing import *"
      ]
    },
    {
      "cell_type": "markdown",
      "id": "26758164",
      "metadata": {
        "id": "26758164"
      },
      "source": [
        "### Exercise:  Binary Tree Inorder Traversal\n",
        "[94. Binary Tree Inorder Traversal](https://leetcode.com/problems/binary-tree-inorder-traversal/)\n",
        "\n",
        "**Description:**\n",
        "\n",
        "Given the root of a binary tree, return the inorder traversal of its nodes' values.\n",
        "\n",
        "**Note:**\n",
        "\n",
        "\n",
        "**Example 1:**\n",
        "\n",
        "<img src=\"https://github.com/jason13123/python_coding_basics/blob/master/images/leetcode94_ex1_inorder_1.jpeg?raw=1\" width=100 height=100>\n",
        "\n",
        "Input: root = [1,null,2,3]\n",
        "\n",
        "Output: [1,3,2]\n",
        "\n",
        "**Example 2:**\n",
        "\n",
        "Input: root = []\n",
        "\n",
        "Output: []\n",
        "\n",
        "**Example 3:**\n",
        "\n",
        "Input: root = [1]\n",
        "\n",
        "Output: [1]\n",
        "\n",
        "**Constraints:**\n",
        "\n",
        "- The number of nodes in the tree is in the range [0, 100].\n",
        "- -100 <= Node.val <= 100"
      ]
    },
    {
      "cell_type": "code",
      "execution_count": null,
      "id": "201d83a8",
      "metadata": {
        "id": "201d83a8"
      },
      "outputs": [],
      "source": [
        "# Definition for a binary tree node.\n",
        "class TreeNode:\n",
        "    def __init__(self, val=0, left=None, right=None):\n",
        "        self.val = val\n",
        "        self.left = left\n",
        "        self.right = right\n",
        "\n",
        "class Solution:\n",
        "    def inorderTraversal(self, root: Optional[TreeNode]) -> List[int]:\n",
        "        self.rL = []\n",
        "        if not root:\n",
        "            return self.rL\n",
        "        \n",
        "        self.dfs(root, self.rL)\n",
        "        return self.rL\n",
        "    \n",
        "    def dfs(self, root, rL):\n",
        "        if not root:\n",
        "            return None\n",
        "        \n",
        "        if root.left:\n",
        "            self.dfs(root.left, rL)\n",
        "        \n",
        "        rL.append(root.val)\n",
        "        \n",
        "        if root.right:\n",
        "            self.dfs(root.right, rL)\n",
        "        \n",
        "        "
      ]
    },
    {
      "cell_type": "code",
      "execution_count": null,
      "id": "4d877289",
      "metadata": {
        "id": "4d877289"
      },
      "outputs": [],
      "source": [
        ""
      ]
    },
    {
      "cell_type": "markdown",
      "source": [
        "### Exercise:  Minimum Depth of Binary Tree\n",
        "[111. Minimum Depth of Binary Tree](https://leetcode.com/problems/minimum-depth-of-binary-tree/)\n",
        "\n",
        "**Description:**\n",
        "\n",
        "Given a binary tree, find its minimum depth.\n",
        "\n",
        "The minimum depth is the number of nodes along the shortest path from the root node down to the nearest leaf node.\n",
        "\n",
        "**Note:**\n",
        "\n",
        "A leaf is a node with no children.\n",
        "\n",
        "**Example 1:**\n",
        "\n",
        "TO BE UPDATED\n",
        "<img src=\"https://github.com/jason13123/python_coding_basics/blob/master/images/leetcode94_ex1_inorder_1.jpeg?raw=1\" width=100 height=100>\n",
        "\n",
        "Input: root = [3,9,20,null,null,15,7]\n",
        "\n",
        "Output: 2\n",
        "\n",
        "**Example 2:**\n",
        "\n",
        "Input: root = [2,null,3,null,4,null,5,null,6]\n",
        "\n",
        "Output: 5\n",
        "\n",
        "**Constraints:**\n",
        "\n",
        "- The number of nodes in the tree is in the range [0, 105].\n",
        "- -1000 <= Node.val <= 1000"
      ],
      "metadata": {
        "id": "e3HLA1MFpM-r"
      },
      "id": "e3HLA1MFpM-r"
    },
    {
      "cell_type": "code",
      "execution_count": 3,
      "id": "91c8bb18",
      "metadata": {
        "id": "91c8bb18"
      },
      "outputs": [],
      "source": [
        "# Definition for a binary tree node.\n",
        "class TreeNode:\n",
        "    def __init__(self, val=0, left=None, right=None):\n",
        "        self.val = val\n",
        "        self.left = left\n",
        "        self.right = right\n",
        "\n",
        "class Solution:\n",
        "    def minDepth(self, root: Optional[TreeNode]) -> int:\n",
        "        if not root:\n",
        "            return 0\n",
        "        \n",
        "        self.min_depth = 10000\n",
        "        \n",
        "        self.dfs(root, 1)\n",
        "        \n",
        "        return self.min_depth\n",
        "    \n",
        "    def dfs(self, root, counter):\n",
        "        if not root.left and not root.right:\n",
        "            self.min_depth = min(counter, self.min_depth)\n",
        "            \n",
        "        if root.left:\n",
        "            self.dfs(root.left, counter+1)\n",
        "            \n",
        "        if root.right:\n",
        "            self.dfs(root.right, counter+1)"
      ]
    },
    {
      "cell_type": "code",
      "execution_count": 4,
      "id": "65422a11",
      "metadata": {
        "id": "65422a11"
      },
      "outputs": [],
      "source": [
        "# Lecture solution\n",
        "\n",
        "class Solution(object):\n",
        "    def minDFS(self, counter, rL, root):\n",
        "        if not root.left and not root.right:\n",
        "            return rL.append(counter)\n",
        "        if root.left:\n",
        "            self.minDFS(counter+1, rL, root.left)\n",
        "        if root.right:\n",
        "            self.minDFS(counter+1, rL, root.right)\n",
        "    \n",
        "    def minDepth(self, root):\n",
        "        \"\"\"\n",
        "        :type root: TreeNode\n",
        "        :rtype: int\n",
        "        \"\"\"\n",
        "        counter = 0\n",
        "        rL = []\n",
        "        if not root:\n",
        "            return 0\n",
        "        self.minDFS(1, rL, root)\n",
        "        return min(rL)"
      ]
    },
    {
      "cell_type": "code",
      "execution_count": null,
      "id": "1314d931",
      "metadata": {
        "id": "1314d931"
      },
      "outputs": [],
      "source": [
        ""
      ]
    },
    {
      "cell_type": "markdown",
      "id": "2d20dd69",
      "metadata": {
        "id": "2d20dd69"
      },
      "source": [
        "### Exercise:  Title\n",
        "[leetcode title](https://leetcode.com/problems/)\n",
        "\n",
        "**Description:**\n",
        "\n",
        "\n",
        "**Note:**\n",
        "\n",
        "\n",
        "**Example 1:**\n",
        "\n",
        "\n",
        "**Example 2:**\n",
        "\n"
      ]
    },
    {
      "cell_type": "markdown",
      "id": "b04866b4",
      "metadata": {
        "id": "b04866b4"
      },
      "source": [
        "### Exercise:  Title\n",
        "[leetcode title](https://leetcode.com/problems/)\n",
        "\n",
        "**Description:**\n",
        "\n",
        "\n",
        "**Note:**\n",
        "\n",
        "\n",
        "**Example 1:**\n",
        "\n",
        "\n",
        "**Example 2:**\n",
        "\n"
      ]
    },
    {
      "cell_type": "markdown",
      "id": "b6911b62",
      "metadata": {
        "id": "b6911b62"
      },
      "source": [
        "### Exercise:  Title\n",
        "[leetcode title](https://leetcode.com/problems/)\n",
        "\n",
        "**Description:**\n",
        "\n",
        "\n",
        "**Note:**\n",
        "\n",
        "\n",
        "**Example 1:**\n",
        "\n",
        "\n",
        "**Example 2:**\n",
        "\n"
      ]
    },
    {
      "cell_type": "markdown",
      "id": "a1332eb4",
      "metadata": {
        "id": "a1332eb4"
      },
      "source": [
        "### Exercise:  Title\n",
        "[leetcode title](https://leetcode.com/problems/)\n",
        "\n",
        "**Description:**\n",
        "\n",
        "\n",
        "**Note:**\n",
        "\n",
        "\n",
        "**Example 1:**\n",
        "\n",
        "\n",
        "**Example 2:**\n",
        "\n"
      ]
    },
    {
      "cell_type": "markdown",
      "id": "98c230d5",
      "metadata": {
        "id": "98c230d5"
      },
      "source": [
        "### Exercise:  Title\n",
        "[leetcode title](https://leetcode.com/problems/)\n",
        "\n",
        "**Description:**\n",
        "\n",
        "\n",
        "**Note:**\n",
        "\n",
        "\n",
        "**Example 1:**\n",
        "\n",
        "\n",
        "**Example 2:**\n",
        "\n"
      ]
    },
    {
      "cell_type": "code",
      "execution_count": null,
      "id": "14f14a3a",
      "metadata": {
        "id": "14f14a3a"
      },
      "outputs": [],
      "source": [
        ""
      ]
    },
    {
      "cell_type": "code",
      "execution_count": null,
      "id": "a5582bd8",
      "metadata": {
        "id": "a5582bd8"
      },
      "outputs": [],
      "source": [
        ""
      ]
    }
  ],
  "metadata": {
    "kernelspec": {
      "display_name": "Python 3 (ipykernel)",
      "language": "python",
      "name": "python3"
    },
    "language_info": {
      "codemirror_mode": {
        "name": "ipython",
        "version": 3
      },
      "file_extension": ".py",
      "mimetype": "text/x-python",
      "name": "python",
      "nbconvert_exporter": "python",
      "pygments_lexer": "ipython3",
      "version": "3.8.13"
    },
    "colab": {
      "name": "06b_tree traversal and depth first search exercise.ipynb",
      "provenance": []
    }
  },
  "nbformat": 4,
  "nbformat_minor": 5
}