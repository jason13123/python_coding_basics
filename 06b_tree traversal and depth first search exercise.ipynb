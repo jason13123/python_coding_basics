{
 "cells": [
  {
   "cell_type": "code",
   "execution_count": 3,
   "id": "3b9c2d40",
   "metadata": {},
   "outputs": [],
   "source": [
    "from typing import *"
   ]
  },
  {
   "cell_type": "markdown",
   "id": "26758164",
   "metadata": {},
   "source": [
    "### Exercise:  Binary Tree Inorder Traversal\n",
    "[94. Binary Tree Inorder Traversal](https://leetcode.com/problems/binary-tree-inorder-traversal/)\n",
    "\n",
    "**Description:**\n",
    "\n",
    "Given the root of a binary tree, return the inorder traversal of its nodes' values.\n",
    "\n",
    "**Note:**\n",
    "\n",
    "\n",
    "**Example 1:**\n",
    "\n",
    "<img src=\"images/leetcode94_ex1_inorder_1.jpeg\" width=100 height=100>\n",
    "\n",
    "Input: root = [1,null,2,3]\n",
    "\n",
    "Output: [1,3,2]\n",
    "\n",
    "**Example 2:**\n",
    "\n",
    "Input: root = []\n",
    "\n",
    "Output: []\n",
    "\n",
    "**Example 3:**\n",
    "\n",
    "Input: root = [1]\n",
    "\n",
    "Output: [1]\n",
    "\n",
    "**Constraints:**\n",
    "\n",
    "- The number of nodes in the tree is in the range [0, 100].\n",
    "- -100 <= Node.val <= 100"
   ]
  },
  {
   "cell_type": "code",
   "execution_count": 9,
   "id": "201d83a8",
   "metadata": {},
   "outputs": [],
   "source": [
    "# Definition for a binary tree node.\n",
    "class TreeNode:\n",
    "    def __init__(self, val=0, left=None, right=None):\n",
    "        self.val = val\n",
    "        self.left = left\n",
    "        self.right = right\n",
    "\n",
    "class Solution:\n",
    "    def inorderTraversal(self, root: Optional[TreeNode]) -> List[int]:\n",
    "        self.rL = []\n",
    "        if not root:\n",
    "            return self.rL\n",
    "        \n",
    "        self.dfs(root, self.rL)\n",
    "        return self.rL\n",
    "    \n",
    "    def dfs(self, root, rL):\n",
    "        if not root:\n",
    "            return None\n",
    "        \n",
    "        if root.left:\n",
    "            self.dfs(root.left, rL)\n",
    "        \n",
    "        rL.append(root.val)\n",
    "        \n",
    "        if root.right:\n",
    "            self.dfs(root.right, rL)\n",
    "        \n",
    "        "
   ]
  },
  {
   "cell_type": "code",
   "execution_count": null,
   "id": "4d877289",
   "metadata": {},
   "outputs": [],
   "source": []
  },
  {
   "cell_type": "code",
   "execution_count": null,
   "id": "91c8bb18",
   "metadata": {},
   "outputs": [],
   "source": []
  },
  {
   "cell_type": "code",
   "execution_count": null,
   "id": "65422a11",
   "metadata": {},
   "outputs": [],
   "source": []
  },
  {
   "cell_type": "code",
   "execution_count": null,
   "id": "1314d931",
   "metadata": {},
   "outputs": [],
   "source": []
  },
  {
   "cell_type": "markdown",
   "id": "2d20dd69",
   "metadata": {},
   "source": [
    "### Exercise:  Title\n",
    "[leetcode title](https://leetcode.com/problems/)\n",
    "\n",
    "**Description:**\n",
    "\n",
    "\n",
    "**Note:**\n",
    "\n",
    "\n",
    "**Example 1:**\n",
    "\n",
    "\n",
    "**Example 2:**\n",
    "\n"
   ]
  },
  {
   "cell_type": "markdown",
   "id": "b04866b4",
   "metadata": {},
   "source": [
    "### Exercise:  Title\n",
    "[leetcode title](https://leetcode.com/problems/)\n",
    "\n",
    "**Description:**\n",
    "\n",
    "\n",
    "**Note:**\n",
    "\n",
    "\n",
    "**Example 1:**\n",
    "\n",
    "\n",
    "**Example 2:**\n",
    "\n"
   ]
  },
  {
   "cell_type": "markdown",
   "id": "b6911b62",
   "metadata": {},
   "source": [
    "### Exercise:  Title\n",
    "[leetcode title](https://leetcode.com/problems/)\n",
    "\n",
    "**Description:**\n",
    "\n",
    "\n",
    "**Note:**\n",
    "\n",
    "\n",
    "**Example 1:**\n",
    "\n",
    "\n",
    "**Example 2:**\n",
    "\n"
   ]
  },
  {
   "cell_type": "markdown",
   "id": "a1332eb4",
   "metadata": {},
   "source": [
    "### Exercise:  Title\n",
    "[leetcode title](https://leetcode.com/problems/)\n",
    "\n",
    "**Description:**\n",
    "\n",
    "\n",
    "**Note:**\n",
    "\n",
    "\n",
    "**Example 1:**\n",
    "\n",
    "\n",
    "**Example 2:**\n",
    "\n"
   ]
  },
  {
   "cell_type": "markdown",
   "id": "98c230d5",
   "metadata": {},
   "source": [
    "### Exercise:  Title\n",
    "[leetcode title](https://leetcode.com/problems/)\n",
    "\n",
    "**Description:**\n",
    "\n",
    "\n",
    "**Note:**\n",
    "\n",
    "\n",
    "**Example 1:**\n",
    "\n",
    "\n",
    "**Example 2:**\n",
    "\n"
   ]
  },
  {
   "cell_type": "code",
   "execution_count": null,
   "id": "14f14a3a",
   "metadata": {},
   "outputs": [],
   "source": []
  },
  {
   "cell_type": "code",
   "execution_count": null,
   "id": "a5582bd8",
   "metadata": {},
   "outputs": [],
   "source": []
  }
 ],
 "metadata": {
  "kernelspec": {
   "display_name": "Python 3 (ipykernel)",
   "language": "python",
   "name": "python3"
  },
  "language_info": {
   "codemirror_mode": {
    "name": "ipython",
    "version": 3
   },
   "file_extension": ".py",
   "mimetype": "text/x-python",
   "name": "python",
   "nbconvert_exporter": "python",
   "pygments_lexer": "ipython3",
   "version": "3.8.13"
  }
 },
 "nbformat": 4,
 "nbformat_minor": 5
}
