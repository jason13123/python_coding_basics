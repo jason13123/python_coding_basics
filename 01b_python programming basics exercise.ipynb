{
 "cells": [
  {
   "cell_type": "code",
   "execution_count": 1,
   "id": "7fde4704",
   "metadata": {},
   "outputs": [],
   "source": [
    "from typing import *"
   ]
  },
  {
   "cell_type": "markdown",
   "id": "8b510863",
   "metadata": {},
   "source": [
    "### Exercise: Two Sum II - Input array is sorted\n",
    "[167. Two Sum II - Input Array Is Sorted](https://leetcode.com/problems/two-sum-ii-input-array-is-sorted/)\n",
    "\n",
    "**Description:**\n",
    "\n",
    "Given a 1-indexed array of integers numbers that is already sorted in non-decreasing order, find two numbers such that they add up to a specific target number. Let these two numbers be numbers[index1] and numbers[index2] where 1 <= index1 < index2 <= numbers.length.\n",
    "\n",
    "Return the indices of the two numbers, index1 and index2, added by one as an integer array [index1, index2] of length 2.\n",
    "\n",
    "The tests are generated such that there is exactly one solution. You may not use the same element twice.\n",
    "\n",
    "Your solution must use only constant extra space.\n",
    "\n",
    "**Note:**\n",
    "\n",
    "Your returned answers (both index1 and index2) are not zero-based.\n",
    "\n",
    "You may assume that each input would have exactly one solution and you may not use the same element twice.\n",
    "\n",
    "**Example :**\n",
    "\n",
    "Input: numbers = [2,7,11,15], target = 9\n",
    "\n",
    "Output: [1,2]\n",
    "\n",
    "Explanation: The sum of 2 and 7 is 9. Therefore index1 = 1, index2 = 2."
   ]
  },
  {
   "cell_type": "code",
   "execution_count": 2,
   "id": "8904e76e",
   "metadata": {},
   "outputs": [
    {
     "name": "stdout",
     "output_type": "stream",
     "text": [
      "[1, 2]\n",
      "[1, 3]\n",
      "[1, 2]\n",
      "[1, 2]\n",
      "[2, 3]\n"
     ]
    }
   ],
   "source": [
    "class Solution:\n",
    "    def twoSum(self, numbers: List[int], target: int) -> List[int]:\n",
    "        hashmap = {}\n",
    "        \n",
    "        for index, value in enumerate(numbers):\n",
    "            hashmap[value] = index\n",
    "        \n",
    "        for index, value in enumerate(numbers):\n",
    "            if target - value in hashmap:\n",
    "                # not necessary as long as in the index comparison below using < or > only\n",
    "                # note the array is ascending\n",
    "                if index == hashmap[target - value]: \n",
    "                    continue\n",
    "                else:\n",
    "                    if index < hashmap[target - value]:\n",
    "                        return [index + 1, hashmap[target - value] + 1 ]\n",
    "                    else:\n",
    "                        return [hashmap[target - value] + 1, index + 1]\n",
    "\n",
    "sol = Solution()\n",
    "print(sol.twoSum([2,7,11,15], 9))\n",
    "print(sol.twoSum([2,3,4], 6))\n",
    "print(sol.twoSum([-1,0], -1))\n",
    "print(sol.twoSum([3,3,4,5], 6))\n",
    "print(sol.twoSum([3,2,4], 6))"
   ]
  },
  {
   "cell_type": "markdown",
   "id": "0e735c0a",
   "metadata": {},
   "source": [
    "### Exercise: Contains Duplicate II\n",
    "[219. Contains Duplicate II](https://leetcode.com/problems/contains-duplicate-ii/)\n",
    "\n",
    "**Description:**\n",
    "\n",
    "Given an integer array nums and an integer k, return true if there are two distinct indices i and j in the array such that nums[i] == nums[j] and abs(i - j) <= k.\n",
    "\n",
    "**Note:**\n",
    "\n",
    "\n",
    "**Example1:**\n",
    "\n",
    "Input: nums = [1,2,3,1], k = 3\n",
    "\n",
    "Output: true\n",
    "\n",
    "**Example2:**\n",
    "\n",
    "Input: nums = [1,0,1,1], k = 1\n",
    "\n",
    "Output: true\n",
    "\n",
    "**Example3:**\n",
    "\n",
    "Input: nums = [1,2,3,1,2,3], k = 2\n",
    "\n",
    "Output: false"
   ]
  },
  {
   "cell_type": "code",
   "execution_count": 3,
   "id": "2cc8477e",
   "metadata": {},
   "outputs": [
    {
     "name": "stdout",
     "output_type": "stream",
     "text": [
      "True\n",
      "True\n",
      "False\n"
     ]
    }
   ],
   "source": [
    "class Solution:\n",
    "    def containsNearbyDuplicate(self, nums: List[int], k: int) -> bool:\n",
    "        hashmap = {}\n",
    "        for index in range(len(nums)):\n",
    "            if nums[index] in hashmap:\n",
    "                if abs(index - hashmap[nums[index]]) <= k:\n",
    "                    return True\n",
    "                else:\n",
    "                    #if the value is in hashmap, we still need to update the index \n",
    "                    #since we want the index difference as small as possible.\n",
    "                    hashmap[nums[index]] = index\n",
    "            else:\n",
    "                hashmap[nums[index]] = index\n",
    "        \n",
    "        return False\n",
    "\n",
    "sol = Solution()\n",
    "print(sol.containsNearbyDuplicate(nums = [1,2,3,1], k = 3))\n",
    "print(sol.containsNearbyDuplicate(nums = [1,0,1,1], k = 1))\n",
    "print(sol.containsNearbyDuplicate(nums = [1,2,3,1,2,3], k = 2))"
   ]
  },
  {
   "cell_type": "markdown",
   "id": "71acfa80",
   "metadata": {},
   "source": [
    "### Exercise: Valid Anagram\n",
    "[242. Valid Anagram](https://leetcode.com/problems/valid-anagram/)\n",
    "\n",
    "**Description:**\n",
    "\n",
    "Given two strings s and t, return true if t is an anagram of s, and false otherwise.\n",
    "\n",
    "An Anagram is a word or phrase formed by rearranging the letters of a different word or phrase, typically using all the original letters exactly once.\n",
    "\n",
    "**Note:**\n",
    "\n",
    "You may assume the string contains only lowercase alphabets.\n",
    "\n",
    "**Example1:**\n",
    "\n",
    "Input: s = \"anagram\", t = \"nagaram\"\n",
    "\n",
    "Output: true\n",
    "\n",
    "**Example2:**\n",
    "\n",
    "Input: s = \"rat\", t = \"car\"\n",
    "\n",
    "Output: false\n"
   ]
  },
  {
   "cell_type": "code",
   "execution_count": 23,
   "id": "653b3083",
   "metadata": {},
   "outputs": [
    {
     "name": "stdout",
     "output_type": "stream",
     "text": [
      "True\n",
      "False\n",
      "False\n"
     ]
    }
   ],
   "source": [
    "class Solution:\n",
    "    def isAnagram(self, s: str, t: str) -> bool:\n",
    "        if len(s) != len(t) or set(s) != set (t):\n",
    "            return False\n",
    "\n",
    "        hashmap = {}\n",
    "        for char in s:\n",
    "            if char not in hashmap:\n",
    "                hashmap[char] = 1\n",
    "            else:\n",
    "                hashmap[char] += 1\n",
    "\n",
    "        for char in t:\n",
    "            if char not in hashmap:\n",
    "                return False\n",
    "            else:\n",
    "                hashmap[char] -= 1\n",
    "\n",
    "        return not any(hashmap.values())  # any() returns False if all elements are False/0\n",
    "\n",
    "sol = Solution()\n",
    "print(sol.isAnagram(s = \"anagram\", t = \"nagaram\"))\n",
    "print(sol.isAnagram(s = \"rat\", t = \"car\"))\n",
    "print(sol.isAnagram(s = \"aacc\", t = \"ccac\"))"
   ]
  },
  {
   "cell_type": "code",
   "execution_count": 24,
   "id": "6ccee138",
   "metadata": {},
   "outputs": [
    {
     "data": {
      "text/plain": [
       "True"
      ]
     },
     "execution_count": 24,
     "metadata": {},
     "output_type": "execute_result"
    }
   ],
   "source": [
    "any([0, -1])"
   ]
  },
  {
   "cell_type": "markdown",
   "id": "367c606c",
   "metadata": {},
   "source": [
    "### Exercise: Missing Number\n",
    "[268. Missing Number](https://leetcode.com/problems/missing-number/)\n",
    "\n",
    "**Description:**\n",
    "\n",
    "Given an array nums containing n distinct numbers in the range [0, n], return the only number in the range that is missing from the array.\n",
    "\n",
    "**Note:**\n",
    "\n",
    "Your algorithm should run in linear runtime complexity. Could you implement it using only constant extra space complexity?\n",
    "\n",
    "**Example1:**\n",
    "\n",
    "Input: nums = [3,0,1]\n",
    "\n",
    "Output: 2\n",
    "\n",
    "Explanation: n = 3 since there are 3 numbers, so all numbers are in the range [0,3]. 2 is the missing number in the range since it does not appear in nums.\n",
    "\n",
    "**Example2:**\n",
    "\n",
    "Input: nums = [0,1]\n",
    "\n",
    "Output: 2\n",
    "\n",
    "Explanation: n = 2 since there are 2 numbers, so all numbers are in the range [0,2]. 2 is the missing number in the range since it does not appear in nums.\n",
    "\n",
    "**Example3:**\n",
    "\n",
    "Input: nums = [9,6,4,2,3,5,7,0,1]\n",
    "\n",
    "Output: 8\n",
    "\n",
    "Explanation: n = 9 since there are 9 numbers, so all numbers are in the range [0,9]. 8 is the missing number in the range since it does not appear in nums."
   ]
  },
  {
   "cell_type": "code",
   "execution_count": 25,
   "id": "47639476",
   "metadata": {},
   "outputs": [
    {
     "name": "stdout",
     "output_type": "stream",
     "text": [
      "2\n",
      "2\n",
      "8\n"
     ]
    }
   ],
   "source": [
    "class Solution:\n",
    "    def missingNumber(self, nums: List[int]) -> int:\n",
    "        n = len(nums)\n",
    "        s = set(range(n + 1))\n",
    "        delta_ls = list(s - set(nums))\n",
    "        return delta_ls[0]\n",
    "    \n",
    "sol = Solution()\n",
    "nums_ls = [[3,0,1],\n",
    "          [0,1],\n",
    "          [9,6,4,2,3,5,7,0,1]]\n",
    "for nums in nums_ls:\n",
    "    print(sol.missingNumber(nums))"
   ]
  },
  {
   "cell_type": "code",
   "execution_count": 26,
   "id": "4acc34e5",
   "metadata": {},
   "outputs": [
    {
     "name": "stdout",
     "output_type": "stream",
     "text": [
      "2\n",
      "2\n",
      "8\n"
     ]
    }
   ],
   "source": [
    "class Solution:\n",
    "    def missingNumber(self, nums: List[int]) -> int:\n",
    "        s = set(nums)\n",
    "        for i in range(len(nums) + 1):\n",
    "            if i not in s:\n",
    "                return i\n",
    "sol = Solution()\n",
    "nums_ls = [[3,0,1],\n",
    "          [0,1],\n",
    "          [9,6,4,2,3,5,7,0,1]]\n",
    "for nums in nums_ls:\n",
    "    print(sol.missingNumber(nums))"
   ]
  },
  {
   "cell_type": "markdown",
   "id": "43bf5d15",
   "metadata": {},
   "source": [
    "### Exercise: Intersection of Two Arrays\n",
    "[349. Intersection of Two Arrays](https://leetcode.com/problems/intersection-of-two-arrays/)\n",
    "\n",
    "**Description:**\n",
    "\n",
    "Given two integer arrays nums1 and nums2, return an array of their intersection. Each element in the result must be unique and you may return the result in any order.\n",
    "\n",
    "**Note:**\n",
    "\n",
    "Each element in the result must be unique.\n",
    "\n",
    "The result can be in any order.\n",
    "\n",
    "**Example1:**\n",
    "\n",
    "Input: nums1 = [1,2,2,1], nums2 = [2,2]\n",
    "\n",
    "Output: [2]\n",
    "\n",
    "\n",
    "**Example2:**\n",
    "\n",
    "Input: nums1 = [4,9,5], nums2 = [9,4,9,8,4]\n",
    "\n",
    "Output: [9,4]\n"
   ]
  },
  {
   "cell_type": "code",
   "execution_count": 27,
   "id": "af001b18",
   "metadata": {},
   "outputs": [
    {
     "name": "stdout",
     "output_type": "stream",
     "text": [
      "[2]\n",
      "[9, 4]\n"
     ]
    }
   ],
   "source": [
    "class Solution:\n",
    "    def intersection(self, nums1: List[int], nums2: List[int]) -> List[int]:\n",
    "        set1 = set(nums1)\n",
    "        set2 = set(nums2)\n",
    "        \n",
    "        return list(set1 & set2)\n",
    "\n",
    "sol = Solution()\n",
    "print(sol.intersection(nums1 = [1,2,2,1], nums2 = [2,2]))\n",
    "print(sol.intersection(nums1 = [4,9,5], nums2 = [9,4,9,8,4]))"
   ]
  },
  {
   "cell_type": "markdown",
   "id": "760e0156",
   "metadata": {},
   "source": [
    "### Exercise: Intersection of Two Arrays II\n",
    "[350. Intersection of Two Arrays II](https://leetcode.com/problems/intersection-of-two-arrays-ii/)\n",
    "\n",
    "**Description:**\n",
    "\n",
    "Given two integer arrays nums1 and nums2, return an array of their intersection. Each element in the result must appear as many times as it shows in both arrays and you may return the result in any order.\n",
    "\n",
    "**Note:**\n",
    "\n",
    "Each element in the result should appear as many times as it shows in both arrays.\n",
    "\n",
    "The result can be in any order.\n",
    "\n",
    "**Example1:**\n",
    "\n",
    "Input: nums1 = [1,2,2,1], nums2 = [2,2]\n",
    "\n",
    "Output: [2,2]\n",
    "\n",
    "\n",
    "**Example2:**\n",
    "\n",
    "Input: nums1 = [4,9,5], nums2 = [9,4,9,8,4]\n",
    "\n",
    "Output: [4,9]\n",
    "\n",
    "Explanation: [9,4] is also accepted."
   ]
  },
  {
   "cell_type": "code",
   "execution_count": 28,
   "id": "6d319f45",
   "metadata": {},
   "outputs": [
    {
     "name": "stdout",
     "output_type": "stream",
     "text": [
      "[2, 2]\n",
      "[9, 4]\n"
     ]
    }
   ],
   "source": [
    "class Solution:\n",
    "    def intersect(self, nums1: List[int], nums2: List[int]) -> List[int]:\n",
    "        hashmap = {}\n",
    "        result_ls = []\n",
    "            \n",
    "        for num in nums1:\n",
    "            if num not in hashmap:\n",
    "                hashmap[num] = 1\n",
    "            else:\n",
    "                hashmap[num] += 1\n",
    "\n",
    "        for num in nums2:\n",
    "            if num in hashmap and hashmap[num] > 0:\n",
    "                result_ls.append(num)\n",
    "                hashmap[num] -= 1\n",
    "        \n",
    "        return result_ls\n",
    "\n",
    "sol = Solution()\n",
    "print(sol.intersect(nums1 = [1,2,2,1], nums2 = [2,2]))\n",
    "print(sol.intersect(nums1 = [4,9,5], nums2 = [9,4,9,8,4]))\n",
    "        \n",
    "            "
   ]
  },
  {
   "cell_type": "code",
   "execution_count": 29,
   "id": "01e29c1d",
   "metadata": {},
   "outputs": [
    {
     "name": "stdout",
     "output_type": "stream",
     "text": [
      "[2, 2]\n",
      "[9, 4]\n"
     ]
    }
   ],
   "source": [
    "class Solution:\n",
    "    def intersect(self, nums1: List[int], nums2: List[int]) -> List[int]:\n",
    "        counts = {}\n",
    "        res = []\n",
    "\n",
    "        #Another way to initiallize a dictionary. \n",
    "        #If you are not comfortable to use it in this way, \n",
    "        #just do it as we tought in the class.\n",
    "        for num in nums1:\n",
    "            counts[num] = counts.get(num, 0) + 1\n",
    "\n",
    "        for num in nums2:\n",
    "            if num in counts and counts[num] > 0:\n",
    "                res.append(num)\n",
    "                counts[num] -= 1\n",
    "\n",
    "        return res\n",
    "    \n",
    "sol = Solution()\n",
    "print(sol.intersect(nums1 = [1,2,2,1], nums2 = [2,2]))\n",
    "print(sol.intersect(nums1 = [4,9,5], nums2 = [9,4,9,8,4]))\n",
    "        "
   ]
  },
  {
   "cell_type": "markdown",
   "id": "64ce23aa",
   "metadata": {},
   "source": [
    "### Exercise: Find the Difference\n",
    "[389. Find the Difference](https://leetcode.com/problems/find-the-difference/)\n",
    "\n",
    "**Description:**\n",
    "\n",
    "You are given two strings s and t.\n",
    "\n",
    "String t is generated by random shuffling string s and then add one more letter at a random position.\n",
    "\n",
    "Return the letter that was added to t.\n",
    "\n",
    "**Note:**\n",
    "\n",
    "\n",
    "**Example1:**\n",
    "\n",
    "Input: s = \"abcd\", t = \"abcde\"\n",
    "\n",
    "Output: \"e\"\n",
    "\n",
    "Explanation: 'e' is the letter that was added.\n",
    "\n",
    "\n",
    "**Example2:**\n",
    "\n",
    "Input: s = \"\", t = \"y\"\n",
    "\n",
    "Output: \"y\""
   ]
  },
  {
   "cell_type": "code",
   "execution_count": 30,
   "id": "635e3f9d",
   "metadata": {},
   "outputs": [
    {
     "name": "stdout",
     "output_type": "stream",
     "text": [
      "e\n",
      "y\n"
     ]
    }
   ],
   "source": [
    "class Solution:\n",
    "    def findTheDifference(self, s: str, t: str) -> str:\n",
    "        hashmap = {}\n",
    "        for char in s:\n",
    "            hashmap[char] = hashmap.get(char, 0) + 1\n",
    "        for char in t:\n",
    "            if char not in hashmap:\n",
    "                return char\n",
    "            else:\n",
    "                hashmap[char] -= 1\n",
    "                if hashmap[char] == -1:\n",
    "                    return char\n",
    "\n",
    "sol = Solution()\n",
    "print(sol.findTheDifference(s = \"abcd\", t = \"abcde\"))\n",
    "print(sol.findTheDifference(s = \"\", t = \"y\"))"
   ]
  },
  {
   "cell_type": "markdown",
   "id": "9cce051a",
   "metadata": {},
   "source": [
    "### Example: Find All Duplicates in an Array\n",
    "[442. Find All Duplicates in an Array](https://leetcode.com/problems/find-all-duplicates-in-an-array/)\n",
    "\n",
    "**Description:**\n",
    "\n",
    "Given an integer array nums of length n where all the integers of nums are in the range [1, n] and each integer appears once or twice, return an array of all the integers that appears twice.\n",
    "\n",
    "You must write an algorithm that runs in O(n) time and uses only constant extra space.\n",
    "\n",
    "**Note:**\n",
    "\n",
    "\n",
    "**Example1:**\n",
    "\n",
    "Input: nums = [4,3,2,7,8,2,3,1]\n",
    "\n",
    "Output: [2,3]\n",
    "\n",
    "\n",
    "**Example2:**\n",
    "\n",
    "Input: nums = [1,1,2]\n",
    "\n",
    "Output: [1]\n",
    "\n",
    "**Example3:**\n",
    "\n",
    "Input: nums = [1]\n",
    "\n",
    "Output: []"
   ]
  },
  {
   "cell_type": "code",
   "execution_count": 31,
   "id": "bc94feb9",
   "metadata": {},
   "outputs": [
    {
     "name": "stdout",
     "output_type": "stream",
     "text": [
      "[2, 3]\n",
      "[1]\n",
      "[]\n"
     ]
    }
   ],
   "source": [
    "class Solution:\n",
    "    def findDuplicates(self, nums: List[int]) -> List[int]:\n",
    "        hashmap = {}\n",
    "        result_ls = []\n",
    "        for num in nums:\n",
    "            hashmap[num] = hashmap.get(num, 0) + 1\n",
    "            if hashmap[num] == 2:\n",
    "                result_ls.append(num)\n",
    "        return result_ls\n",
    "\n",
    "sol = Solution()\n",
    "print(sol.findDuplicates(nums = [4,3,2,7,8,2,3,1]))\n",
    "print(sol.findDuplicates(nums = [1,1,2]))\n",
    "print(sol.findDuplicates(nums = [1]))\n",
    "        "
   ]
  },
  {
   "cell_type": "markdown",
   "id": "b75df33c",
   "metadata": {},
   "source": [
    "### Exercise: Find All Numbers Disappeared in an Array\n",
    "[448. Find All Numbers Disappeared in an Array](https://leetcode.com/problems/find-all-numbers-disappeared-in-an-array/)\n",
    "\n",
    "**Description:**\n",
    "\n",
    "Given an array nums of n integers where nums[i] is in the range [1, n], return an array of all the integers in the range [1, n] that do not appear in nums.\n",
    "\n",
    "**Note:**\n",
    "\n",
    "\n",
    "**Example1:**\n",
    "\n",
    "Input: nums = [4,3,2,7,8,2,3,1]\n",
    "\n",
    "Output: [5,6]\n",
    "\n",
    "\n",
    "**Example2:**\n",
    "\n",
    "Input: nums = [1,1]\n",
    "\n",
    "Output: [2]\n"
   ]
  },
  {
   "cell_type": "code",
   "execution_count": 32,
   "id": "21183eb1",
   "metadata": {},
   "outputs": [
    {
     "name": "stdout",
     "output_type": "stream",
     "text": [
      "[5, 6]\n",
      "[2]\n"
     ]
    }
   ],
   "source": [
    "class Solution:\n",
    "    def findDisappearedNumbers(self, nums: List[int]) -> List[int]:\n",
    "        set1 = set(nums)\n",
    "        set2 = set(range(1, len(nums) + 1))\n",
    "        return list(set2 - set1)\n",
    "\n",
    "sol = Solution()\n",
    "print(sol.findDisappearedNumbers(nums = [4,3,2,7,8,2,3,1]))\n",
    "print(sol.findDisappearedNumbers(nums = [1,1]))"
   ]
  },
  {
   "cell_type": "code",
   "execution_count": 33,
   "id": "8c981083",
   "metadata": {},
   "outputs": [
    {
     "name": "stdout",
     "output_type": "stream",
     "text": [
      "[5, 6]\n",
      "[2]\n"
     ]
    }
   ],
   "source": [
    "class Solution:\n",
    "    def findDisappearedNumbers(self, nums: List[int]) -> List[int]:\n",
    "        \"\"\"\n",
    "        :type nums: List[int]\n",
    "        :rtype: List[int]\n",
    "        \"\"\"\n",
    "        hashmap = {}\n",
    "        for e in nums:\n",
    "            if e not in hashmap:\n",
    "                hashmap[e] = 1\n",
    "            else:\n",
    "                hashmap[e] += 1\n",
    "        \n",
    "        res = []\n",
    "        for i in range(1, len(nums) + 1):\n",
    "            if i not in hashmap:\n",
    "                res.append(i)\n",
    "        return res\n",
    "    \n",
    "sol = Solution()\n",
    "print(sol.findDisappearedNumbers(nums = [4,3,2,7,8,2,3,1]))\n",
    "print(sol.findDisappearedNumbers(nums = [1,1]))"
   ]
  },
  {
   "cell_type": "markdown",
   "id": "42ffe1e9",
   "metadata": {},
   "source": [
    "### Exercise: Distribute Candies\n",
    "[575. Distribute Candies](https://leetcode.com/problems/distribute-candies/)\n",
    "\n",
    "**Description:**\n",
    "\n",
    "Alice has n candies, where the ith candy is of type candyType[i]. Alice noticed that she started to gain weight, so she visited a doctor.\n",
    "\n",
    "The doctor advised Alice to only eat n / 2 of the candies she has (n is always even). Alice likes her candies very much, and she wants to eat the maximum number of different types of candies while still following the doctor's advice.\n",
    "\n",
    "Given the integer array candyType of length n, return the maximum number of different types of candies she can eat if she only eats n / 2 of them.\n",
    "\n",
    "**Note:**\n",
    "\n",
    "\n",
    "**Example1:**\n",
    "\n",
    "Input: candyType = [1,1,2,2,3,3]\n",
    "\n",
    "Output: 3\n",
    "\n",
    "Explanation: Alice can only eat 6 / 2 = 3 candies. Since there are only 3 types, she can eat one of each type.\n",
    "\n",
    "\n",
    "**Example2:**\n",
    "\n",
    "Input: candyType = [1,1,2,3]\n",
    "\n",
    "Output: 2\n",
    "\n",
    "Explanation: Alice can only eat 4 / 2 = 2 candies. Whether she eats types [1,2], [1,3], or [2,3], she still can only eat 2 different types.\n",
    "\n",
    "**Example3:**\n",
    "\n",
    "Input: candyType = [6,6,6,6]\n",
    "\n",
    "Output: 1\n",
    "\n",
    "Explanation: Alice can only eat 4 / 2 = 2 candies. Even though she can eat 2 candies, she only has 1 type."
   ]
  },
  {
   "cell_type": "code",
   "execution_count": 36,
   "id": "69d5f2a8",
   "metadata": {},
   "outputs": [
    {
     "name": "stdout",
     "output_type": "stream",
     "text": [
      "3\n",
      "2\n",
      "1\n"
     ]
    }
   ],
   "source": [
    "class Solution:\n",
    "    def distributeCandies(self, candyType: List[int]) -> int:\n",
    "        set1 = set(candyType)\n",
    "        return min((len(candyType))//2, len(set1))\n",
    "\n",
    "sol = Solution()\n",
    "print(sol.distributeCandies(candyType = [1,1,2,2,3,3]))\n",
    "print(sol.distributeCandies(candyType = [1,1,2,3]))\n",
    "print(sol.distributeCandies(candyType = [6,6,6,6]))"
   ]
  },
  {
   "cell_type": "code",
   "execution_count": null,
   "id": "54391818",
   "metadata": {},
   "outputs": [],
   "source": []
  }
 ],
 "metadata": {
  "kernelspec": {
   "display_name": "Python 3 (ipykernel)",
   "language": "python",
   "name": "python3"
  },
  "language_info": {
   "codemirror_mode": {
    "name": "ipython",
    "version": 3
   },
   "file_extension": ".py",
   "mimetype": "text/x-python",
   "name": "python",
   "nbconvert_exporter": "python",
   "pygments_lexer": "ipython3",
   "version": "3.8.13"
  }
 },
 "nbformat": 4,
 "nbformat_minor": 5
}
