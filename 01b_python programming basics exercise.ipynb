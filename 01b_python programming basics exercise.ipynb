{
 "cells": [
  {
   "cell_type": "code",
   "execution_count": 1,
   "id": "85979a39",
   "metadata": {},
   "outputs": [],
   "source": [
    "from typing import *"
   ]
  },
  {
   "cell_type": "markdown",
   "id": "37b2d00e",
   "metadata": {},
   "source": [
    "### Example: Two Sum II - Input array is sorted\n",
    "[167. Two Sum II - Input Array Is Sorted](https://leetcode.com/problems/two-sum-ii-input-array-is-sorted/)\n",
    "\n",
    "**Description:**\n",
    "\n",
    "Given a 1-indexed array of integers numbers that is already sorted in non-decreasing order, find two numbers such that they add up to a specific target number. Let these two numbers be numbers[index1] and numbers[index2] where 1 <= index1 < index2 <= numbers.length.\n",
    "\n",
    "Return the indices of the two numbers, index1 and index2, added by one as an integer array [index1, index2] of length 2.\n",
    "\n",
    "The tests are generated such that there is exactly one solution. You may not use the same element twice.\n",
    "\n",
    "Your solution must use only constant extra space.\n",
    "\n",
    "**Note:**\n",
    "\n",
    "Your returned answers (both index1 and index2) are not zero-based.\n",
    "\n",
    "You may assume that each input would have exactly one solution and you may not use the same element twice.\n",
    "\n",
    "**Example :**\n",
    "\n",
    "Input: numbers = [2,7,11,15], target = 9\n",
    "\n",
    "Output: [1,2]\n",
    "\n",
    "Explanation: The sum of 2 and 7 is 9. Therefore index1 = 1, index2 = 2."
   ]
  },
  {
   "cell_type": "code",
   "execution_count": 2,
   "id": "785a07d5",
   "metadata": {},
   "outputs": [
    {
     "name": "stdout",
     "output_type": "stream",
     "text": [
      "[1, 2]\n",
      "[1, 3]\n",
      "[1, 2]\n",
      "[1, 2]\n",
      "[2, 3]\n"
     ]
    }
   ],
   "source": [
    "class Solution:\n",
    "    def twoSum(self, numbers: List[int], target: int) -> List[int]:\n",
    "        hashmap = {}\n",
    "        \n",
    "        for index, value in enumerate(numbers):\n",
    "            hashmap[value] = index\n",
    "        \n",
    "        for index, value in enumerate(numbers):\n",
    "            if target - value in hashmap:\n",
    "                # not necessary as long as in the index comparison below using < or > only\n",
    "                # note the array is ascending\n",
    "                if index == hashmap[target - value]: \n",
    "                    continue\n",
    "                else:\n",
    "                    if index < hashmap[target - value]:\n",
    "                        return [index + 1, hashmap[target - value] + 1 ]\n",
    "                    else:\n",
    "                        return [hashmap[target - value] + 1, index + 1]\n",
    "\n",
    "sol = Solution()\n",
    "print(sol.twoSum([2,7,11,15], 9))\n",
    "print(sol.twoSum([2,3,4], 6))\n",
    "print(sol.twoSum([-1,0], -1))\n",
    "print(sol.twoSum([3,3,4,5], 6))\n",
    "print(sol.twoSum([3,2,4], 6))"
   ]
  },
  {
   "cell_type": "markdown",
   "id": "e1261db7",
   "metadata": {},
   "source": [
    "### Example: Contains Duplicate II\n",
    "[219. Contains Duplicate II](https://leetcode.com/problems/contains-duplicate-ii/)\n",
    "\n",
    "**Description:**\n",
    "\n",
    "Given an integer array nums and an integer k, return true if there are two distinct indices i and j in the array such that nums[i] == nums[j] and abs(i - j) <= k.\n",
    "\n",
    "**Note:**\n",
    "\n",
    "\n",
    "**Example1:**\n",
    "\n",
    "Input: nums = [1,2,3,1], k = 3\n",
    "\n",
    "Output: true\n",
    "\n",
    "**Example2:**\n",
    "\n",
    "Input: nums = [1,0,1,1], k = 1\n",
    "\n",
    "Output: true\n",
    "\n",
    "**Example3:**\n",
    "\n",
    "Input: nums = [1,2,3,1,2,3], k = 2\n",
    "\n",
    "Output: false"
   ]
  },
  {
   "cell_type": "code",
   "execution_count": 3,
   "id": "e29697fc",
   "metadata": {},
   "outputs": [
    {
     "name": "stdout",
     "output_type": "stream",
     "text": [
      "True\n",
      "True\n",
      "False\n"
     ]
    }
   ],
   "source": [
    "class Solution:\n",
    "    def containsNearbyDuplicate(self, nums: List[int], k: int) -> bool:\n",
    "        hashmap = {}\n",
    "        for index in range(len(nums)):\n",
    "            if nums[index] in hashmap:\n",
    "                if abs(index - hashmap[nums[index]]) <= k:\n",
    "                    return True\n",
    "                else:\n",
    "                    #if the value is in hashmap, we still need to update the index \n",
    "                    #since we want the index difference as small as possible.\n",
    "                    hashmap[nums[index]] = index\n",
    "            else:\n",
    "                hashmap[nums[index]] = index\n",
    "        \n",
    "        return False\n",
    "\n",
    "sol = Solution()\n",
    "print(sol.containsNearbyDuplicate(nums = [1,2,3,1], k = 3))\n",
    "print(sol.containsNearbyDuplicate(nums = [1,0,1,1], k = 1))\n",
    "print(sol.containsNearbyDuplicate(nums = [1,2,3,1,2,3], k = 2))"
   ]
  },
  {
   "cell_type": "markdown",
   "id": "b28a545c",
   "metadata": {},
   "source": [
    "### Example: Valid Anagram\n",
    "[242. Valid Anagram](https://leetcode.com/problems/valid-anagram/)\n",
    "\n",
    "**Description:**\n",
    "\n",
    "Given two strings s and t, return true if t is an anagram of s, and false otherwise.\n",
    "\n",
    "An Anagram is a word or phrase formed by rearranging the letters of a different word or phrase, typically using all the original letters exactly once.\n",
    "\n",
    "**Note:**\n",
    "\n",
    "You may assume the string contains only lowercase alphabets.\n",
    "\n",
    "**Example1:**\n",
    "\n",
    "Input: s = \"anagram\", t = \"nagaram\"\n",
    "\n",
    "Output: true\n",
    "\n",
    "**Example2:**\n",
    "\n",
    "Input: s = \"rat\", t = \"car\"\n",
    "\n",
    "Output: false\n"
   ]
  },
  {
   "cell_type": "code",
   "execution_count": 14,
   "id": "0d183573",
   "metadata": {},
   "outputs": [
    {
     "name": "stdout",
     "output_type": "stream",
     "text": [
      "True\n",
      "False\n",
      "False\n"
     ]
    }
   ],
   "source": [
    "class Solution:\n",
    "    def isAnagram(self, s: str, t: str) -> bool:\n",
    "        if len(s) != len(t) or set(s) != set (t):\n",
    "            return False\n",
    "\n",
    "        hashmap = {}\n",
    "        for char in s:\n",
    "            if char not in hashmap:\n",
    "                hashmap[char] = 1\n",
    "            else:\n",
    "                hashmap[char] += 1\n",
    "\n",
    "        for char in t:\n",
    "            if char not in hashmap:\n",
    "                return False\n",
    "            else:\n",
    "                hashmap[char] -= 1\n",
    "\n",
    "        return not any(hashmap.values())  # any() returns False if all elements are False/0\n",
    "\n",
    "sol = Solution()\n",
    "print(sol.isAnagram(s = \"anagram\", t = \"nagaram\"))\n",
    "print(sol.isAnagram(s = \"rat\", t = \"car\"))\n",
    "print(sol.isAnagram(s = \"aacc\", t = \"ccac\"))"
   ]
  },
  {
   "cell_type": "code",
   "execution_count": 11,
   "id": "0df90642",
   "metadata": {},
   "outputs": [
    {
     "data": {
      "text/plain": [
       "True"
      ]
     },
     "execution_count": 11,
     "metadata": {},
     "output_type": "execute_result"
    }
   ],
   "source": [
    "any([0, -1])"
   ]
  },
  {
   "cell_type": "markdown",
   "id": "84cd44bc",
   "metadata": {},
   "source": [
    "### Example: Missing Number\n",
    "[268. Missing Number](https://leetcode.com/problems/missing-number/)\n",
    "\n",
    "**Description:**\n",
    "\n",
    "Given an array nums containing n distinct numbers in the range [0, n], return the only number in the range that is missing from the array.\n",
    "\n",
    "**Note:**\n",
    "\n",
    "Your algorithm should run in linear runtime complexity. Could you implement it using only constant extra space complexity?\n",
    "\n",
    "**Example1:**\n",
    "\n",
    "Input: nums = [3,0,1]\n",
    "\n",
    "Output: 2\n",
    "\n",
    "Explanation: n = 3 since there are 3 numbers, so all numbers are in the range [0,3]. 2 is the missing number in the range since it does not appear in nums.\n",
    "\n",
    "**Example2:**\n",
    "\n",
    "Input: nums = [0,1]\n",
    "\n",
    "Output: 2\n",
    "\n",
    "Explanation: n = 2 since there are 2 numbers, so all numbers are in the range [0,2]. 2 is the missing number in the range since it does not appear in nums.\n",
    "\n",
    "**Example3:**\n",
    "\n",
    "Input: nums = [9,6,4,2,3,5,7,0,1]\n",
    "\n",
    "Output: 8\n",
    "\n",
    "Explanation: n = 9 since there are 9 numbers, so all numbers are in the range [0,9]. 8 is the missing number in the range since it does not appear in nums."
   ]
  },
  {
   "cell_type": "code",
   "execution_count": 22,
   "id": "880a229f",
   "metadata": {},
   "outputs": [
    {
     "name": "stdout",
     "output_type": "stream",
     "text": [
      "2\n",
      "2\n",
      "8\n"
     ]
    }
   ],
   "source": [
    "class Solution:\n",
    "    def missingNumber(self, nums: List[int]) -> int:\n",
    "        n = len(nums)\n",
    "        s = set(range(n + 1))\n",
    "        delta_ls = list(s - set(nums))\n",
    "        return delta_ls[0]\n",
    "    \n",
    "sol = Solution()\n",
    "nums_ls = [[3,0,1],\n",
    "          [0,1],\n",
    "          [9,6,4,2,3,5,7,0,1]]\n",
    "for nums in nums_ls:\n",
    "    print(sol.missingNumber(nums))"
   ]
  },
  {
   "cell_type": "code",
   "execution_count": 23,
   "id": "2c8fcf15",
   "metadata": {},
   "outputs": [
    {
     "name": "stdout",
     "output_type": "stream",
     "text": [
      "2\n",
      "2\n",
      "8\n"
     ]
    }
   ],
   "source": [
    "class Solution:\n",
    "    def missingNumber(self, nums: List[int]) -> int:\n",
    "        s = set(nums)\n",
    "        for i in range(len(nums) + 1):\n",
    "            if i not in s:\n",
    "                return i\n",
    "sol = Solution()\n",
    "nums_ls = [[3,0,1],\n",
    "          [0,1],\n",
    "          [9,6,4,2,3,5,7,0,1]]\n",
    "for nums in nums_ls:\n",
    "    print(sol.missingNumber(nums))"
   ]
  },
  {
   "cell_type": "code",
   "execution_count": null,
   "id": "66ed1768",
   "metadata": {},
   "outputs": [],
   "source": []
  }
 ],
 "metadata": {
  "kernelspec": {
   "display_name": "Python 3 (ipykernel)",
   "language": "python",
   "name": "python3"
  },
  "language_info": {
   "codemirror_mode": {
    "name": "ipython",
    "version": 3
   },
   "file_extension": ".py",
   "mimetype": "text/x-python",
   "name": "python",
   "nbconvert_exporter": "python",
   "pygments_lexer": "ipython3",
   "version": "3.8.13"
  }
 },
 "nbformat": 4,
 "nbformat_minor": 5
}
